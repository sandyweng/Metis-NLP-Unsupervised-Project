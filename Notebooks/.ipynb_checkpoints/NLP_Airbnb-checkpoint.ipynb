{
 "cells": [
  {
   "cell_type": "code",
   "execution_count": 14,
   "id": "extra-shirt",
   "metadata": {},
   "outputs": [],
   "source": [
    "# import libraries\n",
    "\n",
    "import re\n",
    "import string\n",
    "import pandas as pd\n",
    "import numpy as np\n",
    "import nltk\n",
    "import matplotlib.pyplot as plt\n",
    "%matplotlib inline\n",
    "import seaborn as sns\n",
    "from nltk.tokenize import sent_tokenize, word_tokenize\n",
    "from sklearn.feature_extraction.text import TfidfVectorizer, CountVectorizer"
   ]
  },
  {
   "cell_type": "code",
   "execution_count": 2,
   "id": "according-nicholas",
   "metadata": {},
   "outputs": [],
   "source": [
    "# read in dataset\n",
    "df = pd.read_csv('reviews_english.csv')"
   ]
  },
  {
   "cell_type": "code",
   "execution_count": 3,
   "id": "protected-tampa",
   "metadata": {
    "scrolled": true
   },
   "outputs": [
    {
     "data": {
      "text/html": [
       "<div>\n",
       "<style scoped>\n",
       "    .dataframe tbody tr th:only-of-type {\n",
       "        vertical-align: middle;\n",
       "    }\n",
       "\n",
       "    .dataframe tbody tr th {\n",
       "        vertical-align: top;\n",
       "    }\n",
       "\n",
       "    .dataframe thead th {\n",
       "        text-align: right;\n",
       "    }\n",
       "</style>\n",
       "<table border=\"1\" class=\"dataframe\">\n",
       "  <thead>\n",
       "    <tr style=\"text-align: right;\">\n",
       "      <th></th>\n",
       "      <th>listing_id</th>\n",
       "      <th>id</th>\n",
       "      <th>date</th>\n",
       "      <th>reviewer_id</th>\n",
       "      <th>reviewer_name</th>\n",
       "      <th>comments</th>\n",
       "    </tr>\n",
       "  </thead>\n",
       "  <tbody>\n",
       "    <tr>\n",
       "      <th>0</th>\n",
       "      <td>2595</td>\n",
       "      <td>19760</td>\n",
       "      <td>2009-12-10</td>\n",
       "      <td>38960</td>\n",
       "      <td>Anita</td>\n",
       "      <td>ive stayed with my friend at the midtown castl...</td>\n",
       "    </tr>\n",
       "    <tr>\n",
       "      <th>1</th>\n",
       "      <td>2595</td>\n",
       "      <td>34320</td>\n",
       "      <td>2010-04-09</td>\n",
       "      <td>71130</td>\n",
       "      <td>Kai-Uwe</td>\n",
       "      <td>weve been staying here for about   nights enjo...</td>\n",
       "    </tr>\n",
       "    <tr>\n",
       "      <th>2</th>\n",
       "      <td>2595</td>\n",
       "      <td>46312</td>\n",
       "      <td>2010-05-25</td>\n",
       "      <td>117113</td>\n",
       "      <td>Alicia</td>\n",
       "      <td>we had a wonderful stay at jennifers charming ...</td>\n",
       "    </tr>\n",
       "    <tr>\n",
       "      <th>3</th>\n",
       "      <td>2595</td>\n",
       "      <td>1238204</td>\n",
       "      <td>2012-05-07</td>\n",
       "      <td>1783688</td>\n",
       "      <td>Sergey</td>\n",
       "      <td>hi to everyone\\r would say our greatest compli...</td>\n",
       "    </tr>\n",
       "    <tr>\n",
       "      <th>4</th>\n",
       "      <td>2595</td>\n",
       "      <td>1293632</td>\n",
       "      <td>2012-05-17</td>\n",
       "      <td>1870771</td>\n",
       "      <td>Loïc</td>\n",
       "      <td>jennifer was very friendly and helpful and her...</td>\n",
       "    </tr>\n",
       "  </tbody>\n",
       "</table>\n",
       "</div>"
      ],
      "text/plain": [
       "   listing_id       id        date  reviewer_id reviewer_name  \\\n",
       "0        2595    19760  2009-12-10        38960         Anita   \n",
       "1        2595    34320  2010-04-09        71130       Kai-Uwe   \n",
       "2        2595    46312  2010-05-25       117113        Alicia   \n",
       "3        2595  1238204  2012-05-07      1783688        Sergey   \n",
       "4        2595  1293632  2012-05-17      1870771          Loïc   \n",
       "\n",
       "                                            comments  \n",
       "0  ive stayed with my friend at the midtown castl...  \n",
       "1  weve been staying here for about   nights enjo...  \n",
       "2  we had a wonderful stay at jennifers charming ...  \n",
       "3  hi to everyone\\r would say our greatest compli...  \n",
       "4  jennifer was very friendly and helpful and her...  "
      ]
     },
     "execution_count": 3,
     "metadata": {},
     "output_type": "execute_result"
    }
   ],
   "source": [
    "df.head()"
   ]
  },
  {
   "cell_type": "code",
   "execution_count": 8,
   "id": "mounted-classic",
   "metadata": {},
   "outputs": [],
   "source": [
    "# drop rows with null values\n",
    "df.dropna(inplace=True)"
   ]
  },
  {
   "cell_type": "code",
   "execution_count": 25,
   "id": "accomplished-rouge",
   "metadata": {},
   "outputs": [],
   "source": [
    "stopwords = nltk.corpus.stopwords.words('english')\n",
    "newStopWords = ['nyc','york', 'stayed', 'really', 'person', 'definitely', 'thank', 'thanks', 'staying', 'looking', 'just', 'stay',\n",
    "               'also', 'get', 'would', 'aa', 'aaa', 'aaaa', 'aaaaa', 'us', 'great', 'mirco', 'snes', 'myrdith', 'chandra', 'place', \n",
    "               'dolores', 'chen', 'even', 'monifa', 'dalton', 'well', 'mk', 'made', 'sahr', 'jt', 'thiago', 'hanna', 'shelly', 'faye',\n",
    "               'jamilya', 'bertha', 'aya', 'loyda', 'mete', 'tiziana', 'curtis', 'haythem', 'tio', 'however', 'bit', 'regina', 'erica',\n",
    "               'jenn','edgar', 'jeffrey', 'antonio', 'beatrix', 'tina', 'jesse', 'sammy', 'monika', 'freda', 'kelvin', 'sadie', 'mo',\n",
    "               'aleksandra', 'elvin', 'farhan', 'jhon', 'jade', 'barry', 'ingrid', 'kem', 'heide', 'je', 'nice', 'like', 'nathan', 'chad',\n",
    "               'yochi', 'raquel', 'kent', 'zach', 'christa', 'pamela', 'maralla', 'richelle', 'jeannie', 'bernardo', 'kyisvu', 'lauren',\n",
    "               'gina', 'lucien', 'gus', 'herman', 'darnell', 'wasnt', 'joseph', 'iso', 'emily', 'tracy', 'lynn', 'charlene', 'ronnie', \n",
    "               'rosa', 'jackie', 'reka', 'dante', 'dominik', 'rhita', 'pela', 'mia', 'martin', 'sean', 'sara', 'kimberley', 'alexandre', \n",
    "               'though', 'soon', 'victor', 'caroline', 'viviana', 'ron', 'matt', 'nick', 'tim', 'robin', 'monica', 'xavier', 'patricia',\n",
    "               'marjorie', 'teddy', 'maxime', 'loli', 'blanca', 'andressa', 'paulo', 'stacey', 'gillian', 'ross', 'dani', 'susi', 'agnes',\n",
    "               'javier', 'charisse', 'didnt', 'susi', 'lisas', 'christa', 'elle', 'ever', 'lakshan', 'yuval', 'laurenta', 'everything', \n",
    "               'jalen', 'albert', 'joe', 'lucilu', 'greg', 'conrad', 'jeff', 'frances', 'zachs', 'nadir', 'cara', 'olzhas', 'rena',\n",
    "               'petra', 'kat', 'laurens', 'gane', 'charles', 'martha', 'nora', 'jared', 'britt', 'abe', 'carrie', 'penny', 'harvin',\n",
    "               'lory', 'vikas', 'remi', 'tonia', 'svetlana', 'seans','holly', 'got', 'dont', 'know', 'let', 'could', 'absolutely',\n",
    "               'take', 'youre', 'quite', 'need', 'want', 'day', 'back', 'gave', 'enough', 'airbnb', 'anyone', 'ok', 'brooklyn', 'perfect',\n",
    "               'highly', 'amazing', 'location', 'manhattan', 'good', 'night', 'super', 'one', 'overall', 'two', 'say', 'another', 'said', \n",
    "               'people', 'awesome', 'highly', 'loved', 'enjoyed', 'spot', 'excellent', 'lovely', 'time', 'feel', 'sure', 'wonderful', 'recommend',\n",
    "               'recommended', 'upon', 'home', 'everyone', 'friends', 'apartment', 'beautiful', 'located', 'fantastic', 'needed', 'quick', 'quickly',\n",
    "               'may', 'high', 'due', 'long', 'things', 'city', 'trip', 'family', 'next', 'every', 'much', 'minutes', 'much', 'felt', 'check', 'use', 'easy',\n",
    "               'first', 'luggage', 'since', 'hours', 'able', 'never', 'go', 'best', 'see', 'house', 'lot', 'found', 'always', 'went', 'way',\n",
    "               'nights', 'without', 'took', 'think', 'still', 'week', 'spent', 'told', 'find', 'guests', 'especially', 'make', 'visit',\n",
    "               'better', 'met','experience', 'arrived','late','left','experience','morning','provided','early','flight','leave','came', 'jennifer', 'ive', \n",
    "               'thrice', 'wszystko' ]\n",
    "stopwords.extend(newStopWords)"
   ]
  },
  {
   "cell_type": "code",
   "execution_count": 11,
   "id": "martial-renewal",
   "metadata": {},
   "outputs": [],
   "source": [
    "# create column without stopwords\n",
    "df['no_stopwords'] = df['comments'].apply(lambda x: ' '.join([word for word in x.split() if word not in (stopwords)]))"
   ]
  },
  {
   "cell_type": "code",
   "execution_count": 12,
   "id": "liberal-longitude",
   "metadata": {},
   "outputs": [
    {
     "data": {
      "text/html": [
       "<div>\n",
       "<style scoped>\n",
       "    .dataframe tbody tr th:only-of-type {\n",
       "        vertical-align: middle;\n",
       "    }\n",
       "\n",
       "    .dataframe tbody tr th {\n",
       "        vertical-align: top;\n",
       "    }\n",
       "\n",
       "    .dataframe thead th {\n",
       "        text-align: right;\n",
       "    }\n",
       "</style>\n",
       "<table border=\"1\" class=\"dataframe\">\n",
       "  <thead>\n",
       "    <tr style=\"text-align: right;\">\n",
       "      <th></th>\n",
       "      <th>listing_id</th>\n",
       "      <th>id</th>\n",
       "      <th>date</th>\n",
       "      <th>reviewer_id</th>\n",
       "      <th>reviewer_name</th>\n",
       "      <th>comments</th>\n",
       "      <th>no_stopwords</th>\n",
       "    </tr>\n",
       "  </thead>\n",
       "  <tbody>\n",
       "    <tr>\n",
       "      <th>0</th>\n",
       "      <td>2595</td>\n",
       "      <td>19760</td>\n",
       "      <td>2009-12-10</td>\n",
       "      <td>38960</td>\n",
       "      <td>Anita</td>\n",
       "      <td>ive stayed with my friend at the midtown castl...</td>\n",
       "      <td>ive friend midtown castle six days big spaciou...</td>\n",
       "    </tr>\n",
       "    <tr>\n",
       "      <th>1</th>\n",
       "      <td>2595</td>\n",
       "      <td>34320</td>\n",
       "      <td>2010-04-09</td>\n",
       "      <td>71130</td>\n",
       "      <td>Kai-Uwe</td>\n",
       "      <td>weve been staying here for about   nights enjo...</td>\n",
       "      <td>weve enjoying center sleepsshort ways everywhe...</td>\n",
       "    </tr>\n",
       "    <tr>\n",
       "      <th>2</th>\n",
       "      <td>2595</td>\n",
       "      <td>46312</td>\n",
       "      <td>2010-05-25</td>\n",
       "      <td>117113</td>\n",
       "      <td>Alicia</td>\n",
       "      <td>we had a wonderful stay at jennifers charming ...</td>\n",
       "      <td>jennifers charming organized helpful midtown c...</td>\n",
       "    </tr>\n",
       "    <tr>\n",
       "      <th>3</th>\n",
       "      <td>2595</td>\n",
       "      <td>1238204</td>\n",
       "      <td>2012-05-07</td>\n",
       "      <td>1783688</td>\n",
       "      <td>Sergey</td>\n",
       "      <td>hi to everyone\\r would say our greatest compli...</td>\n",
       "      <td>hi greatest compliments jennifer host midtown ...</td>\n",
       "    </tr>\n",
       "    <tr>\n",
       "      <th>4</th>\n",
       "      <td>2595</td>\n",
       "      <td>1293632</td>\n",
       "      <td>2012-05-17</td>\n",
       "      <td>1870771</td>\n",
       "      <td>Loïc</td>\n",
       "      <td>jennifer was very friendly and helpful and her...</td>\n",
       "      <td>jennifer friendly helpful exactly advertised c...</td>\n",
       "    </tr>\n",
       "  </tbody>\n",
       "</table>\n",
       "</div>"
      ],
      "text/plain": [
       "   listing_id       id        date  reviewer_id reviewer_name  \\\n",
       "0        2595    19760  2009-12-10        38960         Anita   \n",
       "1        2595    34320  2010-04-09        71130       Kai-Uwe   \n",
       "2        2595    46312  2010-05-25       117113        Alicia   \n",
       "3        2595  1238204  2012-05-07      1783688        Sergey   \n",
       "4        2595  1293632  2012-05-17      1870771          Loïc   \n",
       "\n",
       "                                            comments  \\\n",
       "0  ive stayed with my friend at the midtown castl...   \n",
       "1  weve been staying here for about   nights enjo...   \n",
       "2  we had a wonderful stay at jennifers charming ...   \n",
       "3  hi to everyone\\r would say our greatest compli...   \n",
       "4  jennifer was very friendly and helpful and her...   \n",
       "\n",
       "                                        no_stopwords  \n",
       "0  ive friend midtown castle six days big spaciou...  \n",
       "1  weve enjoying center sleepsshort ways everywhe...  \n",
       "2  jennifers charming organized helpful midtown c...  \n",
       "3  hi greatest compliments jennifer host midtown ...  \n",
       "4  jennifer friendly helpful exactly advertised c...  "
      ]
     },
     "execution_count": 12,
     "metadata": {},
     "output_type": "execute_result"
    }
   ],
   "source": [
    "df.head()"
   ]
  },
  {
   "cell_type": "code",
   "execution_count": 51,
   "id": "adaptive-eligibility",
   "metadata": {},
   "outputs": [],
   "source": [
    "df.drop(columns=['comments_length', 'len_comments_no_stop', 'list_comments_no_stop'], inplace=True)"
   ]
  },
  {
   "cell_type": "code",
   "execution_count": 52,
   "id": "pleasant-somalia",
   "metadata": {},
   "outputs": [
    {
     "data": {
      "text/html": [
       "<div>\n",
       "<style scoped>\n",
       "    .dataframe tbody tr th:only-of-type {\n",
       "        vertical-align: middle;\n",
       "    }\n",
       "\n",
       "    .dataframe tbody tr th {\n",
       "        vertical-align: top;\n",
       "    }\n",
       "\n",
       "    .dataframe thead th {\n",
       "        text-align: right;\n",
       "    }\n",
       "</style>\n",
       "<table border=\"1\" class=\"dataframe\">\n",
       "  <thead>\n",
       "    <tr style=\"text-align: right;\">\n",
       "      <th></th>\n",
       "      <th>listing_id</th>\n",
       "      <th>id</th>\n",
       "      <th>date</th>\n",
       "      <th>reviewer_id</th>\n",
       "      <th>reviewer_name</th>\n",
       "      <th>comments</th>\n",
       "      <th>no_stopwords</th>\n",
       "    </tr>\n",
       "  </thead>\n",
       "  <tbody>\n",
       "    <tr>\n",
       "      <th>0</th>\n",
       "      <td>2595</td>\n",
       "      <td>19760</td>\n",
       "      <td>2009-12-10</td>\n",
       "      <td>38960</td>\n",
       "      <td>Anita</td>\n",
       "      <td>ive stayed with my friend at the midtown castl...</td>\n",
       "      <td>ive friend midtown castle six days big spaciou...</td>\n",
       "    </tr>\n",
       "    <tr>\n",
       "      <th>1</th>\n",
       "      <td>2595</td>\n",
       "      <td>34320</td>\n",
       "      <td>2010-04-09</td>\n",
       "      <td>71130</td>\n",
       "      <td>Kai-Uwe</td>\n",
       "      <td>weve been staying here for about   nights enjo...</td>\n",
       "      <td>weve enjoying center sleepsshort ways everywhe...</td>\n",
       "    </tr>\n",
       "    <tr>\n",
       "      <th>2</th>\n",
       "      <td>2595</td>\n",
       "      <td>46312</td>\n",
       "      <td>2010-05-25</td>\n",
       "      <td>117113</td>\n",
       "      <td>Alicia</td>\n",
       "      <td>we had a wonderful stay at jennifers charming ...</td>\n",
       "      <td>jennifers charming organized helpful midtown c...</td>\n",
       "    </tr>\n",
       "    <tr>\n",
       "      <th>3</th>\n",
       "      <td>2595</td>\n",
       "      <td>1238204</td>\n",
       "      <td>2012-05-07</td>\n",
       "      <td>1783688</td>\n",
       "      <td>Sergey</td>\n",
       "      <td>hi to everyone\\r would say our greatest compli...</td>\n",
       "      <td>hi greatest compliments jennifer host midtown ...</td>\n",
       "    </tr>\n",
       "    <tr>\n",
       "      <th>4</th>\n",
       "      <td>2595</td>\n",
       "      <td>1293632</td>\n",
       "      <td>2012-05-17</td>\n",
       "      <td>1870771</td>\n",
       "      <td>Loïc</td>\n",
       "      <td>jennifer was very friendly and helpful and her...</td>\n",
       "      <td>jennifer friendly helpful exactly advertised c...</td>\n",
       "    </tr>\n",
       "  </tbody>\n",
       "</table>\n",
       "</div>"
      ],
      "text/plain": [
       "   listing_id       id        date  reviewer_id reviewer_name  \\\n",
       "0        2595    19760  2009-12-10        38960         Anita   \n",
       "1        2595    34320  2010-04-09        71130       Kai-Uwe   \n",
       "2        2595    46312  2010-05-25       117113        Alicia   \n",
       "3        2595  1238204  2012-05-07      1783688        Sergey   \n",
       "4        2595  1293632  2012-05-17      1870771          Loïc   \n",
       "\n",
       "                                            comments  \\\n",
       "0  ive stayed with my friend at the midtown castl...   \n",
       "1  weve been staying here for about   nights enjo...   \n",
       "2  we had a wonderful stay at jennifers charming ...   \n",
       "3  hi to everyone\\r would say our greatest compli...   \n",
       "4  jennifer was very friendly and helpful and her...   \n",
       "\n",
       "                                        no_stopwords  \n",
       "0  ive friend midtown castle six days big spaciou...  \n",
       "1  weve enjoying center sleepsshort ways everywhe...  \n",
       "2  jennifers charming organized helpful midtown c...  \n",
       "3  hi greatest compliments jennifer host midtown ...  \n",
       "4  jennifer friendly helpful exactly advertised c...  "
      ]
     },
     "execution_count": 52,
     "metadata": {},
     "output_type": "execute_result"
    }
   ],
   "source": [
    "df.head()"
   ]
  },
  {
   "cell_type": "code",
   "execution_count": 53,
   "id": "recovered-saint",
   "metadata": {},
   "outputs": [],
   "source": [
    "# save dataframe\n",
    "df.to_csv('reviews_nlp.csv', index=False)"
   ]
  },
  {
   "cell_type": "code",
   "execution_count": 2,
   "id": "characteristic-psychology",
   "metadata": {},
   "outputs": [],
   "source": [
    "df = pd.read_csv('reviews_nlp.csv')"
   ]
  },
  {
   "cell_type": "code",
   "execution_count": 3,
   "id": "physical-matter",
   "metadata": {},
   "outputs": [
    {
     "data": {
      "text/html": [
       "<div>\n",
       "<style scoped>\n",
       "    .dataframe tbody tr th:only-of-type {\n",
       "        vertical-align: middle;\n",
       "    }\n",
       "\n",
       "    .dataframe tbody tr th {\n",
       "        vertical-align: top;\n",
       "    }\n",
       "\n",
       "    .dataframe thead th {\n",
       "        text-align: right;\n",
       "    }\n",
       "</style>\n",
       "<table border=\"1\" class=\"dataframe\">\n",
       "  <thead>\n",
       "    <tr style=\"text-align: right;\">\n",
       "      <th></th>\n",
       "      <th>listing_id</th>\n",
       "      <th>id</th>\n",
       "      <th>date</th>\n",
       "      <th>reviewer_id</th>\n",
       "      <th>reviewer_name</th>\n",
       "      <th>comments</th>\n",
       "      <th>no_stopwords</th>\n",
       "    </tr>\n",
       "  </thead>\n",
       "  <tbody>\n",
       "    <tr>\n",
       "      <th>0</th>\n",
       "      <td>2595</td>\n",
       "      <td>19760</td>\n",
       "      <td>2009-12-10</td>\n",
       "      <td>38960</td>\n",
       "      <td>Anita</td>\n",
       "      <td>ive stayed with my friend at the midtown castl...</td>\n",
       "      <td>ive friend midtown castle six days big spaciou...</td>\n",
       "    </tr>\n",
       "    <tr>\n",
       "      <th>1</th>\n",
       "      <td>2595</td>\n",
       "      <td>34320</td>\n",
       "      <td>2010-04-09</td>\n",
       "      <td>71130</td>\n",
       "      <td>Kai-Uwe</td>\n",
       "      <td>weve been staying here for about   nights enjo...</td>\n",
       "      <td>weve enjoying center sleepsshort ways everywhe...</td>\n",
       "    </tr>\n",
       "    <tr>\n",
       "      <th>2</th>\n",
       "      <td>2595</td>\n",
       "      <td>46312</td>\n",
       "      <td>2010-05-25</td>\n",
       "      <td>117113</td>\n",
       "      <td>Alicia</td>\n",
       "      <td>we had a wonderful stay at jennifers charming ...</td>\n",
       "      <td>jennifers charming organized helpful midtown c...</td>\n",
       "    </tr>\n",
       "    <tr>\n",
       "      <th>3</th>\n",
       "      <td>2595</td>\n",
       "      <td>1238204</td>\n",
       "      <td>2012-05-07</td>\n",
       "      <td>1783688</td>\n",
       "      <td>Sergey</td>\n",
       "      <td>hi to everyone\\r would say our greatest compli...</td>\n",
       "      <td>hi greatest compliments jennifer host midtown ...</td>\n",
       "    </tr>\n",
       "    <tr>\n",
       "      <th>4</th>\n",
       "      <td>2595</td>\n",
       "      <td>1293632</td>\n",
       "      <td>2012-05-17</td>\n",
       "      <td>1870771</td>\n",
       "      <td>Loïc</td>\n",
       "      <td>jennifer was very friendly and helpful and her...</td>\n",
       "      <td>jennifer friendly helpful exactly advertised c...</td>\n",
       "    </tr>\n",
       "  </tbody>\n",
       "</table>\n",
       "</div>"
      ],
      "text/plain": [
       "   listing_id       id        date  reviewer_id reviewer_name  \\\n",
       "0        2595    19760  2009-12-10        38960         Anita   \n",
       "1        2595    34320  2010-04-09        71130       Kai-Uwe   \n",
       "2        2595    46312  2010-05-25       117113        Alicia   \n",
       "3        2595  1238204  2012-05-07      1783688        Sergey   \n",
       "4        2595  1293632  2012-05-17      1870771          Loïc   \n",
       "\n",
       "                                            comments  \\\n",
       "0  ive stayed with my friend at the midtown castl...   \n",
       "1  weve been staying here for about   nights enjo...   \n",
       "2  we had a wonderful stay at jennifers charming ...   \n",
       "3  hi to everyone\\r would say our greatest compli...   \n",
       "4  jennifer was very friendly and helpful and her...   \n",
       "\n",
       "                                        no_stopwords  \n",
       "0  ive friend midtown castle six days big spaciou...  \n",
       "1  weve enjoying center sleepsshort ways everywhe...  \n",
       "2  jennifers charming organized helpful midtown c...  \n",
       "3  hi greatest compliments jennifer host midtown ...  \n",
       "4  jennifer friendly helpful exactly advertised c...  "
      ]
     },
     "execution_count": 3,
     "metadata": {},
     "output_type": "execute_result"
    }
   ],
   "source": [
    "df.head()"
   ]
  },
  {
   "cell_type": "code",
   "execution_count": 7,
   "id": "regulated-lightweight",
   "metadata": {},
   "outputs": [
    {
     "data": {
      "text/plain": [
       "listing_id        int64\n",
       "id                int64\n",
       "date             object\n",
       "reviewer_id       int64\n",
       "reviewer_name    object\n",
       "comments         object\n",
       "no_stopwords     object\n",
       "dtype: object"
      ]
     },
     "execution_count": 7,
     "metadata": {},
     "output_type": "execute_result"
    }
   ],
   "source": [
    "df.dtypes"
   ]
  },
  {
   "cell_type": "code",
   "execution_count": 4,
   "id": "conservative-princess",
   "metadata": {},
   "outputs": [],
   "source": [
    "df.no_stopwords = df.no_stopwords.astype('str')"
   ]
  },
  {
   "cell_type": "code",
   "execution_count": 5,
   "id": "resistant-plenty",
   "metadata": {},
   "outputs": [
    {
     "data": {
      "text/plain": [
       "28"
      ]
     },
     "execution_count": 5,
     "metadata": {},
     "output_type": "execute_result"
    }
   ],
   "source": [
    "len(df['no_stopwords'][0].split())"
   ]
  },
  {
   "cell_type": "code",
   "execution_count": 6,
   "id": "joined-tongue",
   "metadata": {},
   "outputs": [],
   "source": [
    "def word_count(df):\n",
    "    for row in df:\n",
    "        return len(df.split())"
   ]
  },
  {
   "cell_type": "code",
   "execution_count": 7,
   "id": "constitutional-shell",
   "metadata": {},
   "outputs": [],
   "source": [
    "# count the number of words in each review\n",
    "df['len_no_stop'] = df['no_stopwords'].apply(word_count)"
   ]
  },
  {
   "cell_type": "code",
   "execution_count": 8,
   "id": "thrown-packing",
   "metadata": {},
   "outputs": [
    {
     "data": {
      "text/html": [
       "<div>\n",
       "<style scoped>\n",
       "    .dataframe tbody tr th:only-of-type {\n",
       "        vertical-align: middle;\n",
       "    }\n",
       "\n",
       "    .dataframe tbody tr th {\n",
       "        vertical-align: top;\n",
       "    }\n",
       "\n",
       "    .dataframe thead th {\n",
       "        text-align: right;\n",
       "    }\n",
       "</style>\n",
       "<table border=\"1\" class=\"dataframe\">\n",
       "  <thead>\n",
       "    <tr style=\"text-align: right;\">\n",
       "      <th></th>\n",
       "      <th>listing_id</th>\n",
       "      <th>id</th>\n",
       "      <th>date</th>\n",
       "      <th>reviewer_id</th>\n",
       "      <th>reviewer_name</th>\n",
       "      <th>comments</th>\n",
       "      <th>no_stopwords</th>\n",
       "      <th>len_no_stop</th>\n",
       "    </tr>\n",
       "  </thead>\n",
       "  <tbody>\n",
       "    <tr>\n",
       "      <th>0</th>\n",
       "      <td>2595</td>\n",
       "      <td>19760</td>\n",
       "      <td>2009-12-10</td>\n",
       "      <td>38960</td>\n",
       "      <td>Anita</td>\n",
       "      <td>ive stayed with my friend at the midtown castl...</td>\n",
       "      <td>ive friend midtown castle six days big spaciou...</td>\n",
       "      <td>28</td>\n",
       "    </tr>\n",
       "    <tr>\n",
       "      <th>1</th>\n",
       "      <td>2595</td>\n",
       "      <td>34320</td>\n",
       "      <td>2010-04-09</td>\n",
       "      <td>71130</td>\n",
       "      <td>Kai-Uwe</td>\n",
       "      <td>weve been staying here for about   nights enjo...</td>\n",
       "      <td>weve enjoying center sleepsshort ways everywhe...</td>\n",
       "      <td>24</td>\n",
       "    </tr>\n",
       "    <tr>\n",
       "      <th>2</th>\n",
       "      <td>2595</td>\n",
       "      <td>46312</td>\n",
       "      <td>2010-05-25</td>\n",
       "      <td>117113</td>\n",
       "      <td>Alicia</td>\n",
       "      <td>we had a wonderful stay at jennifers charming ...</td>\n",
       "      <td>jennifers charming organized helpful midtown c...</td>\n",
       "      <td>6</td>\n",
       "    </tr>\n",
       "    <tr>\n",
       "      <th>3</th>\n",
       "      <td>2595</td>\n",
       "      <td>1238204</td>\n",
       "      <td>2012-05-07</td>\n",
       "      <td>1783688</td>\n",
       "      <td>Sergey</td>\n",
       "      <td>hi to everyone\\r would say our greatest compli...</td>\n",
       "      <td>hi greatest compliments jennifer host midtown ...</td>\n",
       "      <td>30</td>\n",
       "    </tr>\n",
       "    <tr>\n",
       "      <th>4</th>\n",
       "      <td>2595</td>\n",
       "      <td>1293632</td>\n",
       "      <td>2012-05-17</td>\n",
       "      <td>1870771</td>\n",
       "      <td>Loïc</td>\n",
       "      <td>jennifer was very friendly and helpful and her...</td>\n",
       "      <td>jennifer friendly helpful exactly advertised c...</td>\n",
       "      <td>9</td>\n",
       "    </tr>\n",
       "  </tbody>\n",
       "</table>\n",
       "</div>"
      ],
      "text/plain": [
       "   listing_id       id        date  reviewer_id reviewer_name  \\\n",
       "0        2595    19760  2009-12-10        38960         Anita   \n",
       "1        2595    34320  2010-04-09        71130       Kai-Uwe   \n",
       "2        2595    46312  2010-05-25       117113        Alicia   \n",
       "3        2595  1238204  2012-05-07      1783688        Sergey   \n",
       "4        2595  1293632  2012-05-17      1870771          Loïc   \n",
       "\n",
       "                                            comments  \\\n",
       "0  ive stayed with my friend at the midtown castl...   \n",
       "1  weve been staying here for about   nights enjo...   \n",
       "2  we had a wonderful stay at jennifers charming ...   \n",
       "3  hi to everyone\\r would say our greatest compli...   \n",
       "4  jennifer was very friendly and helpful and her...   \n",
       "\n",
       "                                        no_stopwords  len_no_stop  \n",
       "0  ive friend midtown castle six days big spaciou...           28  \n",
       "1  weve enjoying center sleepsshort ways everywhe...           24  \n",
       "2  jennifers charming organized helpful midtown c...            6  \n",
       "3  hi greatest compliments jennifer host midtown ...           30  \n",
       "4  jennifer friendly helpful exactly advertised c...            9  "
      ]
     },
     "execution_count": 8,
     "metadata": {},
     "output_type": "execute_result"
    }
   ],
   "source": [
    "df.head()"
   ]
  },
  {
   "cell_type": "code",
   "execution_count": 9,
   "id": "underlying-chain",
   "metadata": {},
   "outputs": [
    {
     "data": {
      "text/plain": [
       "<AxesSubplot:>"
      ]
     },
     "execution_count": 9,
     "metadata": {},
     "output_type": "execute_result"
    },
    {
     "data": {
      "image/png": "[encoded data removed]",
      "text/plain": [
       "<Figure size 432x288 with 1 Axes>"
      ]
     },
     "metadata": {
      "needs_background": "light"
     },
     "output_type": "display_data"
    }
   ],
   "source": [
    "df.len_no_stop.hist()"
   ]
  },
  {
   "cell_type": "code",
   "execution_count": 10,
   "id": "satellite-walter",
   "metadata": {},
   "outputs": [
    {
     "data": {
      "text/plain": [
       "15.93853108076909"
      ]
     },
     "execution_count": 10,
     "metadata": {},
     "output_type": "execute_result"
    }
   ],
   "source": [
    "# average doc length\n",
    "df.len_no_stop.mean()"
   ]
  },
  {
   "cell_type": "code",
   "execution_count": 11,
   "id": "initial-giving",
   "metadata": {},
   "outputs": [],
   "source": [
    "df['len_comments'] = df['comments'].apply(word_count)"
   ]
  },
  {
   "cell_type": "code",
   "execution_count": 12,
   "id": "detailed-mitchell",
   "metadata": {},
   "outputs": [
    {
     "data": {
      "text/html": [
       "<div>\n",
       "<style scoped>\n",
       "    .dataframe tbody tr th:only-of-type {\n",
       "        vertical-align: middle;\n",
       "    }\n",
       "\n",
       "    .dataframe tbody tr th {\n",
       "        vertical-align: top;\n",
       "    }\n",
       "\n",
       "    .dataframe thead th {\n",
       "        text-align: right;\n",
       "    }\n",
       "</style>\n",
       "<table border=\"1\" class=\"dataframe\">\n",
       "  <thead>\n",
       "    <tr style=\"text-align: right;\">\n",
       "      <th></th>\n",
       "      <th>listing_id</th>\n",
       "      <th>id</th>\n",
       "      <th>date</th>\n",
       "      <th>reviewer_id</th>\n",
       "      <th>reviewer_name</th>\n",
       "      <th>comments</th>\n",
       "      <th>no_stopwords</th>\n",
       "      <th>len_no_stop</th>\n",
       "      <th>len_comments</th>\n",
       "    </tr>\n",
       "  </thead>\n",
       "  <tbody>\n",
       "    <tr>\n",
       "      <th>0</th>\n",
       "      <td>2595</td>\n",
       "      <td>19760</td>\n",
       "      <td>2009-12-10</td>\n",
       "      <td>38960</td>\n",
       "      <td>Anita</td>\n",
       "      <td>ive stayed with my friend at the midtown castl...</td>\n",
       "      <td>ive friend midtown castle six days big spaciou...</td>\n",
       "      <td>28</td>\n",
       "      <td>88</td>\n",
       "    </tr>\n",
       "    <tr>\n",
       "      <th>1</th>\n",
       "      <td>2595</td>\n",
       "      <td>34320</td>\n",
       "      <td>2010-04-09</td>\n",
       "      <td>71130</td>\n",
       "      <td>Kai-Uwe</td>\n",
       "      <td>weve been staying here for about   nights enjo...</td>\n",
       "      <td>weve enjoying center sleepsshort ways everywhe...</td>\n",
       "      <td>24</td>\n",
       "      <td>62</td>\n",
       "    </tr>\n",
       "    <tr>\n",
       "      <th>2</th>\n",
       "      <td>2595</td>\n",
       "      <td>46312</td>\n",
       "      <td>2010-05-25</td>\n",
       "      <td>117113</td>\n",
       "      <td>Alicia</td>\n",
       "      <td>we had a wonderful stay at jennifers charming ...</td>\n",
       "      <td>jennifers charming organized helpful midtown c...</td>\n",
       "      <td>6</td>\n",
       "      <td>24</td>\n",
       "    </tr>\n",
       "    <tr>\n",
       "      <th>3</th>\n",
       "      <td>2595</td>\n",
       "      <td>1238204</td>\n",
       "      <td>2012-05-07</td>\n",
       "      <td>1783688</td>\n",
       "      <td>Sergey</td>\n",
       "      <td>hi to everyone\\r would say our greatest compli...</td>\n",
       "      <td>hi greatest compliments jennifer host midtown ...</td>\n",
       "      <td>30</td>\n",
       "      <td>97</td>\n",
       "    </tr>\n",
       "    <tr>\n",
       "      <th>4</th>\n",
       "      <td>2595</td>\n",
       "      <td>1293632</td>\n",
       "      <td>2012-05-17</td>\n",
       "      <td>1870771</td>\n",
       "      <td>Loïc</td>\n",
       "      <td>jennifer was very friendly and helpful and her...</td>\n",
       "      <td>jennifer friendly helpful exactly advertised c...</td>\n",
       "      <td>9</td>\n",
       "      <td>34</td>\n",
       "    </tr>\n",
       "  </tbody>\n",
       "</table>\n",
       "</div>"
      ],
      "text/plain": [
       "   listing_id       id        date  reviewer_id reviewer_name  \\\n",
       "0        2595    19760  2009-12-10        38960         Anita   \n",
       "1        2595    34320  2010-04-09        71130       Kai-Uwe   \n",
       "2        2595    46312  2010-05-25       117113        Alicia   \n",
       "3        2595  1238204  2012-05-07      1783688        Sergey   \n",
       "4        2595  1293632  2012-05-17      1870771          Loïc   \n",
       "\n",
       "                                            comments  \\\n",
       "0  ive stayed with my friend at the midtown castl...   \n",
       "1  weve been staying here for about   nights enjo...   \n",
       "2  we had a wonderful stay at jennifers charming ...   \n",
       "3  hi to everyone\\r would say our greatest compli...   \n",
       "4  jennifer was very friendly and helpful and her...   \n",
       "\n",
       "                                        no_stopwords  len_no_stop  \\\n",
       "0  ive friend midtown castle six days big spaciou...           28   \n",
       "1  weve enjoying center sleepsshort ways everywhe...           24   \n",
       "2  jennifers charming organized helpful midtown c...            6   \n",
       "3  hi greatest compliments jennifer host midtown ...           30   \n",
       "4  jennifer friendly helpful exactly advertised c...            9   \n",
       "\n",
       "   len_comments  \n",
       "0            88  \n",
       "1            62  \n",
       "2            24  \n",
       "3            97  \n",
       "4            34  "
      ]
     },
     "execution_count": 12,
     "metadata": {},
     "output_type": "execute_result"
    }
   ],
   "source": [
    "df.head()"
   ]
  },
  {
   "cell_type": "code",
   "execution_count": 13,
   "id": "offshore-installation",
   "metadata": {},
   "outputs": [
    {
     "data": {
      "text/plain": [
       "48.2795493791407"
      ]
     },
     "execution_count": 13,
     "metadata": {},
     "output_type": "execute_result"
    }
   ],
   "source": [
    "df.len_comments.mean()"
   ]
  },
  {
   "cell_type": "code",
   "execution_count": 32,
   "id": "assigned-settlement",
   "metadata": {
    "scrolled": true
   },
   "outputs": [
    {
     "data": {
      "text/html": [
       "<div>\n",
       "<style scoped>\n",
       "    .dataframe tbody tr th:only-of-type {\n",
       "        vertical-align: middle;\n",
       "    }\n",
       "\n",
       "    .dataframe tbody tr th {\n",
       "        vertical-align: top;\n",
       "    }\n",
       "\n",
       "    .dataframe thead th {\n",
       "        text-align: right;\n",
       "    }\n",
       "</style>\n",
       "<table border=\"1\" class=\"dataframe\">\n",
       "  <thead>\n",
       "    <tr style=\"text-align: right;\">\n",
       "      <th></th>\n",
       "      <th>words</th>\n",
       "      <th>counts</th>\n",
       "    </tr>\n",
       "  </thead>\n",
       "  <tbody>\n",
       "    <tr>\n",
       "      <th>12</th>\n",
       "      <td>and</td>\n",
       "      <td>67235.406964</td>\n",
       "    </tr>\n",
       "    <tr>\n",
       "      <th>6</th>\n",
       "      <td>the</td>\n",
       "      <td>66056.409839</td>\n",
       "    </tr>\n",
       "    <tr>\n",
       "      <th>17</th>\n",
       "      <td>to</td>\n",
       "      <td>47643.341533</td>\n",
       "    </tr>\n",
       "    <tr>\n",
       "      <th>14</th>\n",
       "      <td>was</td>\n",
       "      <td>45391.309743</td>\n",
       "    </tr>\n",
       "    <tr>\n",
       "      <th>54</th>\n",
       "      <td>great</td>\n",
       "      <td>43179.795144</td>\n",
       "    </tr>\n",
       "    <tr>\n",
       "      <th>33</th>\n",
       "      <td>is</td>\n",
       "      <td>39171.249020</td>\n",
       "    </tr>\n",
       "    <tr>\n",
       "      <th>16</th>\n",
       "      <td>place</td>\n",
       "      <td>35250.680726</td>\n",
       "    </tr>\n",
       "    <tr>\n",
       "      <th>109</th>\n",
       "      <td>very</td>\n",
       "      <td>35025.600450</td>\n",
       "    </tr>\n",
       "    <tr>\n",
       "      <th>31</th>\n",
       "      <td>in</td>\n",
       "      <td>31377.750427</td>\n",
       "    </tr>\n",
       "    <tr>\n",
       "      <th>103</th>\n",
       "      <td>stay</td>\n",
       "      <td>29207.205899</td>\n",
       "    </tr>\n",
       "  </tbody>\n",
       "</table>\n",
       "</div>"
      ],
      "text/plain": [
       "     words        counts\n",
       "12     and  67235.406964\n",
       "6      the  66056.409839\n",
       "17      to  47643.341533\n",
       "14     was  45391.309743\n",
       "54   great  43179.795144\n",
       "33      is  39171.249020\n",
       "16   place  35250.680726\n",
       "109   very  35025.600450\n",
       "31      in  31377.750427\n",
       "103   stay  29207.205899"
      ]
     },
     "execution_count": 32,
     "metadata": {},
     "output_type": "execute_result"
    }
   ],
   "source": [
    "#Top 10 common words in the comments with CountVectorizer()\n",
    "\n",
    "vec = TfidfVectorizer().fit(df.comments)\n",
    "bag_of_words = vec.transform(df.comments)\n",
    "sum_words = bag_of_words.sum(axis=0)\n",
    "words_freq = [(word, sum_words[0, idx]) for word, idx in vec.vocabulary_.items()]\n",
    "\n",
    "cvec_df = pd.DataFrame.from_records(words_freq, columns= ['words', 'counts']).sort_values(by=\"counts\", ascending=False)\n",
    "cvec_df.head(10)"
   ]
  },
  {
   "cell_type": "code",
   "execution_count": 42,
   "id": "collectible-onion",
   "metadata": {},
   "outputs": [
    {
     "data": {
      "image/png": "[encoded data removed]",
      "text/plain": [
       "<Figure size 432x288 with 1 Axes>"
      ]
     },
     "metadata": {
      "needs_background": "light"
     },
     "output_type": "display_data"
    }
   ],
   "source": [
    "# create bar plot of top 10 most common words\n",
    "sns.barplot(x='words', y='counts', data=cvec_df.head(10), palette= 'pastel').set(title='Top 10 Most Common Words')\n",
    "plt.savefig('before_reviews.png', bbox_inches='tight')"
   ]
  },
  {
   "cell_type": "code",
   "execution_count": 22,
   "id": "little-context",
   "metadata": {},
   "outputs": [],
   "source": [
    "df['no_stopwords_2'] = df['comments'].apply(lambda x: '  '.join([word for word in x.split() if word not in (stopwords)]))"
   ]
  },
  {
   "cell_type": "code",
   "execution_count": 24,
   "id": "integral-mortgage",
   "metadata": {},
   "outputs": [
    {
     "data": {
      "text/html": [
       "<div>\n",
       "<style scoped>\n",
       "    .dataframe tbody tr th:only-of-type {\n",
       "        vertical-align: middle;\n",
       "    }\n",
       "\n",
       "    .dataframe tbody tr th {\n",
       "        vertical-align: top;\n",
       "    }\n",
       "\n",
       "    .dataframe thead th {\n",
       "        text-align: right;\n",
       "    }\n",
       "</style>\n",
       "<table border=\"1\" class=\"dataframe\">\n",
       "  <thead>\n",
       "    <tr style=\"text-align: right;\">\n",
       "      <th></th>\n",
       "      <th>words</th>\n",
       "      <th>counts</th>\n",
       "    </tr>\n",
       "  </thead>\n",
       "  <tbody>\n",
       "    <tr>\n",
       "      <th>72132</th>\n",
       "      <td>thesethey</td>\n",
       "      <td>1750245</td>\n",
       "    </tr>\n",
       "    <tr>\n",
       "      <th>45917</th>\n",
       "      <td>andcizy</td>\n",
       "      <td>1736220</td>\n",
       "    </tr>\n",
       "    <tr>\n",
       "      <th>18529</th>\n",
       "      <td>tompkinsville</td>\n",
       "      <td>1077697</td>\n",
       "    </tr>\n",
       "    <tr>\n",
       "      <th>72022</th>\n",
       "      <td>waylocation</td>\n",
       "      <td>890908</td>\n",
       "    </tr>\n",
       "    <tr>\n",
       "      <th>19958</th>\n",
       "      <td>isso</td>\n",
       "      <td>746509</td>\n",
       "    </tr>\n",
       "    <tr>\n",
       "      <th>107749</th>\n",
       "      <td>incoherent</td>\n",
       "      <td>614884</td>\n",
       "    </tr>\n",
       "    <tr>\n",
       "      <th>123027</th>\n",
       "      <td>vikajosh</td>\n",
       "      <td>518507</td>\n",
       "    </tr>\n",
       "    <tr>\n",
       "      <th>125241</th>\n",
       "      <td>greatprofessional</td>\n",
       "      <td>453875</td>\n",
       "    </tr>\n",
       "    <tr>\n",
       "      <th>95073</th>\n",
       "      <td>welcomingfrom</td>\n",
       "      <td>434286</td>\n",
       "    </tr>\n",
       "    <tr>\n",
       "      <th>24775</th>\n",
       "      <td>forgo</td>\n",
       "      <td>430866</td>\n",
       "    </tr>\n",
       "  </tbody>\n",
       "</table>\n",
       "</div>"
      ],
      "text/plain": [
       "                    words   counts\n",
       "72132           thesethey  1750245\n",
       "45917             andcizy  1736220\n",
       "18529       tompkinsville  1077697\n",
       "72022         waylocation   890908\n",
       "19958                isso   746509\n",
       "107749         incoherent   614884\n",
       "123027           vikajosh   518507\n",
       "125241  greatprofessional   453875\n",
       "95073       welcomingfrom   434286\n",
       "24775               forgo   430866"
      ]
     },
     "execution_count": 24,
     "metadata": {},
     "output_type": "execute_result"
    }
   ],
   "source": [
    "\n",
    "vec_2 = CountVectorizer(stop_words=stopwords).fit(df['comments'])\n",
    "bag_of_words_2 = vec.transform(df['comments'])\n",
    "sum_words2 = bag_of_words.sum(axis=0)\n",
    "words_freq2 = [(word, sum_words2[0, idx]) for word, idx in vec_2.vocabulary_.items()]\n",
    "no_stop_df = pd.DataFrame.from_records(words_freq2, columns= ['words', 'counts']).sort_values(by=\"counts\", ascending=False)\n",
    "no_stop_df.head(10)"
   ]
  },
  {
   "cell_type": "code",
   "execution_count": 30,
   "id": "derived-savage",
   "metadata": {},
   "outputs": [
    {
     "data": {
      "text/html": [
       "<div>\n",
       "<style scoped>\n",
       "    .dataframe tbody tr th:only-of-type {\n",
       "        vertical-align: middle;\n",
       "    }\n",
       "\n",
       "    .dataframe tbody tr th {\n",
       "        vertical-align: top;\n",
       "    }\n",
       "\n",
       "    .dataframe thead th {\n",
       "        text-align: right;\n",
       "    }\n",
       "</style>\n",
       "<table border=\"1\" class=\"dataframe\">\n",
       "  <thead>\n",
       "    <tr style=\"text-align: right;\">\n",
       "      <th></th>\n",
       "      <th>words</th>\n",
       "      <th>counts</th>\n",
       "    </tr>\n",
       "  </thead>\n",
       "  <tbody>\n",
       "    <tr>\n",
       "      <th>147</th>\n",
       "      <td>clean</td>\n",
       "      <td>30936.850112</td>\n",
       "    </tr>\n",
       "    <tr>\n",
       "      <th>50</th>\n",
       "      <td>host</td>\n",
       "      <td>30788.347640</td>\n",
       "    </tr>\n",
       "    <tr>\n",
       "      <th>94</th>\n",
       "      <td>comfortable</td>\n",
       "      <td>18462.061041</td>\n",
       "    </tr>\n",
       "    <tr>\n",
       "      <th>7</th>\n",
       "      <td>room</td>\n",
       "      <td>17581.710775</td>\n",
       "    </tr>\n",
       "    <tr>\n",
       "      <th>134</th>\n",
       "      <td>close</td>\n",
       "      <td>16428.522923</td>\n",
       "    </tr>\n",
       "    <tr>\n",
       "      <th>30</th>\n",
       "      <td>subway</td>\n",
       "      <td>15705.271050</td>\n",
       "    </tr>\n",
       "    <tr>\n",
       "      <th>173</th>\n",
       "      <td>space</td>\n",
       "      <td>14513.296660</td>\n",
       "    </tr>\n",
       "    <tr>\n",
       "      <th>46</th>\n",
       "      <td>helpful</td>\n",
       "      <td>11711.321359</td>\n",
       "    </tr>\n",
       "    <tr>\n",
       "      <th>609</th>\n",
       "      <td>neighborhood</td>\n",
       "      <td>11526.311187</td>\n",
       "    </tr>\n",
       "    <tr>\n",
       "      <th>65</th>\n",
       "      <td>quiet</td>\n",
       "      <td>10976.687432</td>\n",
       "    </tr>\n",
       "  </tbody>\n",
       "</table>\n",
       "</div>"
      ],
      "text/plain": [
       "            words        counts\n",
       "147         clean  30936.850112\n",
       "50           host  30788.347640\n",
       "94    comfortable  18462.061041\n",
       "7            room  17581.710775\n",
       "134         close  16428.522923\n",
       "30         subway  15705.271050\n",
       "173         space  14513.296660\n",
       "46        helpful  11711.321359\n",
       "609  neighborhood  11526.311187\n",
       "65          quiet  10976.687432"
      ]
     },
     "execution_count": 30,
     "metadata": {},
     "output_type": "execute_result"
    }
   ],
   "source": [
    "#Top 10 common words in the reviews with stopwords with CountVectorizer()\n",
    "tf = TfidfVectorizer(stop_words=stopwords,min_df = 2, max_df=0.7).fit(df.comments)\n",
    "bag_of_words = tf.transform(df.comments)\n",
    "sum_words = bag_of_words.sum(axis=0)\n",
    "words_freq2 = [(word, sum_words[0, idx]) for word, idx in tf.vocabulary_.items()]\n",
    "no_stop_df = pd.DataFrame.from_records(words_freq2, columns= ['words', 'counts']).sort_values(by=\"counts\", ascending=False)\n",
    "no_stop_df.head(10)"
   ]
  },
  {
   "cell_type": "code",
   "execution_count": 43,
   "id": "innovative-mistress",
   "metadata": {},
   "outputs": [
    {
     "data": {
      "image/png": "[encoded data removed]",
      "text/plain": [
       "<Figure size 432x288 with 1 Axes>"
      ]
     },
     "metadata": {
      "needs_background": "light"
     },
     "output_type": "display_data"
    }
   ],
   "source": [
    "# create bar plot of top 10 most common words without stopwords\n",
    "sns.barplot(x='words', y='counts', data=no_stop_df.head(10), palette='pastel').set(title='Top 10 Most Common Words')\n",
    "plt.xticks(rotation=45)\n",
    "plt.savefig('after_reviews.png', bbox_inches='tight')"
   ]
  },
  {
   "cell_type": "code",
   "execution_count": 41,
   "id": "daily-minority",
   "metadata": {},
   "outputs": [
    {
     "data": {
      "text/plain": [
       "(740667, 10)"
      ]
     },
     "execution_count": 41,
     "metadata": {},
     "output_type": "execute_result"
    }
   ],
   "source": [
    "df.shape"
   ]
  },
  {
   "cell_type": "code",
   "execution_count": null,
   "id": "standing-complexity",
   "metadata": {},
   "outputs": [],
   "source": []
  }
 ],
 "metadata": {
  "kernelspec": {
   "display_name": "Python [conda env:metis] *",
   "language": "python",
   "name": "conda-env-metis-py"
  },
  "language_info": {
   "codemirror_mode": {
    "name": "ipython",
    "version": 3
   },
   "file_extension": ".py",
   "mimetype": "text/x-python",
   "name": "python",
   "nbconvert_exporter": "python",
   "pygments_lexer": "ipython3",
   "version": "3.8.8"
  }
 },
 "nbformat": 4,
 "nbformat_minor": 5
}
