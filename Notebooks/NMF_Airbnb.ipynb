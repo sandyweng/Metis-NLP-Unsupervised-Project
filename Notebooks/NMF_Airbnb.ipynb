{
 "cells": [
  {
   "cell_type": "code",
   "execution_count": 1,
   "id": "latin-stock",
   "metadata": {},
   "outputs": [],
   "source": [
    "import pandas as pd\n",
    "import numpy as np\n",
    "import nltk\n",
    "from langdetect import detect\n",
    "import matplotlib.pyplot as plt\n",
    "%matplotlib inline\n",
    "import seaborn as sns\n",
    "from sklearn.feature_extraction.text import TfidfVectorizer\n",
    "from nltk.tokenize import sent_tokenize, word_tokenize\n",
    "from sklearn.decomposition import NMF, TruncatedSVD, LatentDirichletAllocation\n",
    "from wordcloud import WordCloud\n",
    "from PIL import Image"
   ]
  },
  {
   "cell_type": "code",
   "execution_count": 2,
   "id": "danish-montreal",
   "metadata": {},
   "outputs": [],
   "source": [
    "reviews=pd.read_csv('reviews.csv')"
   ]
  },
  {
   "cell_type": "code",
   "execution_count": 3,
   "id": "comic-customs",
   "metadata": {},
   "outputs": [
    {
     "name": "stdout",
     "output_type": "stream",
     "text": [
      "<class 'pandas.core.frame.DataFrame'>\n",
      "RangeIndex: 836586 entries, 0 to 836585\n",
      "Data columns (total 6 columns):\n",
      " #   Column         Non-Null Count   Dtype \n",
      "---  ------         --------------   ----- \n",
      " 0   listing_id     836586 non-null  int64 \n",
      " 1   id             836586 non-null  int64 \n",
      " 2   date           836586 non-null  object\n",
      " 3   reviewer_id    836586 non-null  int64 \n",
      " 4   reviewer_name  836578 non-null  object\n",
      " 5   comments       835850 non-null  object\n",
      "dtypes: int64(3), object(3)\n",
      "memory usage: 38.3+ MB\n"
     ]
    }
   ],
   "source": [
    "reviews.info()"
   ]
  },
  {
   "cell_type": "code",
   "execution_count": 4,
   "id": "authentic-delaware",
   "metadata": {},
   "outputs": [
    {
     "data": {
      "text/html": [
       "<div>\n",
       "<style scoped>\n",
       "    .dataframe tbody tr th:only-of-type {\n",
       "        vertical-align: middle;\n",
       "    }\n",
       "\n",
       "    .dataframe tbody tr th {\n",
       "        vertical-align: top;\n",
       "    }\n",
       "\n",
       "    .dataframe thead th {\n",
       "        text-align: right;\n",
       "    }\n",
       "</style>\n",
       "<table border=\"1\" class=\"dataframe\">\n",
       "  <thead>\n",
       "    <tr style=\"text-align: right;\">\n",
       "      <th></th>\n",
       "      <th>listing_id</th>\n",
       "      <th>id</th>\n",
       "      <th>date</th>\n",
       "      <th>reviewer_id</th>\n",
       "      <th>reviewer_name</th>\n",
       "      <th>comments</th>\n",
       "    </tr>\n",
       "  </thead>\n",
       "  <tbody>\n",
       "    <tr>\n",
       "      <th>0</th>\n",
       "      <td>2595</td>\n",
       "      <td>17857</td>\n",
       "      <td>2009-11-21</td>\n",
       "      <td>50679</td>\n",
       "      <td>Jean</td>\n",
       "      <td>Notre séjour de trois nuits.\\r\\nNous avons app...</td>\n",
       "    </tr>\n",
       "    <tr>\n",
       "      <th>1</th>\n",
       "      <td>2595</td>\n",
       "      <td>19176</td>\n",
       "      <td>2009-12-05</td>\n",
       "      <td>53267</td>\n",
       "      <td>Cate</td>\n",
       "      <td>Great experience.</td>\n",
       "    </tr>\n",
       "    <tr>\n",
       "      <th>2</th>\n",
       "      <td>2595</td>\n",
       "      <td>19760</td>\n",
       "      <td>2009-12-10</td>\n",
       "      <td>38960</td>\n",
       "      <td>Anita</td>\n",
       "      <td>I've stayed with my friend at the Midtown Cast...</td>\n",
       "    </tr>\n",
       "    <tr>\n",
       "      <th>3</th>\n",
       "      <td>2595</td>\n",
       "      <td>34320</td>\n",
       "      <td>2010-04-09</td>\n",
       "      <td>71130</td>\n",
       "      <td>Kai-Uwe</td>\n",
       "      <td>We've been staying here for about 9 nights, en...</td>\n",
       "    </tr>\n",
       "    <tr>\n",
       "      <th>4</th>\n",
       "      <td>2595</td>\n",
       "      <td>46312</td>\n",
       "      <td>2010-05-25</td>\n",
       "      <td>117113</td>\n",
       "      <td>Alicia</td>\n",
       "      <td>We had a wonderful stay at Jennifer's charming...</td>\n",
       "    </tr>\n",
       "  </tbody>\n",
       "</table>\n",
       "</div>"
      ],
      "text/plain": [
       "   listing_id     id        date  reviewer_id reviewer_name  \\\n",
       "0        2595  17857  2009-11-21        50679          Jean   \n",
       "1        2595  19176  2009-12-05        53267          Cate   \n",
       "2        2595  19760  2009-12-10        38960         Anita   \n",
       "3        2595  34320  2010-04-09        71130       Kai-Uwe   \n",
       "4        2595  46312  2010-05-25       117113        Alicia   \n",
       "\n",
       "                                            comments  \n",
       "0  Notre séjour de trois nuits.\\r\\nNous avons app...  \n",
       "1                                  Great experience.  \n",
       "2  I've stayed with my friend at the Midtown Cast...  \n",
       "3  We've been staying here for about 9 nights, en...  \n",
       "4  We had a wonderful stay at Jennifer's charming...  "
      ]
     },
     "execution_count": 4,
     "metadata": {},
     "output_type": "execute_result"
    }
   ],
   "source": [
    "reviews.head()"
   ]
  },
  {
   "cell_type": "code",
   "execution_count": 5,
   "id": "intensive-editor",
   "metadata": {},
   "outputs": [],
   "source": [
    "reviews.dropna(inplace=True)"
   ]
  },
  {
   "cell_type": "code",
   "execution_count": 6,
   "id": "exposed-broad",
   "metadata": {},
   "outputs": [
    {
     "name": "stdout",
     "output_type": "stream",
     "text": [
      "<class 'pandas.core.frame.DataFrame'>\n",
      "Int64Index: 835842 entries, 0 to 836585\n",
      "Data columns (total 6 columns):\n",
      " #   Column         Non-Null Count   Dtype \n",
      "---  ------         --------------   ----- \n",
      " 0   listing_id     835842 non-null  int64 \n",
      " 1   id             835842 non-null  int64 \n",
      " 2   date           835842 non-null  object\n",
      " 3   reviewer_id    835842 non-null  int64 \n",
      " 4   reviewer_name  835842 non-null  object\n",
      " 5   comments       835842 non-null  object\n",
      "dtypes: int64(3), object(3)\n",
      "memory usage: 44.6+ MB\n"
     ]
    }
   ],
   "source": [
    "reviews.info()"
   ]
  },
  {
   "cell_type": "code",
   "execution_count": 7,
   "id": "sophisticated-dallas",
   "metadata": {},
   "outputs": [
    {
     "data": {
      "text/plain": [
       "'en'"
      ]
     },
     "execution_count": 7,
     "metadata": {},
     "output_type": "execute_result"
    }
   ],
   "source": [
    "detect(reviews.iloc[2,5])"
   ]
  },
  {
   "cell_type": "code",
   "execution_count": 9,
   "id": "portable-actor",
   "metadata": {},
   "outputs": [],
   "source": [
    "# replace non-english comments with 'Not English'\n",
    "def non_eng(x):\n",
    "    try:\n",
    "        if detect(x) != 'en':\n",
    "            return 'Not English'\n",
    "    except:\n",
    "        pass\n",
    "# create a new column for whether the comments are in English\n",
    "reviews['is_english']=reviews.comments.apply(non_eng)"
   ]
  },
  {
   "cell_type": "code",
   "execution_count": 10,
   "id": "weighted-french",
   "metadata": {},
   "outputs": [
    {
     "data": {
      "text/plain": [
       "listing_id       94086\n",
       "id               94086\n",
       "date             94086\n",
       "reviewer_id      94086\n",
       "reviewer_name    94086\n",
       "comments         94086\n",
       "is_english       94086\n",
       "dtype: int64"
      ]
     },
     "execution_count": 10,
     "metadata": {},
     "output_type": "execute_result"
    }
   ],
   "source": [
    "# count how many comments are not in English\n",
    "reviews[reviews['is_english'] == 'Not English'].count()"
   ]
  },
  {
   "cell_type": "code",
   "execution_count": 11,
   "id": "stable-services",
   "metadata": {},
   "outputs": [
    {
     "data": {
      "text/html": [
       "<div>\n",
       "<style scoped>\n",
       "    .dataframe tbody tr th:only-of-type {\n",
       "        vertical-align: middle;\n",
       "    }\n",
       "\n",
       "    .dataframe tbody tr th {\n",
       "        vertical-align: top;\n",
       "    }\n",
       "\n",
       "    .dataframe thead th {\n",
       "        text-align: right;\n",
       "    }\n",
       "</style>\n",
       "<table border=\"1\" class=\"dataframe\">\n",
       "  <thead>\n",
       "    <tr style=\"text-align: right;\">\n",
       "      <th></th>\n",
       "      <th>listing_id</th>\n",
       "      <th>id</th>\n",
       "      <th>date</th>\n",
       "      <th>reviewer_id</th>\n",
       "      <th>reviewer_name</th>\n",
       "      <th>comments</th>\n",
       "      <th>is_english</th>\n",
       "    </tr>\n",
       "  </thead>\n",
       "  <tbody>\n",
       "    <tr>\n",
       "      <th>0</th>\n",
       "      <td>2595</td>\n",
       "      <td>17857</td>\n",
       "      <td>2009-11-21</td>\n",
       "      <td>50679</td>\n",
       "      <td>Jean</td>\n",
       "      <td>notre séjour de trois nuits\\r\\nnous avons appr...</td>\n",
       "      <td>Not English</td>\n",
       "    </tr>\n",
       "    <tr>\n",
       "      <th>1</th>\n",
       "      <td>2595</td>\n",
       "      <td>19176</td>\n",
       "      <td>2009-12-05</td>\n",
       "      <td>53267</td>\n",
       "      <td>Cate</td>\n",
       "      <td>great experience</td>\n",
       "      <td>Not English</td>\n",
       "    </tr>\n",
       "    <tr>\n",
       "      <th>2</th>\n",
       "      <td>2595</td>\n",
       "      <td>19760</td>\n",
       "      <td>2009-12-10</td>\n",
       "      <td>38960</td>\n",
       "      <td>Anita</td>\n",
       "      <td>ive stayed with my friend at the midtown castl...</td>\n",
       "      <td>None</td>\n",
       "    </tr>\n",
       "    <tr>\n",
       "      <th>3</th>\n",
       "      <td>2595</td>\n",
       "      <td>34320</td>\n",
       "      <td>2010-04-09</td>\n",
       "      <td>71130</td>\n",
       "      <td>Kai-Uwe</td>\n",
       "      <td>weve been staying here for about   nights enjo...</td>\n",
       "      <td>None</td>\n",
       "    </tr>\n",
       "    <tr>\n",
       "      <th>4</th>\n",
       "      <td>2595</td>\n",
       "      <td>46312</td>\n",
       "      <td>2010-05-25</td>\n",
       "      <td>117113</td>\n",
       "      <td>Alicia</td>\n",
       "      <td>we had a wonderful stay at jennifers charming ...</td>\n",
       "      <td>None</td>\n",
       "    </tr>\n",
       "  </tbody>\n",
       "</table>\n",
       "</div>"
      ],
      "text/plain": [
       "   listing_id     id        date  reviewer_id reviewer_name  \\\n",
       "0        2595  17857  2009-11-21        50679          Jean   \n",
       "1        2595  19176  2009-12-05        53267          Cate   \n",
       "2        2595  19760  2009-12-10        38960         Anita   \n",
       "3        2595  34320  2010-04-09        71130       Kai-Uwe   \n",
       "4        2595  46312  2010-05-25       117113        Alicia   \n",
       "\n",
       "                                            comments   is_english  \n",
       "0  notre séjour de trois nuits\\r\\nnous avons appr...  Not English  \n",
       "1                                   great experience  Not English  \n",
       "2  ive stayed with my friend at the midtown castl...         None  \n",
       "3  weve been staying here for about   nights enjo...         None  \n",
       "4  we had a wonderful stay at jennifers charming ...         None  "
      ]
     },
     "execution_count": 11,
     "metadata": {},
     "output_type": "execute_result"
    }
   ],
   "source": [
    "# Text preprocessing steps - remove numbers, captial letters and punctuation\n",
    "import re\n",
    "import string\n",
    "\n",
    "alphanumeric = lambda x: re.sub('\\w*\\d\\w*', ' ', x)\n",
    "punc_lower = lambda x: re.sub('[%s]' % re.escape(string.punctuation), '', x.lower())\n",
    "\n",
    "reviews['comments'] = reviews.comments.map(alphanumeric).map(punc_lower)\n",
    "reviews.head()"
   ]
  },
  {
   "cell_type": "code",
   "execution_count": 12,
   "id": "serious-dispatch",
   "metadata": {},
   "outputs": [],
   "source": [
    "# create a new dataframe with only reviews that in English\n",
    "new_df = reviews[reviews['is_english'] != 'Not English']"
   ]
  },
  {
   "cell_type": "code",
   "execution_count": 13,
   "id": "decreased-savannah",
   "metadata": {},
   "outputs": [
    {
     "data": {
      "text/html": [
       "<div>\n",
       "<style scoped>\n",
       "    .dataframe tbody tr th:only-of-type {\n",
       "        vertical-align: middle;\n",
       "    }\n",
       "\n",
       "    .dataframe tbody tr th {\n",
       "        vertical-align: top;\n",
       "    }\n",
       "\n",
       "    .dataframe thead th {\n",
       "        text-align: right;\n",
       "    }\n",
       "</style>\n",
       "<table border=\"1\" class=\"dataframe\">\n",
       "  <thead>\n",
       "    <tr style=\"text-align: right;\">\n",
       "      <th></th>\n",
       "      <th>listing_id</th>\n",
       "      <th>id</th>\n",
       "      <th>date</th>\n",
       "      <th>reviewer_id</th>\n",
       "      <th>reviewer_name</th>\n",
       "      <th>comments</th>\n",
       "      <th>is_english</th>\n",
       "    </tr>\n",
       "  </thead>\n",
       "  <tbody>\n",
       "    <tr>\n",
       "      <th>2</th>\n",
       "      <td>2595</td>\n",
       "      <td>19760</td>\n",
       "      <td>2009-12-10</td>\n",
       "      <td>38960</td>\n",
       "      <td>Anita</td>\n",
       "      <td>ive stayed with my friend at the midtown castl...</td>\n",
       "      <td>None</td>\n",
       "    </tr>\n",
       "    <tr>\n",
       "      <th>3</th>\n",
       "      <td>2595</td>\n",
       "      <td>34320</td>\n",
       "      <td>2010-04-09</td>\n",
       "      <td>71130</td>\n",
       "      <td>Kai-Uwe</td>\n",
       "      <td>weve been staying here for about   nights enjo...</td>\n",
       "      <td>None</td>\n",
       "    </tr>\n",
       "    <tr>\n",
       "      <th>4</th>\n",
       "      <td>2595</td>\n",
       "      <td>46312</td>\n",
       "      <td>2010-05-25</td>\n",
       "      <td>117113</td>\n",
       "      <td>Alicia</td>\n",
       "      <td>we had a wonderful stay at jennifers charming ...</td>\n",
       "      <td>None</td>\n",
       "    </tr>\n",
       "    <tr>\n",
       "      <th>5</th>\n",
       "      <td>2595</td>\n",
       "      <td>1238204</td>\n",
       "      <td>2012-05-07</td>\n",
       "      <td>1783688</td>\n",
       "      <td>Sergey</td>\n",
       "      <td>hi to everyone\\r\\nwould say our greatest compl...</td>\n",
       "      <td>None</td>\n",
       "    </tr>\n",
       "    <tr>\n",
       "      <th>6</th>\n",
       "      <td>2595</td>\n",
       "      <td>1293632</td>\n",
       "      <td>2012-05-17</td>\n",
       "      <td>1870771</td>\n",
       "      <td>Loïc</td>\n",
       "      <td>jennifer was very friendly and helpful and her...</td>\n",
       "      <td>None</td>\n",
       "    </tr>\n",
       "  </tbody>\n",
       "</table>\n",
       "</div>"
      ],
      "text/plain": [
       "   listing_id       id        date  reviewer_id reviewer_name  \\\n",
       "2        2595    19760  2009-12-10        38960         Anita   \n",
       "3        2595    34320  2010-04-09        71130       Kai-Uwe   \n",
       "4        2595    46312  2010-05-25       117113        Alicia   \n",
       "5        2595  1238204  2012-05-07      1783688        Sergey   \n",
       "6        2595  1293632  2012-05-17      1870771          Loïc   \n",
       "\n",
       "                                            comments is_english  \n",
       "2  ive stayed with my friend at the midtown castl...       None  \n",
       "3  weve been staying here for about   nights enjo...       None  \n",
       "4  we had a wonderful stay at jennifers charming ...       None  \n",
       "5  hi to everyone\\r\\nwould say our greatest compl...       None  \n",
       "6  jennifer was very friendly and helpful and her...       None  "
      ]
     },
     "execution_count": 13,
     "metadata": {},
     "output_type": "execute_result"
    }
   ],
   "source": [
    "# sanity check\n",
    "new_df.head()"
   ]
  },
  {
   "cell_type": "code",
   "execution_count": 14,
   "id": "conditional-correlation",
   "metadata": {},
   "outputs": [
    {
     "name": "stderr",
     "output_type": "stream",
     "text": [
      "C:\\Users\\sandy\\anaconda3_2nd_download\\envs\\metis\\lib\\site-packages\\pandas\\core\\frame.py:4308: SettingWithCopyWarning: \n",
      "A value is trying to be set on a copy of a slice from a DataFrame\n",
      "\n",
      "See the caveats in the documentation: https://pandas.pydata.org/pandas-docs/stable/user_guide/indexing.html#returning-a-view-versus-a-copy\n",
      "  return super().drop(\n"
     ]
    }
   ],
   "source": [
    "# drop is_english column \n",
    "new_df.drop(columns='is_english', inplace=True)"
   ]
  },
  {
   "cell_type": "code",
   "execution_count": 15,
   "id": "announced-engagement",
   "metadata": {},
   "outputs": [
    {
     "data": {
      "text/html": [
       "<div>\n",
       "<style scoped>\n",
       "    .dataframe tbody tr th:only-of-type {\n",
       "        vertical-align: middle;\n",
       "    }\n",
       "\n",
       "    .dataframe tbody tr th {\n",
       "        vertical-align: top;\n",
       "    }\n",
       "\n",
       "    .dataframe thead th {\n",
       "        text-align: right;\n",
       "    }\n",
       "</style>\n",
       "<table border=\"1\" class=\"dataframe\">\n",
       "  <thead>\n",
       "    <tr style=\"text-align: right;\">\n",
       "      <th></th>\n",
       "      <th>listing_id</th>\n",
       "      <th>id</th>\n",
       "      <th>date</th>\n",
       "      <th>reviewer_id</th>\n",
       "      <th>reviewer_name</th>\n",
       "      <th>comments</th>\n",
       "    </tr>\n",
       "  </thead>\n",
       "  <tbody>\n",
       "    <tr>\n",
       "      <th>2</th>\n",
       "      <td>2595</td>\n",
       "      <td>19760</td>\n",
       "      <td>2009-12-10</td>\n",
       "      <td>38960</td>\n",
       "      <td>Anita</td>\n",
       "      <td>ive stayed with my friend at the midtown castl...</td>\n",
       "    </tr>\n",
       "    <tr>\n",
       "      <th>3</th>\n",
       "      <td>2595</td>\n",
       "      <td>34320</td>\n",
       "      <td>2010-04-09</td>\n",
       "      <td>71130</td>\n",
       "      <td>Kai-Uwe</td>\n",
       "      <td>weve been staying here for about   nights enjo...</td>\n",
       "    </tr>\n",
       "    <tr>\n",
       "      <th>4</th>\n",
       "      <td>2595</td>\n",
       "      <td>46312</td>\n",
       "      <td>2010-05-25</td>\n",
       "      <td>117113</td>\n",
       "      <td>Alicia</td>\n",
       "      <td>we had a wonderful stay at jennifers charming ...</td>\n",
       "    </tr>\n",
       "    <tr>\n",
       "      <th>5</th>\n",
       "      <td>2595</td>\n",
       "      <td>1238204</td>\n",
       "      <td>2012-05-07</td>\n",
       "      <td>1783688</td>\n",
       "      <td>Sergey</td>\n",
       "      <td>hi to everyone\\r\\nwould say our greatest compl...</td>\n",
       "    </tr>\n",
       "    <tr>\n",
       "      <th>6</th>\n",
       "      <td>2595</td>\n",
       "      <td>1293632</td>\n",
       "      <td>2012-05-17</td>\n",
       "      <td>1870771</td>\n",
       "      <td>Loïc</td>\n",
       "      <td>jennifer was very friendly and helpful and her...</td>\n",
       "    </tr>\n",
       "  </tbody>\n",
       "</table>\n",
       "</div>"
      ],
      "text/plain": [
       "   listing_id       id        date  reviewer_id reviewer_name  \\\n",
       "2        2595    19760  2009-12-10        38960         Anita   \n",
       "3        2595    34320  2010-04-09        71130       Kai-Uwe   \n",
       "4        2595    46312  2010-05-25       117113        Alicia   \n",
       "5        2595  1238204  2012-05-07      1783688        Sergey   \n",
       "6        2595  1293632  2012-05-17      1870771          Loïc   \n",
       "\n",
       "                                            comments  \n",
       "2  ive stayed with my friend at the midtown castl...  \n",
       "3  weve been staying here for about   nights enjo...  \n",
       "4  we had a wonderful stay at jennifers charming ...  \n",
       "5  hi to everyone\\r\\nwould say our greatest compl...  \n",
       "6  jennifer was very friendly and helpful and her...  "
      ]
     },
     "execution_count": 15,
     "metadata": {},
     "output_type": "execute_result"
    }
   ],
   "source": [
    "new_df.head()"
   ]
  },
  {
   "cell_type": "code",
   "execution_count": 16,
   "id": "sorted-chambers",
   "metadata": {},
   "outputs": [
    {
     "name": "stdout",
     "output_type": "stream",
     "text": [
      "<class 'pandas.core.frame.DataFrame'>\n",
      "Int64Index: 741756 entries, 2 to 836585\n",
      "Data columns (total 6 columns):\n",
      " #   Column         Non-Null Count   Dtype \n",
      "---  ------         --------------   ----- \n",
      " 0   listing_id     741756 non-null  int64 \n",
      " 1   id             741756 non-null  int64 \n",
      " 2   date           741756 non-null  object\n",
      " 3   reviewer_id    741756 non-null  int64 \n",
      " 4   reviewer_name  741756 non-null  object\n",
      " 5   comments       741756 non-null  object\n",
      "dtypes: int64(3), object(3)\n",
      "memory usage: 39.6+ MB\n"
     ]
    }
   ],
   "source": [
    "new_df.info()"
   ]
  },
  {
   "cell_type": "code",
   "execution_count": 17,
   "id": "australian-dialogue",
   "metadata": {},
   "outputs": [
    {
     "name": "stderr",
     "output_type": "stream",
     "text": [
      "<ipython-input-17-4a01bc5567f2>:2: SettingWithCopyWarning: \n",
      "A value is trying to be set on a copy of a slice from a DataFrame.\n",
      "Try using .loc[row_indexer,col_indexer] = value instead\n",
      "\n",
      "See the caveats in the documentation: https://pandas.pydata.org/pandas-docs/stable/user_guide/indexing.html#returning-a-view-versus-a-copy\n",
      "  new_df['comments'] = new_df['comments'].str.replace('\\n', ' ')\n"
     ]
    }
   ],
   "source": [
    "# remove \\n \n",
    "new_df['comments'] = new_df['comments'].str.replace('\\n', ' ')"
   ]
  },
  {
   "cell_type": "code",
   "execution_count": 18,
   "id": "billion-pakistan",
   "metadata": {},
   "outputs": [
    {
     "data": {
      "text/plain": [
       "'hi to everyone\\r would say our greatest compliments to jennifer the host of midtown castle we spent in this lovely apartment in the heart of manhattan one month april   and will remember this time as ours best\\r the apartment is pretty spacious and great located  the  th ave right around the corner there is everything you can need during your short or long stay jennifer is very friendly vigorous and very responsible host thanks her and highly recomend this apartment for everyone who are looking for a quiet place right in the center of the boiling midtown'"
      ]
     },
     "execution_count": 18,
     "metadata": {},
     "output_type": "execute_result"
    }
   ],
   "source": [
    "new_df.iloc[3, 5]"
   ]
  },
  {
   "cell_type": "code",
   "execution_count": 19,
   "id": "objective-protest",
   "metadata": {},
   "outputs": [],
   "source": [
    "new_df.to_csv('reviews_english.csv', index=False)"
   ]
  },
  {
   "cell_type": "code",
   "execution_count": 21,
   "id": "environmental-imagination",
   "metadata": {},
   "outputs": [
    {
     "data": {
      "text/plain": [
       "(array([6.67092e+05, 6.24030e+04, 8.89600e+03, 2.12900e+03, 9.60000e+02,\n",
       "        1.50000e+02, 6.20000e+01, 2.70000e+01, 1.80000e+01, 1.90000e+01]),\n",
       " array([1.000e+00, 1.070e+02, 2.130e+02, 3.190e+02, 4.250e+02, 5.310e+02,\n",
       "        6.370e+02, 7.430e+02, 8.490e+02, 9.550e+02, 1.061e+03]),\n",
       " <BarContainer object of 10 artists>)"
      ]
     },
     "execution_count": 21,
     "metadata": {},
     "output_type": "execute_result"
    },
    {
     "data": {
      "image/png": "[encoded data removed]",
      "text/plain": [
       "<Figure size 432x288 with 1 Axes>"
      ]
     },
     "metadata": {
      "needs_background": "light"
     },
     "output_type": "display_data"
    }
   ],
   "source": [
    "plt.hist(new_df.comments.str.count(' ') + 1)"
   ]
  },
  {
   "cell_type": "code",
   "execution_count": 2,
   "id": "lined-webmaster",
   "metadata": {},
   "outputs": [],
   "source": [
    "eng_reviews = pd.read_csv('reviews_english.csv')"
   ]
  },
  {
   "cell_type": "code",
   "execution_count": 3,
   "id": "alpha-location",
   "metadata": {},
   "outputs": [
    {
     "data": {
      "text/html": [
       "<div>\n",
       "<style scoped>\n",
       "    .dataframe tbody tr th:only-of-type {\n",
       "        vertical-align: middle;\n",
       "    }\n",
       "\n",
       "    .dataframe tbody tr th {\n",
       "        vertical-align: top;\n",
       "    }\n",
       "\n",
       "    .dataframe thead th {\n",
       "        text-align: right;\n",
       "    }\n",
       "</style>\n",
       "<table border=\"1\" class=\"dataframe\">\n",
       "  <thead>\n",
       "    <tr style=\"text-align: right;\">\n",
       "      <th></th>\n",
       "      <th>listing_id</th>\n",
       "      <th>id</th>\n",
       "      <th>date</th>\n",
       "      <th>reviewer_id</th>\n",
       "      <th>reviewer_name</th>\n",
       "      <th>comments</th>\n",
       "    </tr>\n",
       "  </thead>\n",
       "  <tbody>\n",
       "    <tr>\n",
       "      <th>0</th>\n",
       "      <td>2595</td>\n",
       "      <td>19760</td>\n",
       "      <td>2009-12-10</td>\n",
       "      <td>38960</td>\n",
       "      <td>Anita</td>\n",
       "      <td>ive stayed with my friend at the midtown castl...</td>\n",
       "    </tr>\n",
       "    <tr>\n",
       "      <th>1</th>\n",
       "      <td>2595</td>\n",
       "      <td>34320</td>\n",
       "      <td>2010-04-09</td>\n",
       "      <td>71130</td>\n",
       "      <td>Kai-Uwe</td>\n",
       "      <td>weve been staying here for about   nights enjo...</td>\n",
       "    </tr>\n",
       "    <tr>\n",
       "      <th>2</th>\n",
       "      <td>2595</td>\n",
       "      <td>46312</td>\n",
       "      <td>2010-05-25</td>\n",
       "      <td>117113</td>\n",
       "      <td>Alicia</td>\n",
       "      <td>we had a wonderful stay at jennifers charming ...</td>\n",
       "    </tr>\n",
       "    <tr>\n",
       "      <th>3</th>\n",
       "      <td>2595</td>\n",
       "      <td>1238204</td>\n",
       "      <td>2012-05-07</td>\n",
       "      <td>1783688</td>\n",
       "      <td>Sergey</td>\n",
       "      <td>hi to everyone\\r would say our greatest compli...</td>\n",
       "    </tr>\n",
       "    <tr>\n",
       "      <th>4</th>\n",
       "      <td>2595</td>\n",
       "      <td>1293632</td>\n",
       "      <td>2012-05-17</td>\n",
       "      <td>1870771</td>\n",
       "      <td>Loïc</td>\n",
       "      <td>jennifer was very friendly and helpful and her...</td>\n",
       "    </tr>\n",
       "  </tbody>\n",
       "</table>\n",
       "</div>"
      ],
      "text/plain": [
       "   listing_id       id        date  reviewer_id reviewer_name  \\\n",
       "0        2595    19760  2009-12-10        38960         Anita   \n",
       "1        2595    34320  2010-04-09        71130       Kai-Uwe   \n",
       "2        2595    46312  2010-05-25       117113        Alicia   \n",
       "3        2595  1238204  2012-05-07      1783688        Sergey   \n",
       "4        2595  1293632  2012-05-17      1870771          Loïc   \n",
       "\n",
       "                                            comments  \n",
       "0  ive stayed with my friend at the midtown castl...  \n",
       "1  weve been staying here for about   nights enjo...  \n",
       "2  we had a wonderful stay at jennifers charming ...  \n",
       "3  hi to everyone\\r would say our greatest compli...  \n",
       "4  jennifer was very friendly and helpful and her...  "
      ]
     },
     "execution_count": 3,
     "metadata": {},
     "output_type": "execute_result"
    }
   ],
   "source": [
    "eng_reviews.head()"
   ]
  },
  {
   "cell_type": "code",
   "execution_count": 5,
   "id": "adolescent-luxury",
   "metadata": {},
   "outputs": [
    {
     "name": "stdout",
     "output_type": "stream",
     "text": [
      "<class 'pandas.core.frame.DataFrame'>\n",
      "RangeIndex: 741756 entries, 0 to 741755\n",
      "Data columns (total 6 columns):\n",
      " #   Column         Non-Null Count   Dtype \n",
      "---  ------         --------------   ----- \n",
      " 0   listing_id     741756 non-null  int64 \n",
      " 1   id             741756 non-null  int64 \n",
      " 2   date           741756 non-null  object\n",
      " 3   reviewer_id    741756 non-null  int64 \n",
      " 4   reviewer_name  741756 non-null  object\n",
      " 5   comments       740667 non-null  object\n",
      "dtypes: int64(3), object(3)\n",
      "memory usage: 34.0+ MB\n"
     ]
    }
   ],
   "source": [
    "eng_reviews.info()"
   ]
  },
  {
   "cell_type": "code",
   "execution_count": 4,
   "id": "american-florida",
   "metadata": {},
   "outputs": [],
   "source": [
    "eng_reviews.dropna(inplace=True)"
   ]
  },
  {
   "cell_type": "code",
   "execution_count": 11,
   "id": "presidential-london",
   "metadata": {},
   "outputs": [
    {
     "name": "stdout",
     "output_type": "stream",
     "text": [
      "leslie was a charming and really helpful host her flat is cosy and nice and perfectly located\n",
      "\n",
      "spacious studio apartment bassam  sam father  son are very professional and welcoming this apartment is perfect for couple with kids we brought our   month old daughter and it was perfect  host was nice to turn up the heat when it was cold kitchenette includes full size fridge conventional oven and portable stove definitely will stay again if we ever come back in the neighborhood\n",
      "\n",
      "lara’s place was lovely meeting up to get keys was easy the room was clean and adorable i’d absolutely recommend it to anyone and would love to stay again\n",
      "\n",
      "nora is a perfect hostess everything occurred as i was expecting it is an excellent location i could not wish nothing better it was an amazing experience\n",
      "\n",
      "great place great location great host\n",
      "\n",
      "this is a very nice place for family or few friends to live in the location is excellent as the subway station is just   mins walk and it also only takes   mins walk to time square the place may better for u to live in in autumn or spring as it is on fifth floor maybe some of u would suffer from the stairs climbing\n",
      "\n",
      "marinas home was beautiful and i would recommend it to anyone also she was a great host\n",
      "\n",
      "nicholas’ place was in the best possible location and we found that everything was at very most   minutes away  brooklyn uptown queens and midtown  we were there to explore and the flat helped us to do exactly that\n",
      "\n",
      "people make a difference the culture of the house was homely and welcoming but at the same time set a culture of good conduct there wasnt too much pressure with rules and there wasnt any real need for it a really cool place to stay \n",
      "\n",
      "great place and location would definitely book again\n",
      "\n"
     ]
    }
   ],
   "source": [
    "for review in eng_reviews['comments'].sample(10).values:\n",
    "    print(review)\n",
    "    print()"
   ]
  },
  {
   "cell_type": "markdown",
   "id": "enclosed-cornell",
   "metadata": {},
   "source": [
    " # NMF"
   ]
  },
  {
   "cell_type": "code",
   "execution_count": 63,
   "id": "convertible-rochester",
   "metadata": {},
   "outputs": [],
   "source": [
    "stopwords = nltk.corpus.stopwords.words('english')\n",
    "newStopWords = ['nyc','york', 'stayed', 'really', 'person', 'definitely', 'thank', 'thanks', 'staying', 'looking', 'just', 'stay',\n",
    "               'also', 'get', 'would', 'aa', 'aaa', 'aaaa', 'aaaaa', 'us', 'great', 'mirco', 'snes', 'myrdith', 'chandra', 'place', \n",
    "               'dolores', 'chen', 'even', 'monifa', 'dalton', 'well', 'mk', 'made', 'sahr', 'jt', 'thiago', 'hanna', 'shelly', 'faye',\n",
    "               'jamilya', 'bertha', 'aya', 'loyda', 'mete', 'tiziana', 'curtis', 'haythem', 'tio', 'however', 'bit', 'regina', 'erica',\n",
    "               'jenn','edgar', 'jeffrey', 'antonio', 'beatrix', 'tina', 'jesse', 'sammy', 'monika', 'freda', 'kelvin', 'sadie', 'mo',\n",
    "               'aleksandra', 'elvin', 'farhan', 'jhon', 'jade', 'barry', 'ingrid', 'kem', 'heide', 'je', 'nice', 'like', 'nathan', 'chad',\n",
    "               'yochi', 'raquel', 'kent', 'zach', 'christa', 'pamela', 'maralla', 'richelle', 'jeannie', 'bernardo', 'kyisvu', 'lauren',\n",
    "               'gina', 'lucien', 'gus', 'herman', 'darnell', 'wasnt', 'joseph', 'iso', 'emily', 'tracy', 'lynn', 'charlene', 'ronnie', \n",
    "               'rosa', 'jackie', 'reka', 'dante', 'dominik', 'rhita', 'pela', 'mia', 'martin', 'sean', 'sara', 'kimberley', 'alexandre', \n",
    "               'though', 'soon', 'victor', 'caroline', 'viviana', 'ron', 'matt', 'nick', 'tim', 'robin', 'monica', 'xavier', 'patricia',\n",
    "               'marjorie', 'teddy', 'maxime', 'loli', 'blanca', 'andressa', 'paulo', 'stacey', 'gillian', 'ross', 'dani', 'susi', 'agnes',\n",
    "               'javier', 'charisse', 'didnt', 'susi', 'lisas', 'christa', 'elle', 'ever', 'lakshan', 'yuval', 'laurenta', 'everything', \n",
    "               'jalen', 'albert', 'joe', 'lucilu', 'greg', 'conrad', 'jeff', 'frances', 'zachs', 'nadir', 'cara', 'olzhas', 'rena',\n",
    "               'petra', 'kat', 'laurens', 'gane', 'charles', 'martha', 'nora', 'jared', 'britt', 'abe', 'carrie', 'penny', 'harvin',\n",
    "               'lory', 'vikas', 'remi', 'tonia', 'svetlana', 'seans','holly', 'got', 'dont', 'know', 'let', 'could', 'absolutely',\n",
    "               'take', 'youre', 'quite', 'need', 'want', 'day', 'back', 'gave', 'enough', 'airbnb', 'anyone', 'ok', 'brooklyn', 'perfect',\n",
    "               'highly', 'amazing', 'location', 'manhattan', 'good', 'night', 'super', 'one', 'overall', 'two', 'say', 'another', 'said', \n",
    "               'people', 'awesome', 'highly', 'loved', 'enjoyed', 'spot', 'excellent', 'lovely', 'time', 'feel', 'sure', 'wonderful', 'recommend',\n",
    "               'recommended', 'upon', 'home', 'everyone', 'friends', 'apartment', 'beautiful', 'located', 'fantastic', 'needed', 'quick', 'quickly',\n",
    "               'may', 'high', 'due', 'long', 'things', 'city', 'trip', 'family', 'next', 'every', 'much', 'minutes', 'much', 'felt', 'check', 'use', 'easy',\n",
    "               'first', 'luggage', 'since', 'hours', 'able', 'never', 'go', 'best', 'see', 'house', 'lot', 'found', 'always', 'went', 'way',\n",
    "               'nights', 'without', 'took', 'think', 'still', 'week', 'spent', 'told', 'find', 'guests', 'especially', 'make', 'visit',\n",
    "               'better', 'met','experience', 'arrived','late','left','experience','morning','provided','early','flight','leave','came']\n",
    "stopwords.extend(newStopWords)"
   ]
  },
  {
   "cell_type": "code",
   "execution_count": 64,
   "id": "placed-chile",
   "metadata": {},
   "outputs": [],
   "source": [
    "# using tfidf vectorizer \n",
    "tf = TfidfVectorizer(stop_words=stopwords, min_df = 2, max_df=0.7)\n",
    "\n",
    "word_matrix = tf.fit_transform(eng_reviews['comments'])\n",
    "\n",
    "vocab = tf.get_feature_names()"
   ]
  },
  {
   "cell_type": "code",
   "execution_count": 65,
   "id": "closing-cinema",
   "metadata": {},
   "outputs": [
    {
     "data": {
      "text/plain": [
       "57760"
      ]
     },
     "execution_count": 65,
     "metadata": {},
     "output_type": "execute_result"
    }
   ],
   "source": [
    "len(vocab)"
   ]
  },
  {
   "cell_type": "code",
   "execution_count": 53,
   "id": "little-montana",
   "metadata": {},
   "outputs": [
    {
     "name": "stderr",
     "output_type": "stream",
     "text": [
      "C:\\Users\\sandy\\anaconda3_2nd_download\\envs\\metis\\lib\\site-packages\\sklearn\\decomposition\\_nmf.py:312: FutureWarning: The 'init' value, when 'init=None' and n_components is less than n_samples and n_features, will be changed from 'nndsvd' to 'nndsvda' in 1.1 (renaming of 0.26).\n",
      "  warnings.warn((\"The 'init' value, when 'init=None' and \"\n"
     ]
    },
    {
     "data": {
      "text/plain": [
       "NMF(n_components=3)"
      ]
     },
     "execution_count": 53,
     "metadata": {},
     "output_type": "execute_result"
    }
   ],
   "source": [
    "# NMF run using 3 topics\n",
    "nmf = NMF(n_components=3)\n",
    "\n",
    "nmf.fit(word_matrix)"
   ]
  },
  {
   "cell_type": "code",
   "execution_count": 54,
   "id": "practical-updating",
   "metadata": {},
   "outputs": [],
   "source": [
    "topic_matrix = nmf.transform(word_matrix)"
   ]
  },
  {
   "cell_type": "code",
   "execution_count": 55,
   "id": "accessible-redhead",
   "metadata": {},
   "outputs": [
    {
     "data": {
      "text/html": [
       "<div>\n",
       "<style scoped>\n",
       "    .dataframe tbody tr th:only-of-type {\n",
       "        vertical-align: middle;\n",
       "    }\n",
       "\n",
       "    .dataframe tbody tr th {\n",
       "        vertical-align: top;\n",
       "    }\n",
       "\n",
       "    .dataframe thead th {\n",
       "        text-align: right;\n",
       "    }\n",
       "</style>\n",
       "<table border=\"1\" class=\"dataframe\">\n",
       "  <thead>\n",
       "    <tr style=\"text-align: right;\">\n",
       "      <th></th>\n",
       "      <th>topic_0</th>\n",
       "      <th>topic_1</th>\n",
       "      <th>topic_2</th>\n",
       "      <th>comments</th>\n",
       "    </tr>\n",
       "  </thead>\n",
       "  <tbody>\n",
       "    <tr>\n",
       "      <th>0</th>\n",
       "      <td>0.006478</td>\n",
       "      <td>0.003851</td>\n",
       "      <td>0.000000</td>\n",
       "      <td>ive stayed with my friend at the midtown castl...</td>\n",
       "    </tr>\n",
       "    <tr>\n",
       "      <th>1</th>\n",
       "      <td>0.007955</td>\n",
       "      <td>0.000000</td>\n",
       "      <td>0.000483</td>\n",
       "      <td>weve been staying here for about   nights enjo...</td>\n",
       "    </tr>\n",
       "    <tr>\n",
       "      <th>2</th>\n",
       "      <td>0.002752</td>\n",
       "      <td>0.000000</td>\n",
       "      <td>0.001357</td>\n",
       "      <td>we had a wonderful stay at jennifers charming ...</td>\n",
       "    </tr>\n",
       "    <tr>\n",
       "      <th>3</th>\n",
       "      <td>0.006379</td>\n",
       "      <td>0.000000</td>\n",
       "      <td>0.013700</td>\n",
       "      <td>hi to everyone\\r would say our greatest compli...</td>\n",
       "    </tr>\n",
       "    <tr>\n",
       "      <th>4</th>\n",
       "      <td>0.007152</td>\n",
       "      <td>0.000000</td>\n",
       "      <td>0.003025</td>\n",
       "      <td>jennifer was very friendly and helpful and her...</td>\n",
       "    </tr>\n",
       "  </tbody>\n",
       "</table>\n",
       "</div>"
      ],
      "text/plain": [
       "    topic_0   topic_1   topic_2  \\\n",
       "0  0.006478  0.003851  0.000000   \n",
       "1  0.007955  0.000000  0.000483   \n",
       "2  0.002752  0.000000  0.001357   \n",
       "3  0.006379  0.000000  0.013700   \n",
       "4  0.007152  0.000000  0.003025   \n",
       "\n",
       "                                            comments  \n",
       "0  ive stayed with my friend at the midtown castl...  \n",
       "1  weve been staying here for about   nights enjo...  \n",
       "2  we had a wonderful stay at jennifers charming ...  \n",
       "3  hi to everyone\\r would say our greatest compli...  \n",
       "4  jennifer was very friendly and helpful and her...  "
      ]
     },
     "execution_count": 55,
     "metadata": {},
     "output_type": "execute_result"
    }
   ],
   "source": [
    "topic_matrix_df = pd.DataFrame(topic_matrix).add_prefix('topic_')\n",
    "\n",
    "topic_matrix_df['comments'] = eng_reviews['comments']\n",
    "topic_matrix_df.head()"
   ]
  },
  {
   "cell_type": "code",
   "execution_count": 56,
   "id": "hourly-consortium",
   "metadata": {},
   "outputs": [
    {
     "data": {
      "text/html": [
       "<div>\n",
       "<style scoped>\n",
       "    .dataframe tbody tr th:only-of-type {\n",
       "        vertical-align: middle;\n",
       "    }\n",
       "\n",
       "    .dataframe tbody tr th {\n",
       "        vertical-align: top;\n",
       "    }\n",
       "\n",
       "    .dataframe thead th {\n",
       "        text-align: right;\n",
       "    }\n",
       "</style>\n",
       "<table border=\"1\" class=\"dataframe\">\n",
       "  <thead>\n",
       "    <tr style=\"text-align: right;\">\n",
       "      <th></th>\n",
       "      <th>topic_0</th>\n",
       "      <th>topic_1</th>\n",
       "      <th>topic_2</th>\n",
       "    </tr>\n",
       "  </thead>\n",
       "  <tbody>\n",
       "    <tr>\n",
       "      <th>aaaaand</th>\n",
       "      <td>0.000149</td>\n",
       "      <td>0.000000</td>\n",
       "      <td>0.000011</td>\n",
       "    </tr>\n",
       "    <tr>\n",
       "      <th>aaaand</th>\n",
       "      <td>0.000073</td>\n",
       "      <td>0.000002</td>\n",
       "      <td>0.000000</td>\n",
       "    </tr>\n",
       "    <tr>\n",
       "      <th>aaand</th>\n",
       "      <td>0.000170</td>\n",
       "      <td>0.000000</td>\n",
       "      <td>0.000121</td>\n",
       "    </tr>\n",
       "    <tr>\n",
       "      <th>aabout</th>\n",
       "      <td>0.000063</td>\n",
       "      <td>0.000000</td>\n",
       "      <td>0.000000</td>\n",
       "    </tr>\n",
       "    <tr>\n",
       "      <th>aadi</th>\n",
       "      <td>0.000105</td>\n",
       "      <td>0.000025</td>\n",
       "      <td>0.000000</td>\n",
       "    </tr>\n",
       "  </tbody>\n",
       "</table>\n",
       "</div>"
      ],
      "text/plain": [
       "          topic_0   topic_1   topic_2\n",
       "aaaaand  0.000149  0.000000  0.000011\n",
       "aaaand   0.000073  0.000002  0.000000\n",
       "aaand    0.000170  0.000000  0.000121\n",
       "aabout   0.000063  0.000000  0.000000\n",
       "aadi     0.000105  0.000025  0.000000"
      ]
     },
     "execution_count": 56,
     "metadata": {},
     "output_type": "execute_result"
    }
   ],
   "source": [
    "word_topic_matrix_df = pd.DataFrame(nmf.components_, columns=vocab).T.add_prefix('topic_')\n",
    "word_topic_matrix_df.head()"
   ]
  },
  {
   "cell_type": "code",
   "execution_count": 57,
   "id": "coupled-freeze",
   "metadata": {},
   "outputs": [
    {
     "name": "stdout",
     "output_type": "stream",
     "text": [
      "this place is very nice and clean the host was very friendly and helpful\n",
      "\n",
      "the environment is engulfed in the indian culture expect the place to smell like fresh curry food all the time also be ready to spend a few dollars to do the drying for them because all the sheets are damp since they hang they hang dry cloths though the listing says entire town house it i actually just a small room with just a queen bed old couch and a nice bathroom\n",
      "\n",
      "fantastic experience from the moment i walked into the door april was very kind and accommodating and gave me a lot of recommendations for food and drinks  the apartment is great for a weekend in williamsburg walking distance to everything love all the artwork and the general vibe of the apartment very clean as well  \n",
      "\n",
      "lovely neighbourhood very close to the l train beautiful apartment theresa is super welcoming and clearly wants her guests to have a great time if you want to stay close but out of manhattan  and why wouldnt you want to experience a bit of real nyc  then theresas place is perfect \n",
      "\n",
      "very handy location and liza is a great host\n",
      "\n"
     ]
    }
   ],
   "source": [
    "# read 5 reviews in topic matrix\n",
    "for review in topic_matrix_df.sort_values(by='topic_0', ascending=False).head(5)['comments'].values:\n",
    "    print(review)\n",
    "    print()"
   ]
  },
  {
   "cell_type": "markdown",
   "id": "impossible-appeal",
   "metadata": {},
   "source": [
    "topic seem to be about location?"
   ]
  },
  {
   "cell_type": "code",
   "execution_count": 58,
   "id": "answering-executive",
   "metadata": {},
   "outputs": [
    {
     "name": "stdout",
     "output_type": "stream",
     "text": [
      "the pictures do this place no justice it’s located in a beautiful area w so many things close by damon  kent were easy to get ahold of and had the best food recommendations you have to try peaches down the street everything you need is walking distance and they have a fully stocked kitchenbathroombedrooms such a cozy home you truly fall in love with it\n",
      "\n",
      "my son and i recently spent   nights in lisas home and it was a wonderful experience the apartment is lovely and has everything you could possibly need or want it is brilliantly located in the best spot in soho and is close to every subway system in the city making it incredibly easy to get around lisa is a wonderful host and her attention and care in the lead up to and during our visit was very much appreciated her notes on what to do where to eat and how to get there were fabulous and we used them religiously to make sure we made the most of our time in nyc the check in process was so easy and we had no issues at all during our stay we certainly hope to be back at some stage\n",
      "\n",
      "the reservation was canceled   days before arrival this is an automated posting\n",
      "\n",
      "stayed in the the apartment for   weeks with a friend we found an apartment even better than the one described perfectly clean and lovely decorated its very confortable and you might find everything you need towels fully equipped kitchen etc\r",
      " the apartment is located just a fez blocks away from many metro station delis and markets so the location is very conveniently\r",
      " excellent\r",
      " \n",
      "\n",
      "richelle and pela have done a wonderful job creating a very welcoming comfortable and well appointed apartment in their home we found the apartment to be accurately represented on the website richelle and pela more than exceeded our expectation of the ideal hosts upon our arrival they were there to welcome us  had a supply of groceries  their friendliness and great spirit were such a welcoming feeling our visit to our son and daughter in law was greatly enhanced by staying in their apartment i would highly recommend to stay here\n",
      "\n"
     ]
    }
   ],
   "source": [
    "for review in topic_matrix_df.sort_values(by='topic_1', ascending=False).head(5)['comments'].values:\n",
    "    print(review)\n",
    "    print()"
   ]
  },
  {
   "cell_type": "code",
   "execution_count": 13,
   "id": "consolidated-biography",
   "metadata": {},
   "outputs": [],
   "source": [
    "def display_topics(model, feature_names, no_top_words, topic_names=None):\n",
    "    for ix, topic in enumerate(model.components_):\n",
    "        if not topic_names or not topic_names[ix]:\n",
    "            print(\"\\nTopic \", ix)\n",
    "        else:\n",
    "            print(\"\\nTopic: '\",topic_names[ix],\"'\")\n",
    "        print(\", \".join([feature_names[i]\n",
    "                        for i in topic.argsort()[:-no_top_words - 1:-1]]))"
   ]
  },
  {
   "cell_type": "code",
   "execution_count": 59,
   "id": "fitting-multimedia",
   "metadata": {
    "scrolled": true
   },
   "outputs": [
    {
     "name": "stdout",
     "output_type": "stream",
     "text": [
      "\n",
      "Topic  0\n",
      "clean, comfortable, room, close, subway, easy, space, quiet, neighborhood, restaurants\n",
      "\n",
      "Topic  1\n",
      "automated, canceled, posting, reservation, arrival, days, host, couple, late, departure\n",
      "\n",
      "Topic  2\n",
      "host, friendly, helpful, responsive, accommodating, kind, communication, best, welcoming, experience\n"
     ]
    }
   ],
   "source": [
    "display_topics(nmf, vocab, 10)"
   ]
  },
  {
   "cell_type": "code",
   "execution_count": 21,
   "id": "classified-locator",
   "metadata": {},
   "outputs": [
    {
     "data": {
      "text/html": [
       "<div>\n",
       "<style scoped>\n",
       "    .dataframe tbody tr th:only-of-type {\n",
       "        vertical-align: middle;\n",
       "    }\n",
       "\n",
       "    .dataframe tbody tr th {\n",
       "        vertical-align: top;\n",
       "    }\n",
       "\n",
       "    .dataframe thead th {\n",
       "        text-align: right;\n",
       "    }\n",
       "</style>\n",
       "<table border=\"1\" class=\"dataframe\">\n",
       "  <thead>\n",
       "    <tr style=\"text-align: right;\">\n",
       "      <th></th>\n",
       "      <th>topic_0</th>\n",
       "      <th>topic_1</th>\n",
       "      <th>topic_2</th>\n",
       "    </tr>\n",
       "  </thead>\n",
       "  <tbody>\n",
       "    <tr>\n",
       "      <th>great</th>\n",
       "      <td>11.112741</td>\n",
       "      <td>0.000000</td>\n",
       "      <td>0.000000</td>\n",
       "    </tr>\n",
       "    <tr>\n",
       "      <th>place</th>\n",
       "      <td>4.342581</td>\n",
       "      <td>2.867712</td>\n",
       "      <td>0.000000</td>\n",
       "    </tr>\n",
       "    <tr>\n",
       "      <th>location</th>\n",
       "      <td>3.013177</td>\n",
       "      <td>1.818869</td>\n",
       "      <td>0.000000</td>\n",
       "    </tr>\n",
       "    <tr>\n",
       "      <th>host</th>\n",
       "      <td>1.669739</td>\n",
       "      <td>1.709347</td>\n",
       "      <td>2.549100</td>\n",
       "    </tr>\n",
       "    <tr>\n",
       "      <th>value</th>\n",
       "      <td>0.448099</td>\n",
       "      <td>0.299908</td>\n",
       "      <td>0.000000</td>\n",
       "    </tr>\n",
       "    <tr>\n",
       "      <th>communication</th>\n",
       "      <td>0.413795</td>\n",
       "      <td>0.617036</td>\n",
       "      <td>0.004193</td>\n",
       "    </tr>\n",
       "    <tr>\n",
       "      <th>space</th>\n",
       "      <td>0.374152</td>\n",
       "      <td>1.258167</td>\n",
       "      <td>0.000000</td>\n",
       "    </tr>\n",
       "    <tr>\n",
       "      <th>recommend</th>\n",
       "      <td>0.356854</td>\n",
       "      <td>2.002127</td>\n",
       "      <td>0.000000</td>\n",
       "    </tr>\n",
       "    <tr>\n",
       "      <th>spot</th>\n",
       "      <td>0.278792</td>\n",
       "      <td>0.375804</td>\n",
       "      <td>0.000000</td>\n",
       "    </tr>\n",
       "    <tr>\n",
       "      <th>clean</th>\n",
       "      <td>0.275530</td>\n",
       "      <td>3.531404</td>\n",
       "      <td>0.000000</td>\n",
       "    </tr>\n",
       "  </tbody>\n",
       "</table>\n",
       "</div>"
      ],
      "text/plain": [
       "                 topic_0   topic_1   topic_2\n",
       "great          11.112741  0.000000  0.000000\n",
       "place           4.342581  2.867712  0.000000\n",
       "location        3.013177  1.818869  0.000000\n",
       "host            1.669739  1.709347  2.549100\n",
       "value           0.448099  0.299908  0.000000\n",
       "communication   0.413795  0.617036  0.004193\n",
       "space           0.374152  1.258167  0.000000\n",
       "recommend       0.356854  2.002127  0.000000\n",
       "spot            0.278792  0.375804  0.000000\n",
       "clean           0.275530  3.531404  0.000000"
      ]
     },
     "execution_count": 21,
     "metadata": {},
     "output_type": "execute_result"
    }
   ],
   "source": [
    "word_topic_matrix_df.sort_values(by='topic_0', ascending=False).head(10)"
   ]
  },
  {
   "cell_type": "code",
   "execution_count": 22,
   "id": "mathematical-insulation",
   "metadata": {},
   "outputs": [
    {
     "data": {
      "text/html": [
       "<div>\n",
       "<style scoped>\n",
       "    .dataframe tbody tr th:only-of-type {\n",
       "        vertical-align: middle;\n",
       "    }\n",
       "\n",
       "    .dataframe tbody tr th {\n",
       "        vertical-align: top;\n",
       "    }\n",
       "\n",
       "    .dataframe thead th {\n",
       "        text-align: right;\n",
       "    }\n",
       "</style>\n",
       "<table border=\"1\" class=\"dataframe\">\n",
       "  <thead>\n",
       "    <tr style=\"text-align: right;\">\n",
       "      <th></th>\n",
       "      <th>topic_0</th>\n",
       "      <th>topic_1</th>\n",
       "      <th>topic_2</th>\n",
       "    </tr>\n",
       "  </thead>\n",
       "  <tbody>\n",
       "    <tr>\n",
       "      <th>nice</th>\n",
       "      <td>0.000000</td>\n",
       "      <td>3.760930</td>\n",
       "      <td>0.0</td>\n",
       "    </tr>\n",
       "    <tr>\n",
       "      <th>clean</th>\n",
       "      <td>0.275530</td>\n",
       "      <td>3.531404</td>\n",
       "      <td>0.0</td>\n",
       "    </tr>\n",
       "    <tr>\n",
       "      <th>apartment</th>\n",
       "      <td>0.000000</td>\n",
       "      <td>3.164711</td>\n",
       "      <td>0.0</td>\n",
       "    </tr>\n",
       "    <tr>\n",
       "      <th>place</th>\n",
       "      <td>4.342581</td>\n",
       "      <td>2.867712</td>\n",
       "      <td>0.0</td>\n",
       "    </tr>\n",
       "    <tr>\n",
       "      <th>good</th>\n",
       "      <td>0.000000</td>\n",
       "      <td>2.458674</td>\n",
       "      <td>0.0</td>\n",
       "    </tr>\n",
       "    <tr>\n",
       "      <th>comfortable</th>\n",
       "      <td>0.010775</td>\n",
       "      <td>2.172361</td>\n",
       "      <td>0.0</td>\n",
       "    </tr>\n",
       "    <tr>\n",
       "      <th>room</th>\n",
       "      <td>0.000000</td>\n",
       "      <td>2.017205</td>\n",
       "      <td>0.0</td>\n",
       "    </tr>\n",
       "    <tr>\n",
       "      <th>recommend</th>\n",
       "      <td>0.356854</td>\n",
       "      <td>2.002127</td>\n",
       "      <td>0.0</td>\n",
       "    </tr>\n",
       "    <tr>\n",
       "      <th>close</th>\n",
       "      <td>0.026750</td>\n",
       "      <td>1.952934</td>\n",
       "      <td>0.0</td>\n",
       "    </tr>\n",
       "    <tr>\n",
       "      <th>subway</th>\n",
       "      <td>0.000000</td>\n",
       "      <td>1.951495</td>\n",
       "      <td>0.0</td>\n",
       "    </tr>\n",
       "  </tbody>\n",
       "</table>\n",
       "</div>"
      ],
      "text/plain": [
       "              topic_0   topic_1  topic_2\n",
       "nice         0.000000  3.760930      0.0\n",
       "clean        0.275530  3.531404      0.0\n",
       "apartment    0.000000  3.164711      0.0\n",
       "place        4.342581  2.867712      0.0\n",
       "good         0.000000  2.458674      0.0\n",
       "comfortable  0.010775  2.172361      0.0\n",
       "room         0.000000  2.017205      0.0\n",
       "recommend    0.356854  2.002127      0.0\n",
       "close        0.026750  1.952934      0.0\n",
       "subway       0.000000  1.951495      0.0"
      ]
     },
     "execution_count": 22,
     "metadata": {},
     "output_type": "execute_result"
    }
   ],
   "source": [
    "word_topic_matrix_df.sort_values(by='topic_1', ascending=False).head(10)"
   ]
  },
  {
   "cell_type": "code",
   "execution_count": 23,
   "id": "floral-measurement",
   "metadata": {},
   "outputs": [
    {
     "data": {
      "text/html": [
       "<div>\n",
       "<style scoped>\n",
       "    .dataframe tbody tr th:only-of-type {\n",
       "        vertical-align: middle;\n",
       "    }\n",
       "\n",
       "    .dataframe tbody tr th {\n",
       "        vertical-align: top;\n",
       "    }\n",
       "\n",
       "    .dataframe thead th {\n",
       "        text-align: right;\n",
       "    }\n",
       "</style>\n",
       "<table border=\"1\" class=\"dataframe\">\n",
       "  <thead>\n",
       "    <tr style=\"text-align: right;\">\n",
       "      <th></th>\n",
       "      <th>topic_0</th>\n",
       "      <th>topic_1</th>\n",
       "      <th>topic_2</th>\n",
       "    </tr>\n",
       "  </thead>\n",
       "  <tbody>\n",
       "    <tr>\n",
       "      <th>automated</th>\n",
       "      <td>0.000000</td>\n",
       "      <td>0.000000</td>\n",
       "      <td>4.401864</td>\n",
       "    </tr>\n",
       "    <tr>\n",
       "      <th>canceled</th>\n",
       "      <td>0.000000</td>\n",
       "      <td>0.000000</td>\n",
       "      <td>4.398378</td>\n",
       "    </tr>\n",
       "    <tr>\n",
       "      <th>posting</th>\n",
       "      <td>0.000000</td>\n",
       "      <td>0.000000</td>\n",
       "      <td>4.384911</td>\n",
       "    </tr>\n",
       "    <tr>\n",
       "      <th>reservation</th>\n",
       "      <td>0.000000</td>\n",
       "      <td>0.000000</td>\n",
       "      <td>4.280248</td>\n",
       "    </tr>\n",
       "    <tr>\n",
       "      <th>arrival</th>\n",
       "      <td>0.000000</td>\n",
       "      <td>0.000000</td>\n",
       "      <td>3.783040</td>\n",
       "    </tr>\n",
       "    <tr>\n",
       "      <th>days</th>\n",
       "      <td>0.000000</td>\n",
       "      <td>0.112075</td>\n",
       "      <td>3.438698</td>\n",
       "    </tr>\n",
       "    <tr>\n",
       "      <th>host</th>\n",
       "      <td>1.669739</td>\n",
       "      <td>1.709347</td>\n",
       "      <td>2.549100</td>\n",
       "    </tr>\n",
       "    <tr>\n",
       "      <th>day</th>\n",
       "      <td>0.000000</td>\n",
       "      <td>0.531333</td>\n",
       "      <td>0.242958</td>\n",
       "    </tr>\n",
       "    <tr>\n",
       "      <th>friendly</th>\n",
       "      <td>0.071143</td>\n",
       "      <td>1.139631</td>\n",
       "      <td>0.054039</td>\n",
       "    </tr>\n",
       "    <tr>\n",
       "      <th>wonderful</th>\n",
       "      <td>0.097553</td>\n",
       "      <td>1.047320</td>\n",
       "      <td>0.044837</td>\n",
       "    </tr>\n",
       "  </tbody>\n",
       "</table>\n",
       "</div>"
      ],
      "text/plain": [
       "              topic_0   topic_1   topic_2\n",
       "automated    0.000000  0.000000  4.401864\n",
       "canceled     0.000000  0.000000  4.398378\n",
       "posting      0.000000  0.000000  4.384911\n",
       "reservation  0.000000  0.000000  4.280248\n",
       "arrival      0.000000  0.000000  3.783040\n",
       "days         0.000000  0.112075  3.438698\n",
       "host         1.669739  1.709347  2.549100\n",
       "day          0.000000  0.531333  0.242958\n",
       "friendly     0.071143  1.139631  0.054039\n",
       "wonderful    0.097553  1.047320  0.044837"
      ]
     },
     "execution_count": 23,
     "metadata": {},
     "output_type": "execute_result"
    }
   ],
   "source": [
    "word_topic_matrix_df.sort_values(by='topic_2', ascending=False).head(10)"
   ]
  },
  {
   "cell_type": "code",
   "execution_count": 27,
   "id": "cosmetic-auckland",
   "metadata": {},
   "outputs": [],
   "source": [
    "def top_reviews(topic_matrix_df, topic, num_of_reviews):\n",
    "    return (topic_matrix_df\n",
    "            .sort_values(by=topic, ascending=False)\n",
    "            .head(num_of_reviews)['comments']\n",
    "            .values)\n",
    "\n",
    "def top_words(word_topic_matrix_df, topic, n_of_words):\n",
    "    return (word_topic_matrix_df\n",
    "            .sort_values(by=topic, ascending=False)\n",
    "            .head(n_of_words))[topic]"
   ]
  },
  {
   "cell_type": "code",
   "execution_count": 25,
   "id": "suited-shelter",
   "metadata": {},
   "outputs": [
    {
     "name": "stdout",
     "output_type": "stream",
     "text": [
      "great location great host great apartment i will definitely book again thanks for your host\n",
      "\n",
      "really cute place tiny and cozy in a perfect location right off the street but once the door closes behind you you’d have no idea my husband and i had a great stay and would stay again in a heartbeat\n",
      "\n",
      "stuarts place was wonderful well appointed with a beautiful terrace comfy couch and comfy bed its close to the train station and all the stuff youd like to do in williamsburg and greenpoint we enjoyed it so much that we tried to stay an extra day but some other guests were already coming\n",
      "\n",
      "great host\n",
      "\n",
      "i had a great stay at azzas the room is huge and private the bed and pillows super comfortable the bathroom was always pretty clean also really enjoyed meeting azza and her bf steve they are both very considerate easy going and helpful people finally the neighborhood was great nearby laundromat and a few restaurants i recommend toms diner and kimchi grill its a quiet and relaxing hood i guess the commute from manhattan can be long and tricky late at night but otherwise a solid location park nearby is great too\n",
      "\n",
      "this place was wonderful and the host was very easy to reach whenever necessary\n",
      "\n",
      "perfect location short walk to the train and among all of our favorite places to eat\n",
      "\n",
      "the room was small but adequate and anthony was accommodating the bathroom really wasnt very clean\n",
      "\n",
      "jennifer is a truly exceptional host generous responsive and personable she went above and beyond to make my stay special as has been stated you can hear some sounds from upstairs but jennifer and marcel were very quiet while i was there and this wasnt a problem in any way all in all a great place\n",
      "\n",
      "the best thing about staying at magnolia house were the hosts danforth and darwin  they were both so warm welcoming attentive and accommodating  we felt like their house was our house for the week that we stayed there  danforth greeted my husband my son and me upon arrival with a tour of the accommodations and libations  whiskey and wine  we had wonderful conversation on the veranda  the location was very convenient  just a  minute walk  for taking the free staten island ferry to manhattan  we especially loved the view when we were walking in the neighborhood  we went to a staten island yankees baseball game which is just an  minute walk away  the best minor league ballpark we have ever seen with the beautiful view of the water and manhattan in the distance  the suites were filled with historically interesting artifacts  we wish we had time to get a full tour and explanation of all the wonderful items in the rooms but our schedule was packed so we didnt have a lot of time to peruse and admire all that was in the rooms  darwin provided amazing breakfasts of eggs bacon danishes fruit salad coffee orange juice and toasted butter as well as trips down hollywoods memory lane through conversation  we loved our stay at magnolia house and we felt that we made new friends in danforth and darwin  we cant wait to visit again in the future\n",
      "\n",
      "the apartment is great stylish very spacious and it has a great location to take the subway as others users mentioned the neighborhood looks rough but nothing bad happened to us gonda is very friendly and attentive but we had some problems when dropping the keys being a bit far away from the building\n",
      "\n",
      "i stayed for one night but she was keen to make everything perfect in this short time the cat is friendly \n",
      "\n",
      "the location was perfect for riding the subway into manhattan literally less than   feet away is the c train the apartment was very well furnished and myah was a great host highly recommend\n",
      "\n",
      "henry is a great host greeted us in person and had a set of keys ready for us the apartment is super cute and close to everything youll need to explore nyc great amenities and helpful tips ready to go as soon as we arrived big thanks for helping our trip go smoothly\n",
      "\n",
      "amazing hospitality and great service highlight recommend\n",
      "\n"
     ]
    }
   ],
   "source": [
    "for review in top_reviews(topic_matrix_df, 'topic_0', 15):\n",
    "    print(review)\n",
    "    print()"
   ]
  },
  {
   "cell_type": "code",
   "execution_count": 28,
   "id": "visible-decision",
   "metadata": {},
   "outputs": [
    {
     "data": {
      "text/plain": [
       "great            11.112741\n",
       "place             4.342581\n",
       "location          3.013177\n",
       "host              1.669739\n",
       "value             0.448099\n",
       "communication     0.413795\n",
       "space             0.374152\n",
       "recommend         0.356854\n",
       "spot              0.278792\n",
       "clean             0.275530\n",
       "Name: topic_0, dtype: float64"
      ]
     },
     "execution_count": 28,
     "metadata": {},
     "output_type": "execute_result"
    }
   ],
   "source": [
    "top_words(word_topic_matrix_df, 'topic_0', 10)"
   ]
  },
  {
   "cell_type": "code",
   "execution_count": 29,
   "id": "subject-logging",
   "metadata": {},
   "outputs": [
    {
     "name": "stdout",
     "output_type": "stream",
     "text": [
      "very good location the apartment is perfectly clean   ez is nice and very reactive   as i said to him the sofa bed is not comfy and must be changed or repaired\n",
      "\n",
      "location location location\r",
      " \r",
      " just   or   blocks to everything basic one channel tv comfortable bed fridge and microwave\r",
      " \r",
      " all you need if you are looking for a place to sleep and take a bath clean near everything \n",
      "\n",
      "amazing stay  and highly recommend to future travelers everything is as advertised and more\n",
      "\n",
      "this home was perfect for our quick trip to visit family it was the perfect location for us we were greeted by the hosts husband who showed us around and was very welcoming  ms marie responded very quickly to messages we needed to  check in an hour earlier and ms marie was able to accommodate i will be back thank you so much definitely a hidden gem\n",
      "\n",
      "we really enjoyed our stay here its perfect for a sightseeing trip in nyc the subway is super close to the appartement and takes you easily to whererver you want to be\n",
      "\n",
      "rhondas place was very clean and well decorated she is very accommodating and has excellent communication i was very happy with my stay i would definitely recommend her and she gives you complete privacy  \n",
      "\n",
      "we didnt meet krys upon arrival but she was easy to get in touch with and got back to any of our messages quickly we met krys parents who were extremely friendly and made sure our stay was enjoyable\r",
      " the place itself is exactly like the pictures  amazing antiques and it has a lot of character we were staying for one night and it was perfect for what we needed the bed is amazingly comfortable\r",
      " we had access to both gardens and krys parents said we could also use the shower which was really kind of them\r",
      " i would definitely recommend the place for anyone who wants to stay in a place with a bit of character rather than your standard hotel room and the hosts were very welcoming\n",
      "\n",
      "just as it says you will be happy comfortable and enjoy it\n",
      "\n",
      "it was a great and cozy place exactly as expected\n",
      "\n",
      "coming to nyc for fashion week was hectic and honestly i made plans super last minute but als place fell in my lap and my stay went wonderfully  once i found everything i needed my days here were smooth sailing thank you for the little treats much appreciated and big thank you to william for handling my little concerns early and efficiently \n",
      "\n",
      "lucies was a perfect place from which to explore a new nyc neighborhood for us we enjoyed the brownstone studios charm as a home base for several days of walking walking walking  our favorite nyc pastime  and eating delicious meals at friendly neighborhood restaurants\n",
      "\n",
      "we had a great time beautiful location place was very comfortable and welcoming definitely felt at home tim was a great host \n",
      "\n",
      "great location right down the street from the subway so you can travel into manhattan easily there is a really good bodega up the street as well the apartment is really big and avi is super accommodating and understanding \n",
      "\n",
      "we had an amazing time at gideons place very family friendly area great places to eat nearby would definitely stay again \n",
      "\n",
      "this week in ny at lucile’s place was great   min from subway lucile will always have a good advice for you \n",
      "\n"
     ]
    }
   ],
   "source": [
    "for review in top_reviews(topic_matrix_df, 'topic_1', 15):\n",
    "    print(review)\n",
    "    print()"
   ]
  },
  {
   "cell_type": "code",
   "execution_count": 30,
   "id": "common-correction",
   "metadata": {},
   "outputs": [
    {
     "data": {
      "text/plain": [
       "nice           3.760930\n",
       "clean          3.531404\n",
       "apartment      3.164711\n",
       "place          2.867712\n",
       "good           2.458674\n",
       "comfortable    2.172361\n",
       "room           2.017205\n",
       "recommend      2.002127\n",
       "close          1.952934\n",
       "subway         1.951495\n",
       "Name: topic_1, dtype: float64"
      ]
     },
     "execution_count": 30,
     "metadata": {},
     "output_type": "execute_result"
    }
   ],
   "source": [
    "top_words(word_topic_matrix_df, 'topic_1', 10)"
   ]
  },
  {
   "cell_type": "markdown",
   "id": "honest-pressure",
   "metadata": {},
   "source": [
    "Describes the place"
   ]
  },
  {
   "cell_type": "code",
   "execution_count": 31,
   "id": "latter-grill",
   "metadata": {},
   "outputs": [
    {
     "name": "stdout",
     "output_type": "stream",
     "text": [
      "the place is just perfect very clean modern and everything you need subway is super close isaac had great tips and was very welcoming we had a great stay\n",
      "\n",
      "rena is really kind and helpful person i loved the stay\n",
      "\n",
      "great apartment great hosts \n",
      "\n",
      "great location\n",
      "\n",
      "horrible  if you are a peaceful person and want a place to stay  this is not it  i arrived a day late which i told the host  upon arrival she didn’t greet me  she wasn’t even home  she told me wait for someone to open the building door so i was outside cold  on top of that she’s so sarcastic she’s also weird  i am a nice person so all that drama and yelling isn’t for me  there was constant arguing in her loft \n",
      "\n",
      "good location comfortable bed  good shower very responsive host\n",
      "\n",
      "dianas air bnb is the only place to stay in new york and is near perfection from an accommodation point of view the room is spacious clean stocked with everything you need to make it feel like home and has an incredibly comfortable bed and bathroom diana has thought of every detail right down to the most comfortable of towels the location is impeccable being just a   minute walk to a highly versatile subway stop and surrounded by a myriad of eating places the remainder of the house is such a a vibrant and warm experience from the moment you walk in you will feel like your at home bolstered by the warmth of diana and her roommates every question will be answered with an enthusiasm and zeal that only diana has the degree to which i was embraced into this house made me extend my stay by another   weeks dianas air bnb is the best discovery i have made in new york i would frankly stay there forever if it was possible thank you diana \n",
      "\n",
      "large spacious appartment with two double bedrooms and a large loungedining room very comfortable and peaceful  very close to a and c lines supermarket food shops and a launderette\n",
      "\n",
      "we that is seven art students from sweden invaded tara and lees place  for almost three weeks tara and lee also stayed there during our visit as soon as we arrived both tara and lee made us all feel very much at home and we really did we all hung out a lot in the shared living room and we never felt like we were intruding on their privacy or vice versa it was really close to bedford ave with all its cafés restaurants bars and shops the neighborhood was calm and quiet\r",
      " \r",
      " tara and lee are very generous and helpful and friendly we definitely recommend staying with them we had a great time \r",
      " \r",
      " you guys are the best no lee youre \n",
      "\n",
      "daniella was a fantastic host  she and her husband made us feel very welcome  the apartment was clean and modern as advertised and very spacious the large kitchen area was particularly nice   its a good familyfriendly neighborhood with easy access to the subway  we had a great time staying on new years eve and recommend it to anyone seeking a quiet spot in brooklyn \n",
      "\n",
      "the host canceled this reservation   days before arrival this is an automated posting\n",
      "\n",
      "james was very responsive to any questions we had and his place is in a great location perfect for exploring chelsea \n",
      "\n",
      "very nice apartment spacious good wifi good connection to the subway great stay\n",
      "\n",
      "luke was a great host he was easily reachable accommodating and friendly even when i had to change the reservation the location is good it was about a   minute walk to the subway the apartment and the room were also clean and orderly \n",
      "\n",
      "description spot on perfect location and super clean loved the bathroom connected to the bedroom we didnt spend that much time in the flat but it is very charming we would totally stay again\n",
      "\n"
     ]
    }
   ],
   "source": [
    "for review in top_reviews(topic_matrix_df, 'topic_2', 15):\n",
    "    print(review)\n",
    "    print()"
   ]
  },
  {
   "cell_type": "code",
   "execution_count": 32,
   "id": "powerful-matthew",
   "metadata": {},
   "outputs": [
    {
     "data": {
      "text/plain": [
       "automated      4.401864\n",
       "canceled       4.398378\n",
       "posting        4.384911\n",
       "reservation    4.280248\n",
       "arrival        3.783040\n",
       "days           3.438698\n",
       "host           2.549100\n",
       "day            0.242958\n",
       "friendly       0.054039\n",
       "wonderful      0.044837\n",
       "Name: topic_2, dtype: float64"
      ]
     },
     "execution_count": 32,
     "metadata": {},
     "output_type": "execute_result"
    }
   ],
   "source": [
    "top_words(word_topic_matrix_df, 'topic_2', 10)"
   ]
  },
  {
   "cell_type": "markdown",
   "id": "numeric-relationship",
   "metadata": {},
   "source": [
    "The reservation/booking process(whether the booking was canceled)"
   ]
  },
  {
   "cell_type": "code",
   "execution_count": 40,
   "id": "spatial-citizenship",
   "metadata": {},
   "outputs": [],
   "source": [
    "l = top_words(word_topic_matrix_df, 'topic_0', 10)"
   ]
  },
  {
   "cell_type": "code",
   "execution_count": 41,
   "id": "exceptional-affairs",
   "metadata": {},
   "outputs": [
    {
     "data": {
      "text/plain": [
       "pandas.core.series.Series"
      ]
     },
     "execution_count": 41,
     "metadata": {},
     "output_type": "execute_result"
    }
   ],
   "source": [
    "type(l)"
   ]
  },
  {
   "cell_type": "code",
   "execution_count": 42,
   "id": "atomic-headset",
   "metadata": {},
   "outputs": [],
   "source": [
    "l_dict = l.to_dict()"
   ]
  },
  {
   "cell_type": "code",
   "execution_count": 43,
   "id": "waiting-delivery",
   "metadata": {},
   "outputs": [
    {
     "data": {
      "text/plain": [
       "{'great': 11.112740837816473,\n",
       " 'place': 4.342580834798545,\n",
       " 'location': 3.0131767147782433,\n",
       " 'host': 1.6697386829800334,\n",
       " 'value': 0.4480990435225789,\n",
       " 'communication': 0.4137953380185649,\n",
       " 'space': 0.3741523258391307,\n",
       " 'recommend': 0.35685392162386687,\n",
       " 'spot': 0.27879199610338673,\n",
       " 'clean': 0.27553011659480764}"
      ]
     },
     "execution_count": 43,
     "metadata": {},
     "output_type": "execute_result"
    }
   ],
   "source": [
    "l_dict"
   ]
  },
  {
   "cell_type": "code",
   "execution_count": 54,
   "id": "fossil-jason",
   "metadata": {},
   "outputs": [
    {
     "data": {
      "image/png": "[encoded data removed]",
      "text/plain": [
       "<Figure size 720x360 with 1 Axes>"
      ]
     },
     "metadata": {
      "needs_background": "light"
     },
     "output_type": "display_data"
    }
   ],
   "source": [
    "# word cloud for first topic\n",
    "wc = WordCloud(background_color=\"white\", max_words=10).generate_from_frequencies(l_dict)\n",
    "plt.figure(figsize=[10,5])\n",
    "plt.imshow(wc, interpolation='bilinear')\n",
    "plt.axis(\"off\")\n",
    "plt.savefig('topic1')\n",
    "plt.show()\n"
   ]
  },
  {
   "cell_type": "code",
   "execution_count": 50,
   "id": "utility-clause",
   "metadata": {},
   "outputs": [],
   "source": [
    "second_top=top_words(word_topic_matrix_df, 'topic_1', 10)"
   ]
  },
  {
   "cell_type": "code",
   "execution_count": 55,
   "id": "powered-milton",
   "metadata": {},
   "outputs": [
    {
     "data": {
      "image/png": "[encoded data removed]",
      "text/plain": [
       "<Figure size 720x360 with 1 Axes>"
      ]
     },
     "metadata": {
      "needs_background": "light"
     },
     "output_type": "display_data"
    }
   ],
   "source": [
    "second_top_dict = second_top.to_dict()\n",
    "wc = WordCloud(background_color=\"white\", max_words=10).generate_from_frequencies(second_top_dict)\n",
    "plt.figure(figsize=[10,5])\n",
    "plt.imshow(wc, interpolation='bilinear')\n",
    "plt.axis(\"off\")\n",
    "plt.savefig('topic2')\n",
    "plt.show()\n"
   ]
  },
  {
   "cell_type": "code",
   "execution_count": 56,
   "id": "brazilian-fairy",
   "metadata": {},
   "outputs": [
    {
     "data": {
      "image/png": "[encoded data removed]",
      "text/plain": [
       "<Figure size 720x360 with 1 Axes>"
      ]
     },
     "metadata": {
      "needs_background": "light"
     },
     "output_type": "display_data"
    }
   ],
   "source": [
    "third_top = top_words(word_topic_matrix_df, 'topic_2', 10)\n",
    "third_top_dict = third_top.to_dict()\n",
    "wc = WordCloud(background_color=\"white\", max_words=10).generate_from_frequencies(third_top_dict)\n",
    "plt.figure(figsize=[10,5])\n",
    "plt.imshow(wc, interpolation='bilinear')\n",
    "plt.axis(\"off\")\n",
    "plt.savefig('topic3')\n",
    "plt.show()"
   ]
  },
  {
   "cell_type": "code",
   "execution_count": 57,
   "id": "indian-bearing",
   "metadata": {},
   "outputs": [
    {
     "data": {
      "text/plain": [
       "<AxesSubplot:>"
      ]
     },
     "execution_count": 57,
     "metadata": {},
     "output_type": "execute_result"
    },
    {
     "data": {
      "image/png": "[encoded data removed]",
      "text/plain": [
       "<Figure size 432x288 with 1 Axes>"
      ]
     },
     "metadata": {
      "needs_background": "light"
     },
     "output_type": "display_data"
    }
   ],
   "source": [
    "l.plot.bar()"
   ]
  },
  {
   "cell_type": "code",
   "execution_count": 59,
   "id": "public-choice",
   "metadata": {},
   "outputs": [],
   "source": [
    "l_df = l.to_frame()"
   ]
  },
  {
   "cell_type": "code",
   "execution_count": 61,
   "id": "spectacular-armor",
   "metadata": {},
   "outputs": [],
   "source": [
    "l_df.reset_index(inplace=True)"
   ]
  },
  {
   "cell_type": "code",
   "execution_count": 62,
   "id": "oriented-honor",
   "metadata": {},
   "outputs": [
    {
     "data": {
      "text/html": [
       "<div>\n",
       "<style scoped>\n",
       "    .dataframe tbody tr th:only-of-type {\n",
       "        vertical-align: middle;\n",
       "    }\n",
       "\n",
       "    .dataframe tbody tr th {\n",
       "        vertical-align: top;\n",
       "    }\n",
       "\n",
       "    .dataframe thead th {\n",
       "        text-align: right;\n",
       "    }\n",
       "</style>\n",
       "<table border=\"1\" class=\"dataframe\">\n",
       "  <thead>\n",
       "    <tr style=\"text-align: right;\">\n",
       "      <th></th>\n",
       "      <th>index</th>\n",
       "      <th>topic_0</th>\n",
       "    </tr>\n",
       "  </thead>\n",
       "  <tbody>\n",
       "    <tr>\n",
       "      <th>0</th>\n",
       "      <td>great</td>\n",
       "      <td>11.112741</td>\n",
       "    </tr>\n",
       "    <tr>\n",
       "      <th>1</th>\n",
       "      <td>place</td>\n",
       "      <td>4.342581</td>\n",
       "    </tr>\n",
       "    <tr>\n",
       "      <th>2</th>\n",
       "      <td>location</td>\n",
       "      <td>3.013177</td>\n",
       "    </tr>\n",
       "    <tr>\n",
       "      <th>3</th>\n",
       "      <td>host</td>\n",
       "      <td>1.669739</td>\n",
       "    </tr>\n",
       "    <tr>\n",
       "      <th>4</th>\n",
       "      <td>value</td>\n",
       "      <td>0.448099</td>\n",
       "    </tr>\n",
       "    <tr>\n",
       "      <th>5</th>\n",
       "      <td>communication</td>\n",
       "      <td>0.413795</td>\n",
       "    </tr>\n",
       "    <tr>\n",
       "      <th>6</th>\n",
       "      <td>space</td>\n",
       "      <td>0.374152</td>\n",
       "    </tr>\n",
       "    <tr>\n",
       "      <th>7</th>\n",
       "      <td>recommend</td>\n",
       "      <td>0.356854</td>\n",
       "    </tr>\n",
       "    <tr>\n",
       "      <th>8</th>\n",
       "      <td>spot</td>\n",
       "      <td>0.278792</td>\n",
       "    </tr>\n",
       "    <tr>\n",
       "      <th>9</th>\n",
       "      <td>clean</td>\n",
       "      <td>0.275530</td>\n",
       "    </tr>\n",
       "  </tbody>\n",
       "</table>\n",
       "</div>"
      ],
      "text/plain": [
       "           index    topic_0\n",
       "0          great  11.112741\n",
       "1          place   4.342581\n",
       "2       location   3.013177\n",
       "3           host   1.669739\n",
       "4          value   0.448099\n",
       "5  communication   0.413795\n",
       "6          space   0.374152\n",
       "7      recommend   0.356854\n",
       "8           spot   0.278792\n",
       "9          clean   0.275530"
      ]
     },
     "execution_count": 62,
     "metadata": {},
     "output_type": "execute_result"
    }
   ],
   "source": [
    "l_df"
   ]
  },
  {
   "cell_type": "code",
   "execution_count": 63,
   "id": "executive-munich",
   "metadata": {},
   "outputs": [
    {
     "data": {
      "text/plain": [
       "<AxesSubplot:xlabel='index', ylabel='topic_0'>"
      ]
     },
     "execution_count": 63,
     "metadata": {},
     "output_type": "execute_result"
    },
    {
     "data": {
      "image/png": "[encoded data removed]",
      "text/plain": [
       "<Figure size 432x288 with 1 Axes>"
      ]
     },
     "metadata": {
      "needs_background": "light"
     },
     "output_type": "display_data"
    }
   ],
   "source": [
    "sns.barplot(x='index', y='topic_0', data=l_df)"
   ]
  },
  {
   "cell_type": "code",
   "execution_count": 66,
   "id": "damaged-research",
   "metadata": {},
   "outputs": [
    {
     "name": "stderr",
     "output_type": "stream",
     "text": [
      "C:\\Users\\sandy\\anaconda3_2nd_download\\envs\\metis\\lib\\site-packages\\sklearn\\decomposition\\_nmf.py:312: FutureWarning: The 'init' value, when 'init=None' and n_components is less than n_samples and n_features, will be changed from 'nndsvd' to 'nndsvda' in 1.1 (renaming of 0.26).\n",
      "  warnings.warn((\"The 'init' value, when 'init=None' and \"\n"
     ]
    },
    {
     "data": {
      "text/plain": [
       "NMF(n_components=6)"
      ]
     },
     "execution_count": 66,
     "metadata": {},
     "output_type": "execute_result"
    }
   ],
   "source": [
    "# NMF using 6 topics\n",
    "nmf_6 = NMF(n_components=6)\n",
    "\n",
    "nmf_6.fit(word_matrix)"
   ]
  },
  {
   "cell_type": "code",
   "execution_count": 67,
   "id": "prepared-multiple",
   "metadata": {},
   "outputs": [],
   "source": [
    "six_topic_matrix = nmf_6.transform(word_matrix)"
   ]
  },
  {
   "cell_type": "code",
   "execution_count": 68,
   "id": "collective-retreat",
   "metadata": {},
   "outputs": [
    {
     "data": {
      "text/html": [
       "<div>\n",
       "<style scoped>\n",
       "    .dataframe tbody tr th:only-of-type {\n",
       "        vertical-align: middle;\n",
       "    }\n",
       "\n",
       "    .dataframe tbody tr th {\n",
       "        vertical-align: top;\n",
       "    }\n",
       "\n",
       "    .dataframe thead th {\n",
       "        text-align: right;\n",
       "    }\n",
       "</style>\n",
       "<table border=\"1\" class=\"dataframe\">\n",
       "  <thead>\n",
       "    <tr style=\"text-align: right;\">\n",
       "      <th></th>\n",
       "      <th>topic_0</th>\n",
       "      <th>topic_1</th>\n",
       "      <th>topic_2</th>\n",
       "      <th>topic_3</th>\n",
       "      <th>topic_4</th>\n",
       "      <th>topic_5</th>\n",
       "      <th>comments</th>\n",
       "    </tr>\n",
       "  </thead>\n",
       "  <tbody>\n",
       "    <tr>\n",
       "      <th>0</th>\n",
       "      <td>0.004627</td>\n",
       "      <td>0.004011</td>\n",
       "      <td>0.000000</td>\n",
       "      <td>0.000273</td>\n",
       "      <td>0.000064</td>\n",
       "      <td>0.008166</td>\n",
       "      <td>ive stayed with my friend at the midtown castl...</td>\n",
       "    </tr>\n",
       "    <tr>\n",
       "      <th>1</th>\n",
       "      <td>0.009231</td>\n",
       "      <td>0.000000</td>\n",
       "      <td>0.000464</td>\n",
       "      <td>0.000000</td>\n",
       "      <td>0.000967</td>\n",
       "      <td>0.001578</td>\n",
       "      <td>weve been staying here for about   nights enjo...</td>\n",
       "    </tr>\n",
       "    <tr>\n",
       "      <th>2</th>\n",
       "      <td>0.003439</td>\n",
       "      <td>0.000000</td>\n",
       "      <td>0.001397</td>\n",
       "      <td>0.000603</td>\n",
       "      <td>0.000027</td>\n",
       "      <td>0.000209</td>\n",
       "      <td>we had a wonderful stay at jennifers charming ...</td>\n",
       "    </tr>\n",
       "    <tr>\n",
       "      <th>3</th>\n",
       "      <td>0.007239</td>\n",
       "      <td>0.000000</td>\n",
       "      <td>0.014233</td>\n",
       "      <td>0.000943</td>\n",
       "      <td>0.000000</td>\n",
       "      <td>0.001070</td>\n",
       "      <td>hi to everyone\\r would say our greatest compli...</td>\n",
       "    </tr>\n",
       "    <tr>\n",
       "      <th>4</th>\n",
       "      <td>0.008083</td>\n",
       "      <td>0.000000</td>\n",
       "      <td>0.003166</td>\n",
       "      <td>0.001916</td>\n",
       "      <td>0.000217</td>\n",
       "      <td>0.002008</td>\n",
       "      <td>jennifer was very friendly and helpful and her...</td>\n",
       "    </tr>\n",
       "  </tbody>\n",
       "</table>\n",
       "</div>"
      ],
      "text/plain": [
       "    topic_0   topic_1   topic_2   topic_3   topic_4   topic_5  \\\n",
       "0  0.004627  0.004011  0.000000  0.000273  0.000064  0.008166   \n",
       "1  0.009231  0.000000  0.000464  0.000000  0.000967  0.001578   \n",
       "2  0.003439  0.000000  0.001397  0.000603  0.000027  0.000209   \n",
       "3  0.007239  0.000000  0.014233  0.000943  0.000000  0.001070   \n",
       "4  0.008083  0.000000  0.003166  0.001916  0.000217  0.002008   \n",
       "\n",
       "                                            comments  \n",
       "0  ive stayed with my friend at the midtown castl...  \n",
       "1  weve been staying here for about   nights enjo...  \n",
       "2  we had a wonderful stay at jennifers charming ...  \n",
       "3  hi to everyone\\r would say our greatest compli...  \n",
       "4  jennifer was very friendly and helpful and her...  "
      ]
     },
     "execution_count": 68,
     "metadata": {},
     "output_type": "execute_result"
    }
   ],
   "source": [
    "six_topic_matrix_df = pd.DataFrame(six_topic_matrix).add_prefix('topic_')\n",
    "\n",
    "six_topic_matrix_df['comments'] = eng_reviews['comments']\n",
    "six_topic_matrix_df.head()"
   ]
  },
  {
   "cell_type": "code",
   "execution_count": 69,
   "id": "antique-driving",
   "metadata": {},
   "outputs": [
    {
     "data": {
      "text/html": [
       "<div>\n",
       "<style scoped>\n",
       "    .dataframe tbody tr th:only-of-type {\n",
       "        vertical-align: middle;\n",
       "    }\n",
       "\n",
       "    .dataframe tbody tr th {\n",
       "        vertical-align: top;\n",
       "    }\n",
       "\n",
       "    .dataframe thead th {\n",
       "        text-align: right;\n",
       "    }\n",
       "</style>\n",
       "<table border=\"1\" class=\"dataframe\">\n",
       "  <thead>\n",
       "    <tr style=\"text-align: right;\">\n",
       "      <th></th>\n",
       "      <th>topic_0</th>\n",
       "      <th>topic_1</th>\n",
       "      <th>topic_2</th>\n",
       "      <th>topic_3</th>\n",
       "      <th>topic_4</th>\n",
       "      <th>topic_5</th>\n",
       "    </tr>\n",
       "  </thead>\n",
       "  <tbody>\n",
       "    <tr>\n",
       "      <th>aaaaand</th>\n",
       "      <td>0.000017</td>\n",
       "      <td>0.000000</td>\n",
       "      <td>0.000014</td>\n",
       "      <td>0.000151</td>\n",
       "      <td>0.000000</td>\n",
       "      <td>0.000007</td>\n",
       "    </tr>\n",
       "    <tr>\n",
       "      <th>aaaand</th>\n",
       "      <td>0.000103</td>\n",
       "      <td>0.000001</td>\n",
       "      <td>0.000000</td>\n",
       "      <td>0.000000</td>\n",
       "      <td>0.000000</td>\n",
       "      <td>0.000020</td>\n",
       "    </tr>\n",
       "    <tr>\n",
       "      <th>aaand</th>\n",
       "      <td>0.000230</td>\n",
       "      <td>0.000000</td>\n",
       "      <td>0.000116</td>\n",
       "      <td>0.000045</td>\n",
       "      <td>0.000000</td>\n",
       "      <td>0.000000</td>\n",
       "    </tr>\n",
       "    <tr>\n",
       "      <th>aabout</th>\n",
       "      <td>0.000067</td>\n",
       "      <td>0.000000</td>\n",
       "      <td>0.000000</td>\n",
       "      <td>0.000007</td>\n",
       "      <td>0.000000</td>\n",
       "      <td>0.000019</td>\n",
       "    </tr>\n",
       "    <tr>\n",
       "      <th>aadi</th>\n",
       "      <td>0.000043</td>\n",
       "      <td>0.000025</td>\n",
       "      <td>0.000000</td>\n",
       "      <td>0.000000</td>\n",
       "      <td>0.000018</td>\n",
       "      <td>0.000108</td>\n",
       "    </tr>\n",
       "  </tbody>\n",
       "</table>\n",
       "</div>"
      ],
      "text/plain": [
       "          topic_0   topic_1   topic_2   topic_3   topic_4   topic_5\n",
       "aaaaand  0.000017  0.000000  0.000014  0.000151  0.000000  0.000007\n",
       "aaaand   0.000103  0.000001  0.000000  0.000000  0.000000  0.000020\n",
       "aaand    0.000230  0.000000  0.000116  0.000045  0.000000  0.000000\n",
       "aabout   0.000067  0.000000  0.000000  0.000007  0.000000  0.000019\n",
       "aadi     0.000043  0.000025  0.000000  0.000000  0.000018  0.000108"
      ]
     },
     "execution_count": 69,
     "metadata": {},
     "output_type": "execute_result"
    }
   ],
   "source": [
    "word_six_topic_matrix_df = pd.DataFrame(nmf_6.components_, columns=vocab).T.add_prefix('topic_')\n",
    "word_six_topic_matrix_df.head()"
   ]
  },
  {
   "cell_type": "code",
   "execution_count": 70,
   "id": "personal-information",
   "metadata": {},
   "outputs": [
    {
     "name": "stdout",
     "output_type": "stream",
     "text": [
      "perfect \n",
      "\n",
      "we absolutely loved theresa’s place it is very stylish tasteful and exactly as described mattresses were super comfortable  high quality memory foam we loved the brooklyn area    mins by subway close by to times square we were a family of   travelling for   nights over new year  we hope to visit again one day \n",
      "\n",
      "everything was good nice location\n",
      "\n",
      "good place to stay super clean and good location\n",
      "\n",
      "lisa and simon were very gracious warm and engaging their beautiful apartment overlooks the hudson river and riverside park our stay was truely a wonderful experience would definitely go back again\n",
      "\n"
     ]
    }
   ],
   "source": [
    "for review in six_topic_matrix_df.sort_values(by='topic_0', ascending=False).head(5)['comments'].values:\n",
    "    print(review)\n",
    "    print()"
   ]
  },
  {
   "cell_type": "code",
   "execution_count": 71,
   "id": "dedicated-patrol",
   "metadata": {},
   "outputs": [
    {
     "name": "stdout",
     "output_type": "stream",
     "text": [
      "\n",
      "Topic  0\n",
      "close, subway, neighborhood, restaurants, walk, quiet, station, area, helpful, around\n",
      "\n",
      "Topic  1\n",
      "automated, canceled, posting, reservation, arrival, days, host, couple, departure, spend\n",
      "\n",
      "Topic  2\n",
      "host, friendly, helpful, responsive, accommodating, kind, communication, welcoming, attentive, gracious\n",
      "\n",
      "Topic  3\n",
      "clean, quiet, spacious, cozy, convenient, communication, stylish, sparkling, safe, friendly\n",
      "\n",
      "Topic  4\n",
      "space, hosts, communication, cozy, plenty, stylish, lots, value, accommodating, responsive\n",
      "\n",
      "Topic  5\n",
      "comfortable, room, bed, bathroom, spacious, private, small, cozy, friendly, kitchen\n"
     ]
    }
   ],
   "source": [
    "display_topics(nmf_6, vocab, 10)"
   ]
  },
  {
   "cell_type": "code",
   "execution_count": 72,
   "id": "otherwise-victorian",
   "metadata": {},
   "outputs": [
    {
     "data": {
      "text/html": [
       "<div>\n",
       "<style scoped>\n",
       "    .dataframe tbody tr th:only-of-type {\n",
       "        vertical-align: middle;\n",
       "    }\n",
       "\n",
       "    .dataframe tbody tr th {\n",
       "        vertical-align: top;\n",
       "    }\n",
       "\n",
       "    .dataframe thead th {\n",
       "        text-align: right;\n",
       "    }\n",
       "</style>\n",
       "<table border=\"1\" class=\"dataframe\">\n",
       "  <thead>\n",
       "    <tr style=\"text-align: right;\">\n",
       "      <th></th>\n",
       "      <th>topic_0</th>\n",
       "      <th>topic_1</th>\n",
       "      <th>topic_2</th>\n",
       "      <th>topic_3</th>\n",
       "      <th>topic_4</th>\n",
       "      <th>topic_5</th>\n",
       "    </tr>\n",
       "  </thead>\n",
       "  <tbody>\n",
       "    <tr>\n",
       "      <th>close</th>\n",
       "      <td>4.771361</td>\n",
       "      <td>0.000000</td>\n",
       "      <td>0.000000</td>\n",
       "      <td>0.000000</td>\n",
       "      <td>0.000000</td>\n",
       "      <td>0.000000</td>\n",
       "    </tr>\n",
       "    <tr>\n",
       "      <th>subway</th>\n",
       "      <td>4.408360</td>\n",
       "      <td>0.000000</td>\n",
       "      <td>0.000000</td>\n",
       "      <td>0.000000</td>\n",
       "      <td>0.000000</td>\n",
       "      <td>0.000000</td>\n",
       "    </tr>\n",
       "    <tr>\n",
       "      <th>neighborhood</th>\n",
       "      <td>2.465825</td>\n",
       "      <td>0.000000</td>\n",
       "      <td>0.022464</td>\n",
       "      <td>0.041702</td>\n",
       "      <td>0.084301</td>\n",
       "      <td>0.000000</td>\n",
       "    </tr>\n",
       "    <tr>\n",
       "      <th>restaurants</th>\n",
       "      <td>2.351001</td>\n",
       "      <td>0.000000</td>\n",
       "      <td>0.000000</td>\n",
       "      <td>0.000000</td>\n",
       "      <td>0.000000</td>\n",
       "      <td>0.000000</td>\n",
       "    </tr>\n",
       "    <tr>\n",
       "      <th>walk</th>\n",
       "      <td>1.927927</td>\n",
       "      <td>0.000000</td>\n",
       "      <td>0.000000</td>\n",
       "      <td>0.000000</td>\n",
       "      <td>0.000000</td>\n",
       "      <td>0.000000</td>\n",
       "    </tr>\n",
       "    <tr>\n",
       "      <th>quiet</th>\n",
       "      <td>1.821203</td>\n",
       "      <td>0.000000</td>\n",
       "      <td>0.000000</td>\n",
       "      <td>0.517649</td>\n",
       "      <td>0.047764</td>\n",
       "      <td>0.182078</td>\n",
       "    </tr>\n",
       "    <tr>\n",
       "      <th>station</th>\n",
       "      <td>1.765121</td>\n",
       "      <td>0.000000</td>\n",
       "      <td>0.000000</td>\n",
       "      <td>0.000000</td>\n",
       "      <td>0.000000</td>\n",
       "      <td>0.000000</td>\n",
       "    </tr>\n",
       "    <tr>\n",
       "      <th>area</th>\n",
       "      <td>1.762177</td>\n",
       "      <td>0.000000</td>\n",
       "      <td>0.034687</td>\n",
       "      <td>0.027419</td>\n",
       "      <td>0.104754</td>\n",
       "      <td>0.100461</td>\n",
       "    </tr>\n",
       "    <tr>\n",
       "      <th>helpful</th>\n",
       "      <td>1.605649</td>\n",
       "      <td>0.000000</td>\n",
       "      <td>0.510492</td>\n",
       "      <td>0.090264</td>\n",
       "      <td>0.033133</td>\n",
       "      <td>0.124995</td>\n",
       "    </tr>\n",
       "    <tr>\n",
       "      <th>around</th>\n",
       "      <td>1.547734</td>\n",
       "      <td>0.004126</td>\n",
       "      <td>0.000000</td>\n",
       "      <td>0.000000</td>\n",
       "      <td>0.008078</td>\n",
       "      <td>0.036333</td>\n",
       "    </tr>\n",
       "  </tbody>\n",
       "</table>\n",
       "</div>"
      ],
      "text/plain": [
       "               topic_0   topic_1   topic_2   topic_3   topic_4   topic_5\n",
       "close         4.771361  0.000000  0.000000  0.000000  0.000000  0.000000\n",
       "subway        4.408360  0.000000  0.000000  0.000000  0.000000  0.000000\n",
       "neighborhood  2.465825  0.000000  0.022464  0.041702  0.084301  0.000000\n",
       "restaurants   2.351001  0.000000  0.000000  0.000000  0.000000  0.000000\n",
       "walk          1.927927  0.000000  0.000000  0.000000  0.000000  0.000000\n",
       "quiet         1.821203  0.000000  0.000000  0.517649  0.047764  0.182078\n",
       "station       1.765121  0.000000  0.000000  0.000000  0.000000  0.000000\n",
       "area          1.762177  0.000000  0.034687  0.027419  0.104754  0.100461\n",
       "helpful       1.605649  0.000000  0.510492  0.090264  0.033133  0.124995\n",
       "around        1.547734  0.004126  0.000000  0.000000  0.008078  0.036333"
      ]
     },
     "execution_count": 72,
     "metadata": {},
     "output_type": "execute_result"
    }
   ],
   "source": [
    "word_six_topic_matrix_df.sort_values(by='topic_0', ascending=False).head(10)"
   ]
  },
  {
   "cell_type": "code",
   "execution_count": 74,
   "id": "indonesian-lesson",
   "metadata": {},
   "outputs": [
    {
     "name": "stderr",
     "output_type": "stream",
     "text": [
      "C:\\Users\\sandy\\anaconda3_2nd_download\\envs\\metis\\lib\\site-packages\\sklearn\\decomposition\\_nmf.py:312: FutureWarning: The 'init' value, when 'init=None' and n_components is less than n_samples and n_features, will be changed from 'nndsvd' to 'nndsvda' in 1.1 (renaming of 0.26).\n",
      "  warnings.warn((\"The 'init' value, when 'init=None' and \"\n"
     ]
    },
    {
     "data": {
      "text/plain": [
       "NMF(n_components=5)"
      ]
     },
     "execution_count": 74,
     "metadata": {},
     "output_type": "execute_result"
    }
   ],
   "source": [
    "# NMF using 5 topics\n",
    "nmf_5 = NMF(n_components=5)\n",
    "\n",
    "nmf_5.fit(word_matrix)"
   ]
  },
  {
   "cell_type": "code",
   "execution_count": 75,
   "id": "heavy-armenia",
   "metadata": {},
   "outputs": [],
   "source": [
    "five_topic_matrix = nmf_5.transform(word_matrix)"
   ]
  },
  {
   "cell_type": "code",
   "execution_count": 76,
   "id": "liquid-brief",
   "metadata": {},
   "outputs": [
    {
     "data": {
      "text/html": [
       "<div>\n",
       "<style scoped>\n",
       "    .dataframe tbody tr th:only-of-type {\n",
       "        vertical-align: middle;\n",
       "    }\n",
       "\n",
       "    .dataframe tbody tr th {\n",
       "        vertical-align: top;\n",
       "    }\n",
       "\n",
       "    .dataframe thead th {\n",
       "        text-align: right;\n",
       "    }\n",
       "</style>\n",
       "<table border=\"1\" class=\"dataframe\">\n",
       "  <thead>\n",
       "    <tr style=\"text-align: right;\">\n",
       "      <th></th>\n",
       "      <th>topic_0</th>\n",
       "      <th>topic_1</th>\n",
       "      <th>topic_2</th>\n",
       "      <th>topic_3</th>\n",
       "      <th>topic_4</th>\n",
       "      <th>topic_5</th>\n",
       "      <th>comments</th>\n",
       "    </tr>\n",
       "  </thead>\n",
       "  <tbody>\n",
       "    <tr>\n",
       "      <th>0</th>\n",
       "      <td>0.004627</td>\n",
       "      <td>0.004011</td>\n",
       "      <td>0.000000</td>\n",
       "      <td>0.000273</td>\n",
       "      <td>0.000064</td>\n",
       "      <td>0.008166</td>\n",
       "      <td>ive stayed with my friend at the midtown castl...</td>\n",
       "    </tr>\n",
       "    <tr>\n",
       "      <th>1</th>\n",
       "      <td>0.009231</td>\n",
       "      <td>0.000000</td>\n",
       "      <td>0.000464</td>\n",
       "      <td>0.000000</td>\n",
       "      <td>0.000967</td>\n",
       "      <td>0.001578</td>\n",
       "      <td>weve been staying here for about   nights enjo...</td>\n",
       "    </tr>\n",
       "    <tr>\n",
       "      <th>2</th>\n",
       "      <td>0.003439</td>\n",
       "      <td>0.000000</td>\n",
       "      <td>0.001397</td>\n",
       "      <td>0.000603</td>\n",
       "      <td>0.000027</td>\n",
       "      <td>0.000209</td>\n",
       "      <td>we had a wonderful stay at jennifers charming ...</td>\n",
       "    </tr>\n",
       "    <tr>\n",
       "      <th>3</th>\n",
       "      <td>0.007239</td>\n",
       "      <td>0.000000</td>\n",
       "      <td>0.014233</td>\n",
       "      <td>0.000943</td>\n",
       "      <td>0.000000</td>\n",
       "      <td>0.001070</td>\n",
       "      <td>hi to everyone\\r would say our greatest compli...</td>\n",
       "    </tr>\n",
       "    <tr>\n",
       "      <th>4</th>\n",
       "      <td>0.008083</td>\n",
       "      <td>0.000000</td>\n",
       "      <td>0.003166</td>\n",
       "      <td>0.001916</td>\n",
       "      <td>0.000217</td>\n",
       "      <td>0.002008</td>\n",
       "      <td>jennifer was very friendly and helpful and her...</td>\n",
       "    </tr>\n",
       "  </tbody>\n",
       "</table>\n",
       "</div>"
      ],
      "text/plain": [
       "    topic_0   topic_1   topic_2   topic_3   topic_4   topic_5  \\\n",
       "0  0.004627  0.004011  0.000000  0.000273  0.000064  0.008166   \n",
       "1  0.009231  0.000000  0.000464  0.000000  0.000967  0.001578   \n",
       "2  0.003439  0.000000  0.001397  0.000603  0.000027  0.000209   \n",
       "3  0.007239  0.000000  0.014233  0.000943  0.000000  0.001070   \n",
       "4  0.008083  0.000000  0.003166  0.001916  0.000217  0.002008   \n",
       "\n",
       "                                            comments  \n",
       "0  ive stayed with my friend at the midtown castl...  \n",
       "1  weve been staying here for about   nights enjo...  \n",
       "2  we had a wonderful stay at jennifers charming ...  \n",
       "3  hi to everyone\\r would say our greatest compli...  \n",
       "4  jennifer was very friendly and helpful and her...  "
      ]
     },
     "execution_count": 76,
     "metadata": {},
     "output_type": "execute_result"
    }
   ],
   "source": [
    "five_topic_matrix_df = pd.DataFrame(six_topic_matrix).add_prefix('topic_')\n",
    "\n",
    "five_topic_matrix_df['comments'] = eng_reviews['comments']\n",
    "five_topic_matrix_df.head()"
   ]
  },
  {
   "cell_type": "code",
   "execution_count": 77,
   "id": "living-reputation",
   "metadata": {},
   "outputs": [
    {
     "data": {
      "text/html": [
       "<div>\n",
       "<style scoped>\n",
       "    .dataframe tbody tr th:only-of-type {\n",
       "        vertical-align: middle;\n",
       "    }\n",
       "\n",
       "    .dataframe tbody tr th {\n",
       "        vertical-align: top;\n",
       "    }\n",
       "\n",
       "    .dataframe thead th {\n",
       "        text-align: right;\n",
       "    }\n",
       "</style>\n",
       "<table border=\"1\" class=\"dataframe\">\n",
       "  <thead>\n",
       "    <tr style=\"text-align: right;\">\n",
       "      <th></th>\n",
       "      <th>topic_0</th>\n",
       "      <th>topic_1</th>\n",
       "      <th>topic_2</th>\n",
       "      <th>topic_3</th>\n",
       "      <th>topic_4</th>\n",
       "    </tr>\n",
       "  </thead>\n",
       "  <tbody>\n",
       "    <tr>\n",
       "      <th>aaaaand</th>\n",
       "      <td>0.000027</td>\n",
       "      <td>0.000000e+00</td>\n",
       "      <td>0.000013</td>\n",
       "      <td>0.000147</td>\n",
       "      <td>0.000000</td>\n",
       "    </tr>\n",
       "    <tr>\n",
       "      <th>aaaand</th>\n",
       "      <td>0.000115</td>\n",
       "      <td>9.713195e-07</td>\n",
       "      <td>0.000000</td>\n",
       "      <td>0.000000</td>\n",
       "      <td>0.000000</td>\n",
       "    </tr>\n",
       "    <tr>\n",
       "      <th>aaand</th>\n",
       "      <td>0.000182</td>\n",
       "      <td>0.000000e+00</td>\n",
       "      <td>0.000120</td>\n",
       "      <td>0.000035</td>\n",
       "      <td>0.000000</td>\n",
       "    </tr>\n",
       "    <tr>\n",
       "      <th>aabout</th>\n",
       "      <td>0.000070</td>\n",
       "      <td>0.000000e+00</td>\n",
       "      <td>0.000000</td>\n",
       "      <td>0.000012</td>\n",
       "      <td>0.000000</td>\n",
       "    </tr>\n",
       "    <tr>\n",
       "      <th>aadi</th>\n",
       "      <td>0.000113</td>\n",
       "      <td>2.522475e-05</td>\n",
       "      <td>0.000000</td>\n",
       "      <td>0.000010</td>\n",
       "      <td>0.000022</td>\n",
       "    </tr>\n",
       "  </tbody>\n",
       "</table>\n",
       "</div>"
      ],
      "text/plain": [
       "          topic_0       topic_1   topic_2   topic_3   topic_4\n",
       "aaaaand  0.000027  0.000000e+00  0.000013  0.000147  0.000000\n",
       "aaaand   0.000115  9.713195e-07  0.000000  0.000000  0.000000\n",
       "aaand    0.000182  0.000000e+00  0.000120  0.000035  0.000000\n",
       "aabout   0.000070  0.000000e+00  0.000000  0.000012  0.000000\n",
       "aadi     0.000113  2.522475e-05  0.000000  0.000010  0.000022"
      ]
     },
     "execution_count": 77,
     "metadata": {},
     "output_type": "execute_result"
    }
   ],
   "source": [
    "word_five_topic_matrix_df = pd.DataFrame(nmf_5.components_, columns=vocab).T.add_prefix('topic_')\n",
    "word_five_topic_matrix_df.head()"
   ]
  },
  {
   "cell_type": "code",
   "execution_count": 78,
   "id": "located-queue",
   "metadata": {
    "scrolled": true
   },
   "outputs": [
    {
     "name": "stdout",
     "output_type": "stream",
     "text": [
      "\n",
      "Topic  0\n",
      "close, subway, room, comfortable, neighborhood, restaurants, quiet, walk, area, helpful\n",
      "\n",
      "Topic  1\n",
      "automated, canceled, posting, reservation, arrival, days, host, couple, departure, spend\n",
      "\n",
      "Topic  2\n",
      "host, friendly, helpful, responsive, accommodating, communication, kind, welcoming, attentive, gracious\n",
      "\n",
      "Topic  3\n",
      "clean, comfortable, spacious, quiet, cozy, room, convenient, communication, stylish, sparkling\n",
      "\n",
      "Topic  4\n",
      "space, hosts, comfortable, communication, plenty, stylish, cozy, lots, value, accommodating\n"
     ]
    }
   ],
   "source": [
    "display_topics(nmf_5, vocab, 10)"
   ]
  },
  {
   "cell_type": "markdown",
   "id": "hindu-venice",
   "metadata": {},
   "source": [
    "From the 5 topics we can deduce 4 topics:\n",
    "# Topic 1: Location of Airbnb\n",
    "# Topic 2: Booking process\n",
    "# Topic 3: Host interactions\n",
    "# Topic 4: Space"
   ]
  },
  {
   "cell_type": "code",
   "execution_count": null,
   "id": "directed-nepal",
   "metadata": {},
   "outputs": [],
   "source": []
  }
 ],
 "metadata": {
  "kernelspec": {
   "display_name": "Python [conda env:metis] *",
   "language": "python",
   "name": "conda-env-metis-py"
  },
  "language_info": {
   "codemirror_mode": {
    "name": "ipython",
    "version": 3
   },
   "file_extension": ".py",
   "mimetype": "text/x-python",
   "name": "python",
   "nbconvert_exporter": "python",
   "pygments_lexer": "ipython3",
   "version": "3.8.8"
  }
 },
 "nbformat": 4,
 "nbformat_minor": 5
}
