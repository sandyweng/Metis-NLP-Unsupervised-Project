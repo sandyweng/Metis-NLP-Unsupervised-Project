{
 "cells": [
  {
   "cell_type": "code",
   "execution_count": 62,
   "id": "indirect-sampling",
   "metadata": {},
   "outputs": [
    {
     "name": "stdout",
     "output_type": "stream",
     "text": [
      "Requirement already satisfied: corextopic in c:\\users\\sandy\\anaconda3_2nd_download\\envs\\metis\\lib\\site-packages (1.1)\n",
      "Requirement already satisfied: networkx in c:\\users\\sandy\\anaconda3_2nd_download\\envs\\metis\\lib\\site-packages (2.5)\n",
      "Requirement already satisfied: decorator>=4.3.0 in c:\\users\\sandy\\anaconda3_2nd_download\\envs\\metis\\lib\\site-packages (from networkx) (4.4.2)\n"
     ]
    }
   ],
   "source": [
    "# Install CorEx \n",
    "!pip install corextopic\n",
    "!pip install networkx"
   ]
  },
  {
   "cell_type": "code",
   "execution_count": 56,
   "id": "underlying-diabetes",
   "metadata": {},
   "outputs": [],
   "source": [
    "# Import other packages for examples\n",
    "import pandas as pd\n",
    "import numpy as np\n",
    "import scipy.sparse as ss\n",
    "\n",
    "from sklearn.feature_extraction.text import CountVectorizer, TfidfVectorizer\n",
    "from sklearn import datasets\n",
    "\n",
    "from corextopic import corextopic as ct\n",
    "from corextopic import vis_topic as vt\n",
    "\n",
    "import matplotlib.pyplot as plt\n",
    "import seaborn as sns\n",
    "%matplotlib inline\n",
    "import nltk"
   ]
  },
  {
   "cell_type": "code",
   "execution_count": 3,
   "id": "steady-collaboration",
   "metadata": {},
   "outputs": [],
   "source": [
    "df = pd.read_csv('reviews_english.csv')\n",
    "df.dropna(inplace=True)"
   ]
  },
  {
   "cell_type": "code",
   "execution_count": 4,
   "id": "entire-breath",
   "metadata": {
    "scrolled": true
   },
   "outputs": [
    {
     "data": {
      "text/html": [
       "<div>\n",
       "<style scoped>\n",
       "    .dataframe tbody tr th:only-of-type {\n",
       "        vertical-align: middle;\n",
       "    }\n",
       "\n",
       "    .dataframe tbody tr th {\n",
       "        vertical-align: top;\n",
       "    }\n",
       "\n",
       "    .dataframe thead th {\n",
       "        text-align: right;\n",
       "    }\n",
       "</style>\n",
       "<table border=\"1\" class=\"dataframe\">\n",
       "  <thead>\n",
       "    <tr style=\"text-align: right;\">\n",
       "      <th></th>\n",
       "      <th>listing_id</th>\n",
       "      <th>id</th>\n",
       "      <th>date</th>\n",
       "      <th>reviewer_id</th>\n",
       "      <th>reviewer_name</th>\n",
       "      <th>comments</th>\n",
       "    </tr>\n",
       "  </thead>\n",
       "  <tbody>\n",
       "    <tr>\n",
       "      <th>0</th>\n",
       "      <td>2595</td>\n",
       "      <td>19760</td>\n",
       "      <td>2009-12-10</td>\n",
       "      <td>38960</td>\n",
       "      <td>Anita</td>\n",
       "      <td>ive stayed with my friend at the midtown castl...</td>\n",
       "    </tr>\n",
       "    <tr>\n",
       "      <th>1</th>\n",
       "      <td>2595</td>\n",
       "      <td>34320</td>\n",
       "      <td>2010-04-09</td>\n",
       "      <td>71130</td>\n",
       "      <td>Kai-Uwe</td>\n",
       "      <td>weve been staying here for about   nights enjo...</td>\n",
       "    </tr>\n",
       "    <tr>\n",
       "      <th>2</th>\n",
       "      <td>2595</td>\n",
       "      <td>46312</td>\n",
       "      <td>2010-05-25</td>\n",
       "      <td>117113</td>\n",
       "      <td>Alicia</td>\n",
       "      <td>we had a wonderful stay at jennifers charming ...</td>\n",
       "    </tr>\n",
       "    <tr>\n",
       "      <th>3</th>\n",
       "      <td>2595</td>\n",
       "      <td>1238204</td>\n",
       "      <td>2012-05-07</td>\n",
       "      <td>1783688</td>\n",
       "      <td>Sergey</td>\n",
       "      <td>hi to everyone\\r would say our greatest compli...</td>\n",
       "    </tr>\n",
       "    <tr>\n",
       "      <th>4</th>\n",
       "      <td>2595</td>\n",
       "      <td>1293632</td>\n",
       "      <td>2012-05-17</td>\n",
       "      <td>1870771</td>\n",
       "      <td>Loïc</td>\n",
       "      <td>jennifer was very friendly and helpful and her...</td>\n",
       "    </tr>\n",
       "  </tbody>\n",
       "</table>\n",
       "</div>"
      ],
      "text/plain": [
       "   listing_id       id        date  reviewer_id reviewer_name  \\\n",
       "0        2595    19760  2009-12-10        38960         Anita   \n",
       "1        2595    34320  2010-04-09        71130       Kai-Uwe   \n",
       "2        2595    46312  2010-05-25       117113        Alicia   \n",
       "3        2595  1238204  2012-05-07      1783688        Sergey   \n",
       "4        2595  1293632  2012-05-17      1870771          Loïc   \n",
       "\n",
       "                                            comments  \n",
       "0  ive stayed with my friend at the midtown castl...  \n",
       "1  weve been staying here for about   nights enjo...  \n",
       "2  we had a wonderful stay at jennifers charming ...  \n",
       "3  hi to everyone\\r would say our greatest compli...  \n",
       "4  jennifer was very friendly and helpful and her...  "
      ]
     },
     "execution_count": 4,
     "metadata": {},
     "output_type": "execute_result"
    }
   ],
   "source": [
    "df.head()d"
   ]
  },
  {
   "cell_type": "code",
   "execution_count": 64,
   "id": "effective-clock",
   "metadata": {},
   "outputs": [],
   "source": [
    "# stopwords to remove from corpus\n",
    "stopwords = nltk.corpus.stopwords.words('english')\n",
    "newStopWords = ['nyc','york', 'stayed', 'really', 'person', 'definitely', 'thank', 'thanks', 'staying', 'looking', 'just', 'stay',\n",
    "               'also', 'get', 'would', 'aa', 'aaa', 'aaaa', 'aaaaa', 'us', 'great', 'mirco', 'snes', 'myrdith', 'chandra', 'place', \n",
    "               'dolores', 'chen', 'even', 'monifa', 'dalton', 'well', 'mk', 'made', 'sahr', 'jt', 'thiago', 'hanna', 'shelly', 'faye',\n",
    "               'jamilya', 'bertha', 'aya', 'loyda', 'mete', 'tiziana', 'curtis', 'haythem', 'tio', 'however', 'bit', 'regina', 'erica',\n",
    "               'jenn','edgar', 'jeffrey', 'antonio', 'beatrix', 'tina', 'jesse', 'sammy', 'monika', 'freda', 'kelvin', 'sadie', 'mo',\n",
    "               'aleksandra', 'elvin', 'farhan', 'jhon', 'jade', 'barry', 'ingrid', 'kem', 'heide', 'je', 'nice', 'like', 'nathan', 'chad',\n",
    "               'yochi', 'raquel', 'kent', 'zach', 'christa', 'pamela', 'maralla', 'richelle', 'jeannie', 'bernardo', 'kyisvu', 'lauren',\n",
    "               'gina', 'lucien', 'gus', 'herman', 'darnell', 'wasnt', 'joseph', 'iso', 'emily', 'tracy', 'lynn', 'charlene', 'ronnie', \n",
    "               'rosa', 'jackie', 'reka', 'dante', 'dominik', 'rhita', 'pela', 'mia', 'martin', 'sean', 'sara', 'kimberley', 'alexandre', \n",
    "               'though', 'soon', 'victor', 'caroline', 'viviana', 'ron', 'matt', 'nick', 'tim', 'robin', 'monica', 'xavier', 'patricia',\n",
    "               'marjorie', 'teddy', 'maxime', 'loli', 'blanca', 'andressa', 'paulo', 'stacey', 'gillian', 'ross', 'dani', 'susi', 'agnes',\n",
    "               'javier', 'charisse', 'didnt', 'susi', 'lisas', 'christa', 'elle', 'ever', 'lakshan', 'yuval', 'laurenta', 'everything', \n",
    "               'jalen', 'albert', 'joe', 'lucilu', 'greg', 'conrad', 'jeff', 'frances', 'zachs', 'nadir', 'cara', 'olzhas', 'rena',\n",
    "               'petra', 'kat', 'laurens', 'gane', 'charles', 'martha', 'nora', 'jared', 'britt', 'abe', 'carrie', 'penny', 'harvin',\n",
    "               'lory', 'vikas', 'remi', 'tonia', 'svetlana', 'seans','holly', 'got', 'dont', 'know', 'let', 'could', 'absolutely',\n",
    "               'take', 'youre', 'quite', 'need', 'want', 'day', 'back', 'gave', 'enough', 'airbnb', 'anyone', 'ok', 'brooklyn', 'perfect',\n",
    "               'highly', 'amazing', 'location', 'manhattan', 'good', 'night', 'super', 'one', 'overall', 'two', 'say', 'another', 'said', \n",
    "               'people', 'awesome', 'highly', 'loved', 'enjoyed', 'spot', 'excellent', 'lovely', 'time', 'feel', 'sure', 'wonderful', 'recommend',\n",
    "               'recommended', 'upon', 'home', 'everyone', 'friends', 'apartment', 'beautiful', 'located', 'fantastic', 'needed', 'quick', 'quickly',\n",
    "               'may', 'high', 'due', 'long', 'things', 'city', 'trip', 'family', 'next', 'every', 'much', 'minutes', 'much', 'felt', 'check', 'use', 'easy',\n",
    "               'first', 'luggage', 'since', 'hours', 'able', 'never', 'go', 'best', 'see', 'house', 'lot', 'found', 'always', 'went', 'way',\n",
    "               'nights', 'without', 'took', 'think', 'still', 'week', 'spent', 'told', 'find', 'guests', 'especially', 'make', 'visit',\n",
    "               'better', 'met','experience', 'arrived','late','left','experience','morning','provided','early','flight','leave','came', 'away', 'come',\n",
    "               'meet', 'warm', 'going', 'ny', 'give', 'work', 'touches', 'cant', 'top', 'put', 'actually', 'extremely', 'anything', 'exactly',\n",
    "               'although', 'looks', 'hour']\n",
    "stopwords.extend(newStopWords)"
   ]
  },
  {
   "cell_type": "code",
   "execution_count": 65,
   "id": "contemporary-shore",
   "metadata": {},
   "outputs": [],
   "source": [
    "# using CountVectoizer\n",
    "vectorizer = CountVectorizer(max_features=20000,\n",
    "                             stop_words=stopwords,\n",
    "                             binary=True)\n",
    "\n",
    "doc_word = vectorizer.fit_transform(df.comments)\n",
    "words = list(np.asarray(vectorizer.get_feature_names()))"
   ]
  },
  {
   "cell_type": "markdown",
   "id": "organizational-minimum",
   "metadata": {},
   "source": [
    "#  6 topics without anchors"
   ]
  },
  {
   "cell_type": "code",
   "execution_count": 66,
   "id": "expired-number",
   "metadata": {},
   "outputs": [
    {
     "data": {
      "text/plain": [
       "<corextopic.corextopic.Corex at 0x1f5b95c1550>"
      ]
     },
     "execution_count": 66,
     "metadata": {},
     "output_type": "execute_result"
    }
   ],
   "source": [
    "# trying 6 topics\n",
    "# n_hidden is the number of topics\n",
    "# words is your list of words used in your corpus\n",
    "topic_model = ct.Corex(n_hidden=6, words=words, seed=1)\n",
    "topic_model.fit(doc_word, words=words)"
   ]
  },
  {
   "cell_type": "code",
   "execution_count": 67,
   "id": "opposed-postage",
   "metadata": {
    "scrolled": true
   },
   "outputs": [
    {
     "name": "stdout",
     "output_type": "stream",
     "text": [
      "0: kitchen,bathroom,bed,room,towels,bedroom,shower,water,tv,floor\n",
      "1: subway,restaurants,walk,close,walking,station,distance,park,shops,around\n",
      "2: issue,space,hotel,parking,keep,issues,someone,extra,mind,reviews\n",
      "3: new,old,breakfast,friendly,live,real,interesting,part,whole,end\n",
      "4: questions,comfortable,decorated,clean,spacious,available,helpful,checkin,appreciated,responded\n",
      "5: keys,help,last,phone,cleaning,something,pictures,asked,guest,airport\n"
     ]
    }
   ],
   "source": [
    "# Print all topics from the CorEx topic model\n",
    "topics = topic_model.get_topics()\n",
    "for n,topic in enumerate(topics):\n",
    "    topic_words,_,_ = zip(*topic)\n",
    "    print('{}: '.format(n) + ','.join(topic_words))"
   ]
  },
  {
   "cell_type": "markdown",
   "id": "animated-stylus",
   "metadata": {},
   "source": [
    "# Topic 1: Different rooms in the Airbnb\n",
    "# Topic 2: Location \n",
    "# Topic 3: Issues with Airbnb\n"
   ]
  },
  {
   "cell_type": "code",
   "execution_count": 68,
   "id": "reliable-madagascar",
   "metadata": {
    "scrolled": true
   },
   "outputs": [
    {
     "data": {
      "image/png": "[encoded data removed]",
      "text/plain": [
       "<Figure size 720x360 with 1 Axes>"
      ]
     },
     "metadata": {
      "needs_background": "light"
     },
     "output_type": "display_data"
    }
   ],
   "source": [
    "plt.figure(figsize=(10,5))\n",
    "plt.bar(range(topic_model.tcs.shape[0]), topic_model.tcs, color='#4e79a7', width=0.5)\n",
    "plt.xlabel('Topic', fontsize=16)\n",
    "plt.ylabel('Total Correlation (nats)', fontsize=16);"
   ]
  },
  {
   "cell_type": "markdown",
   "id": "phantom-hughes",
   "metadata": {},
   "source": [
    "The elbow is at 2 topics."
   ]
  },
  {
   "cell_type": "markdown",
   "id": "accessible-joshua",
   "metadata": {},
   "source": [
    "# 6 topics with anchors"
   ]
  },
  {
   "cell_type": "code",
   "execution_count": 70,
   "id": "excessive-sound",
   "metadata": {
    "scrolled": true
   },
   "outputs": [
    {
     "name": "stdout",
     "output_type": "stream",
     "text": [
      "0: space,full,interior,old,decorated,fresh,wine,truly,huge,look\n",
      "1: subway,restaurants,distance,walk,close,walking,station,park,shops,bars\n",
      "2: kitchen,bathroom,bed,room,bedroom,towels,noise,shower,floor,tv\n",
      "3: host,automated,canceled,posting,reservation,hosts,arrival,days,gracious,responsive\n",
      "4: clean,sparkling,tidy,spotlessly,organized,neat,cozy,immaculately,stylish,impeccably\n",
      "5: new,questions,comfortable,available,help,helpful,checkin,getting,information,last\n"
     ]
    }
   ],
   "source": [
    "#using anchors\n",
    "topic_model = ct.Corex(n_hidden=6, words=words,\n",
    "                       max_iter=200, verbose=False, seed=1)\n",
    "\n",
    "topic_model.fit(doc_word, words=words, docs=df.comments, \n",
    "                anchors=['interior', \n",
    "                         'distance', \n",
    "                         'issues', \n",
    "                         'host',\n",
    "                         'clean'], anchor_strength=2)\n",
    "\n",
    "# Print all topics from the CorEx topic model\n",
    "topics = topic_model.get_topics()\n",
    "for n,topic in enumerate(topics):\n",
    "    topic_words,_,_ = zip(*topic)\n",
    "    print('{}: '.format(n) + ','.join(topic_words))"
   ]
  },
  {
   "cell_type": "markdown",
   "id": "surface-summary",
   "metadata": {},
   "source": [
    "Results are similar to without anchors but there is a topic of 'Cleanliness' that wasn't in the model without anchors."
   ]
  },
  {
   "cell_type": "code",
   "execution_count": 15,
   "id": "nervous-surge",
   "metadata": {},
   "outputs": [
    {
     "name": "stdout",
     "output_type": "stream",
     "text": [
      "1: the loft is really beautiful with lots of character its got everything you need including a basic kitchen for breakfast  a quick meal the rooftop is a fantastic addition and drinking your morning coffee  under the sun with a unique view over brooklyn is a great way to start the day   it can get a bit hot in the studio during the summer days but the ac kept it cool its also just a  minute walk to the centre of williamsburg and its amazing restaurants bars and shops the subway is   blocks aways and gets you into manhattan in just a few stops we had a great time there and its definitely a cool base to explore the city , we stay   nights in katherines apt the apartment was great very nice clean and awesome views rooftop access was a wonderful bonus  but not really close to the subway station is   km walking distance almost    also the supermarkets are  to   mts union market and whole foods    and the neighborhood is not really nice   the host is very nice and friendly thank you katherine, all the pictures posted is exactly how the place is but you really need to just be there to understand  the queen bed felt more like a ca king and the pillows  ohhh the pillows after running around brooklyn and nyc all day you just sink into those pillows and instantly fall asleep  there are   subway stations ft hamilton is what we used often which was half a mile or church ave is about a   mile close by and prospect park is literally across the street  we frequented wheated twice for tasty pizza and happy hour dunkin donuts   for midnight snacks and a local grocery store for miscellaneous items  all that is around the corner from jenna’s place  it was very helpful to have jenna respond so quickly to my questions with her   cute small kids i find it amazing how she juggles all this with ease  my boyfriend friend that traveled with us and i all highly recommend jenna’s place with   thumbs up we hope to come back to brooklyn again soon thanks jenna and family, we were a family of   kids aged     and   months and stayed at jennas place for   nights we loved our stay everything was as describedpictured  we loved exploring the neighbourhood prospect park brooklyn and in to manhattan we used the subway most days which is a short walk from the apartment the kids loved watching all the sports at the parade grounds and theres good food supermarket and coffee options nearby   after a long day travelling the kids were right at home with the bunk beds toys and books jenna provided some basics for our arrival which was really appreciated the apartment is really spacious and light the kitchen was really well equipped  having a dishwasher washing machine and dryer was also a great bonus for us  we wanted somewhere to come back to and relax after busy days sightseeing  exploring and this was perfect  it really was a home from home    thank you so much would highly recommend this place to all wanting a stylish spacious place to stay in brooklyn, i dont like writing reviews  this one is easy  what a fantastic place and location  if you love the neighborhood feel of brooklyn you wont be disappointed with jennas home  great location at a great value  im a bit of a neat freak  the apartment was very clean and  i had no trouble settling in   you dont know me but thats pretty remarkable    everything we needed was available in the apartment  i cant think of a single item that we lacked and it certainly met all of our expectations  were a family of five with two teenagers  jennas home had plenty of space for us   a couple of things i would suggest to future visitors especially if youre unfamiliar or uncertain about transportation in the area    become familiar with both the nearby subway and bus routes f train q train bus   and bus   were our good friends while in town and made it easy to travel both in brooklyn and to manhattan    jenna provides many restaurant suggestions in the area and we tried several  all were good  we also found that many great options were a short bus ride to the north end of prospect park in windsor terrace and park slope   the best review i can provide is to say that we wouldnt hesitate to stay in jennas home in the future  questions  dont hesitate to reach out to jenna  shes rarely more than a few minutes away, barry gave us a great welcome when we arrived after having kept in touch in the weeks before we booked the large airy but warm room and ensuite  was exactly as described and perfect for our requirements  exceptionally clean bathroom the apartment was a real haven of peace and quiet to return to after a hectic day sightseeing the shower provided constant hot water and the bed was ultra comfortable loads of storage space all toiletries and hairdryer supplied so no need to cram in suitcase  plentiful towels and pillows the apartment building itself is quite unique with art installations inside and out the ground floor garden is interesting and the roof top garden an amazing space with incredible views of manhattan  several subway lines within easy walking distance as are corner shops and a larger supermarket very useful to be able to use the buildings launderette  good to see each evening that there was always a concierge on duty  other residents in the building always polite and friendly when met in eg lift or communal facilities  we stayed just over a week with barry and would not hesitate to stay again   very highly recommended, weve had a very nice time in this cozy and well equipped apartment situated in a quiet neighborhood in the vicinity of a park the place was impeccable at short walking distance there are   subway stations so manhattan was only   minutes many shops nearby and a few good restaurants as well jenna was more then helpful even supplied us with some groceries at arrival her ‘local gems’ were local gems indeed don’t forget brooklyn we really recommend this place as a basis to explore ny, barry was great at contacting me with addressdirectionscontact details so i felt at ease straight away  i stayed here for a month and it has been great  the building is great with a gym games room laundry and amazing roof top the apartment is located between the m and l train so easy access to manhattan and other parts of brooklyn the room was great clean super soft towels amazing showerbathroom and an extremely large and comfortable bed the kitchen has all you need  i only saw one other flat mate victoria who was friendly and kept to herself so no issues using the kitchenshared space  the commute to manhattan is about   to les and   to midtown via the m train slow train and   mins to williamsburg or east village via l train so unless you want to be in the centre this is reasonable also some really cool bars and coffee shops in the area , stay at castle braid was really the right choice the subway is the most convenient for those arriving from the airport or to move to manhattan the l train is the fastest but is a bit far while the m from central ave is convenient the neighborhood is in full resurgence and there are good places to eat at all hours archies and robertas our favorites and stores profitable for grocery shopping we never met barry but it was totally flawless thanks to his advice and to victoria his very polite and respectful roommate we hope there will be other occasions then with   brooklyn it was really a great holiday for us  francesco  manuela from rome, fantastic location for our nyc visit have been to nyc many times but never to harlem   daughters     and i came to visit the metropolitan art and natural history museums  an easy walk from joys place to the subway and bus lines one night we walked from midtown thru columbia u back to the apt and always felt safe friendly corner store for snacks  joy made it easy to access the apt with a lockbox quiet place with lots of room to stretch out comfortable beds joy made sure we had everything we needed plenty of towelspillows toiletries  coffee etc a great value in a cool part of town thanks joy\n",
      "\n",
      "2: joey was great  very friendly and helpful  the room was quite charming with the lights and the bed was very comfortable  the room was just across from the bathroom so no traipsing through the apartment at night  train noise is a gentle rumble  kind of like when the ventilation kicks in for a moment so it didnt bother me in the least  if i hadnt been there for work it would have been more enjoyable for me to explore the neighborhood  joey was very open to feedback so he could make improvements for future stays, worst stay ever girls dont stay there the picture showed only a bunk bed in the room in reality he put another bed with us in the room and a male stayed over with us he kept telling us he ll give us a refund to make us leave but it was so late to find an affordable place close to manhattan in the weekend we had  no other solution but to stay and all he cared about was us not writing a bad review he should have told us ahead of time so we could find another place but he only told us that when we arrived not to mention him stating that the check in time is at   and he wanted to arrive at   he just told us to find a restaurant and wait for him we had bags and he was gonna ruin our plans for the day cause we were only staying for two days in manhattan the place is close to a train line so it was so loud at night the pictures show a living room but you can never use it the host occupied it the whole time he never left and he also talked on the phone so loud at   am he didnt care about whoever is sleeping inside after all this when we asked him if we can just leave our bags for the day just as a favor he didnt even have the courtesy to help us after all that and he charged us   dollars for leaving two carry ons that took no space again worst stay ever, great house for a family\r",
      " nous avons passé nos vacances de noël dans cet appartement du    au     nous sommes enchantés de notre séjour nous arrivions de france avons rendu visite à notre fille qui fait une année détude à luniversité de buffallo\r",
      " je vous recommande vivement cet hébergement idéal pour une famille il dispose de trois chambres et peut accueillir   personnes il est très spacieux et très propre le métro nest quà   minutes de marche et permet daccéder au centre de new york les propriétaires sont très accueillants a notre arrivée dans lappartement nous avons eu la très agréable surprise de trouver de la nourriture et des boissons laissées à notre attention\r",
      " les propriétaires font tout pour nous assurer le meilleur confort\r",
      " commentaire en américain delodie fille de jeanpaul  i went to nyc for christmas holidays with my family and that was an amazing trip thanks to marlyn and her husband the apartment was perfect exactly as described on the website and exactly like on the pictures they also gave us a lot of groceries for the week gave us information about how to go and what to do in manhattan and brooklyn and lend us board games the kitchen was completely furnished and that was perfect to cook the christmas dinner we did not have to bring anything because literally everything was in the apartment also theapartment has a great location because its only   to   minutes walk from the subway and   minutes to manhattan we just want to thank marlyn and her husband again for everything they did for us we couldnt have found a better place to stay in new york city, if there were a sixstar level i would gave it to them the reason i say this is that yochi and yochi provide us with fantastic hospitality which really exceeded what we expected treated us like family and talked as friends waited us for late checkin all of which swept my bad experience in airport let me come back to his room that is really decorated and quiet if you are sensitive to noise choose it without doubt the bed is comfy  yochi prepared breakfast with us as well do i hear wrongly no its true  and the location is walkable for you to most of famous attractions being with them is our best starting and best of all i promise, davids apartment was a really good choice for us we were three people and two of us shared the main bed the third stayed on the sleeper sofa pros great location we walked everywhere incl soho and the village ran down   street and along the east side promenade used the subway to get to midtown but ended up using it less than we thought we would surprisingly quiet at night slept very well good mattress nice kitchen that we hardly used nice shower several restaurants right out the door incl a cafe next door felt safe in the neighborhood let my   old go out to skateboard in tompkins square park on his own cons well its always a little smaller than it looks on the wide angle pics wouldnt be able to fit in another mattress i think \r",
      " what was best about the interaction with david is that he was super responsive and left instructions on how to get in with several contingencies he also accommodated us for the couple of nights we requested although it was on the inconvenient side for him to make arrangements for that\r",
      " when we return to this part of the city we will definitely try to stay in this apartment again, the house was nice but the post is misleading you are not raining the entire house a lot of other amenities like an iron or ironing board were not in the house hand towels different things that would allow you to cook in the kitchen were not there that was only like two pots so i feel that there is not a good representation of the house online the house was under construction it was being painted and there was plastic everywhere there were tenants that live downstairs but you shared the house with them and that was not expressed or communicated so when we left the door to the room unlock thinking it was at free access to the living room or the stairs to our surprise there were other people who could access that area the thermostat was locked up and it was put on   in the house cool and it was below   degrees outside so we were very cold there were not enough blankets for us to be warm there were no toiletry items available no hand towels or cleaning supplies available for us to clean out the bathtub for the shower, ikes place was a too small for my parents which i had originally booked for so i ended up staying there the studio is small and had a slant in the floor which made it a little uncomfortable to walk around but i understand that buildings in nyc are old and that could be common the tv channels werent the best quality and went in and out a lot and the remote did not work the cleaning materials were left behind from the cleaners prior to and were left in the corner which didnt really have an impact on my stay but with such a small area it wasnt ideal lastly the area was descent for young people who want to go out but i wouldnt recommend east village for couples or older folks the room was very basic and is ideal for a short layover or an individual who will be in the east village often otherwise i found it very overpriced, this space is beautifully decorated and clean   we were there during a heat wave and the whole apartment was kept cool which was amazing  the space is the downstairs room of the hosts’ apartment so you can hear noises when people are home and moving around upstairs   this wasn’t an issue at all and it seemed like the hosts really try to be considerate regarding noise   we found a few good spots for breakfast around the apartment and the metro is close   it was a great deal for   guests, camilas place is stylish and comfortable its a nice apartment for nyc its got a good layout for a small space so its easy to relax on the couch or use the kitchen area the bedrooms were tight but comfortable with the right furniture the toilet situation was a little unusual it was in its own room and you had to put the toilet paper in a trash bin with no sink or hand sanitizer in the space the main bathroom had good lighting and a long and slightly awkward shower allinall this was a good experience we had to pick up  drop off the key from about   minutes down the street, we had the pleasure of staying at taajs place for a few days and it was certainly a really comfortable clean space i understand that this is her home and so theres going to be a lot more personal belongings than other spaces but for me it felt a bit too much like i was intruding in someones space the space is clean everything is good the nespresso was such an added bonus we were in a pinch when booking a place and this was one of the only spaces left so we booked it knowing it was a bit out of the way the subway is really close but i didnt feel very comfortable in this area i have to be very honest its way too far and theres hardly anything within walking distance at least to the best of our knowledge i would opt to stay somewhere closer to the city to make things more accessible the shower knob is broken i would suggest repairing that to ensure there isnt any further damage but also better experience having the balcony was really nice especially since it was summer when we went and being able to control the temperature of individual rooms was very convenient long story short the place is nice and clean but the neighborhood is not one id necessarily want to stay in again due to how far it was from everything we wanted to do\n",
      "\n",
      "3: great location very close to the columbus circle subway station where you can get a train to almost anywhere in the ny area lots of excellent restaurants at various price points and coffee shops nearby within walking distance to central park the theater district and many other points of interest surprisingly quiet maybe because its on a higher floor comfortable bed desk that is great for using a laptop full bathroom with deep bathtub and shower with good water pressure free coffee and bagels or in my case english muffins and use of the kitchen ie fridge for storing leftovers and living room in short fantastic amenities that make this a great value, the apartment was very wellmaintained clean and comfortable it is on the first floor of a brownstone on a quiet residential street and has a living room in front facing the street a kitchen in the middle with a full size refrigerator and stove and a bedroom with a queen bed facing a wooded backyard the bathroom has a full size tub and vanity and is good sized it  was very easy to check in and check out owen the host was not onsite but was easy to reach by telephone and is responsive to issues with the apartment there was a large bowl of fresh fruits  apples bananas and oranges  and bottled water in the refrigerator which was great for breakfast before heading out for the day owen also stocked the apartment with basic supplies  trash bags paper towels plenty of towels and shampoo and soap this was a great home away from home i felt very comfortable here and the neighborhood is quite convenient for food shopping and public transit and is safe at all hours the apartment was decorated with care though use caution when closing curtains inserting the drain plug in the sink etc as items are not always firmly attached, owen was very friendly and welcoming in all communication the pictures shown are exactly how the property is clean  tidy \r",
      " the property was filled with more extras than ive ever seen there are the basic salt  pepper etc provided however it was very nice to be welcomed with a fridge of bottled waters filled fruit bowl shampoosconditioners body washes \r",
      " the house itself is a short walk to a few train lines which was handy approx   walk its also a nice walk to fulton where there are many nice coffee shops and the likes there is an organic grocery store right on the corner which was very handy\r",
      " my only negative was the noise of the door slams  neighbors going up  down stairs rather loudly which is not a fault towards owen i would just suggest taking ear plugs if you are a light sleeper\r",
      " overall it was a great place to stay with a very friendly host , this is the perfect rental for a single or couple ideally located in gentrifying park slope brooklyn comfortable bed attractive sitting area furnished in midcentury modern small but sparkling clean and stylish bath jeanguy has meticulously outfitted the space with everything you might need including a small fridge electric tea pot filtered water good coffee nice selection of teas cups glasses iron and ironing board and the lighting is lovely turning a below grade space into a cheerful friendlyfeeling environment cannot recommend this rental highly enough, our experience at owens place has been wonderful we stayed at the apartment for   nights  with      people there was enough space for all of us to sleep store our things and even to hang out and share breakfast  the apartment is as shown at the pictures clean with lovely details and has full equipment to live there  and even cook if you want to  hair dryer shampoo and even nail polish remover could be found ☺️ the beds are comfy and the sheets are clean the apartment has ac but it gets very hot during the day when you turn the ac off as suggested but there is no cool place in ny in july i guess  communication with owen has been lovely and uncomplicated he was very quick with his responses and very friendly we even could store our luggage until    pm as our flight back was late that day  all in all a lovely home in a great neighborhood , carols home is in a charming part of brooklyn    fort greeneclinton hill the room in which i stayed with a private bath was lavishly furnished in a victorian style the linens were sumptuous there were beautiful figurines on the vanity and fireplace mantle and artwork on the walls the bathroom was decorated in a traditional style but with a jetted tub there was also a hotpot for boiling water and a small fridge in the common area nearest subway is    minutes walk but very manageable carol also responded to each of my texts promptly, we couldnt have been happier with this apartment its on a quaint little street and i people watched for hours every morning we really wanted to get a little taste of what it would feel like to be a new yorker on our trip and this fit the bill we wondered around a bit the first night and looked at the christmas decorations there are great restaurants in the area including a doughnut shop and woodstove pizza place and its only   blocks from the subway downtown it takes   minutes to get to times square\r",
      " \r",
      " we saw a bunch of shows and walked around all day it was so nice to have a comfortable clean place to crash the kitchen had everything we needed and the bathroom had shampoo conditioner and soap along with tons of clean towels and washcloths\r",
      " \r",
      " we texted owen about our arrival time he let us know how to get in and made himself available we didnt need anything but it was so good to know he was available whenever we needed him\r",
      " \r",
      " wed love to come back with our kids someday if this place is available well snatch it up you cant beat the price and the location is wonderful, we had a wonderful stay here  the host goes above and beyond to make your stay comfortable  we never actually met which is perfectly fine with us but she was very quick to respond to any questions via text  lots of info provided about the city and other helpful tips its a basement apartment but we barely heard any noise from upstairs  its a quieter residential street so it was nice and quiet during our stay a few groceries provided for our first breakfast there was a very nice touch the location was perfect a stones throw away from the subway line lots of hot water and great water pressure dishwasher  laundry was very handy  the washerdryer combo is a small unit that dries slowly so plan accordingly  decent ac  the unit is a bit older so it takes a little while to cool off if youve been away all day with the ac off  there is also a strong fan available to help circulate air quickly we found the bed to be uncomfortable  as mentioned in the listing it is a single trundle bed that converts to a king   but when converted to a king there is a small gap between the beds where the frames meet  were both larger guys and the mattresses are very soft so you feel the bed frame underneath you especially near that gap  this may not be a problem for any smaller travellers but just something to be aware of despite that we were very happy with our stay and would gladly recommend it cheers, there was a fridge washerdryer hairdryer some beauty bits shower gel shampoo etc available in the apartment also ac coffee making facilities microwave all self contained and much better than we expected we enjoyed staying in brooklyn  the metro station is   seconds away and it takes around    mins to get into manhattan fat daddies across the road was great for yummy cheap tacos we also liked buttermilk channel about   mins walk away brooklyn museum and prospect park not too far either we used lyft a lot for taxis in the evening cheaper than uber and pretty inexpensive to get into manhattan again we would definitely stay again great value for money we were   friends staying for a long weekend it’s a basement apartment so there’s no natural light but a minor as we didn’t spend much time in the apartment our flight wasn’t until   in the evening and as there was nobody else booked in jeanguy graciously let us stay until we wanted this meant we could leave our luggage at the apartment have full day in new york and could come back to shower etc before leaving we checked out of the apartment at   excellent communication from jeanguy during our stay thank you for everything, my husband and i are currently long distance he’s a marine stationed in north carolina whenever he comes to visit we get an airbnb and the taft’s has been by far our favorite  hosts extremely accommodating and always responded faster than any host i’ve dealt with on airbnb extremely nice and helpful with all the questions i had like if cooking was allowed and if they had a hair dryer yes and yes btw  location fantastic location about a   walk to the   train or you can take the   if i remember correctly to the   and you can pretty much take that all over manhattan very convenient if you want to stay in manhattan without paying   a night for a private apartment  apartment adorable the decor is very homey and warm like most places in ny there’s no central air but they did have an air conditioner that cooled the place down extremely well we only needed it for an hour before we turned it off and the place stayed cool the whole time there’s a twin in the bedroom and the living room has a couch that folds out into a full sized bed the bathroom has shampoo conditioner body wash all three dove brand hand soap a blow dryer and clothing iron the kitchen has pots and pans as well as basic spices and the refrigerator was stocked with bottles of water and two ice trays in the freezer if you’re looking for the ironing board it’s next to the refrigerator lastly there’s free wifi as well as cable tv and even parking in the backyard  overall it was an amazing experience and probably the best i’ve had so far on airbnb you really won’t regret staying here\n",
      "\n",
      "4: my girlfriend and i absolutely enjoyed our stay with jessica first of all her home is in a nice area of brooklyn with bars and convenience stores just up the street there are many families in the area which makes the actual street pretty quiet  when conversing with jessica prior to our arrival she was quick friendly honest and concise the entire time she gave me the key and a mini rundown on where to go and what is allowed in regards to the fridge etc loved her availability even on memorial day weekend    upon entering jessicas home i was just blown away her renovated decor is enticing to look at but still welcoming our room was on the fifth floor and we had the entire floor to ourselves our bedroom was clean with brand new appliances a huge closet some water bottles and a beautiful and peaceful view of a park there is no fridge in the room but jessica is hospitable enough to allow us to put our food drinks in her massive fridge downstairs we did not hear any other neighbors until we left our floor but they were also very kind   the following day my girlfriend and i overslept but jessica texted us to see if we were still coming to breakfast i appreciated that because of course we were hungry and to not have to leave the house was a preferred option for us when we got down there we were met with home made scones and bread coffee tea boiled eggs cereal and oatmeal i couldnt believe how soft and fresh the bread was but the fact that she took time to make everything herself was truly admirable and made me appreciate my stay even more   after speaking with jessica we found that her spirit is just as golden as her home and her food my girlfriend and i are very particular about where we lay our heads she especially is a slight germaphobe and has to feel comfortable to truly relax and enjoy herself with that being said my  star rating for every category was given because they were truly earned jessicas home service and aura is amazing and she deserves more than   stars we are already planning our next visit youd be sorry to not stay here at least once thank you again jessica, we had a lovely week in new york stan and alice thank you very much for the way you made us feel at home in your home because in fact we did \r",
      " we were pleasantly surprised by the privacy their big victorian house allowed us and by the way alice had prepared the room for our stay it is no wonder they have earned the status of superhost because they are very friendly and helpful if you’d like to know how it feels to stay in a quiet neighborhood full of victorian houses this is your place at night it’s so quiet that you’ll sleep as well as we did and we indulged ourselves by choosing a different restaurant in cortelyou road every evening we did listen to alice’s advice of course \r",
      " , hello all hi nicholas\r",
      " i know this come very late nevertheless i have to say it was a wonderful stay and experience at nicholas it was a great honor to be in his house the building was beautiful when we first got in we were very late and nicholas was not happy lol guess he really cared for his guest sorry nicholas the lift has a handle and u got to open it to enter and everything amazed us such an old bulding where we can never sees it in our modern life anymore the laundry the  kitchenthe emergency outside our window the view of course the view you can see the water from the bathroom too it was never a problem having to share a bathroom and it was very clean too everything works well nicholas was always discreet and leave our privacy alone \r",
      " and when were ready he would ask if we would like to have our coffee now yes hes nice like that he would whip up a nice breakfast of eggs with tomatoes some herbyummmm and then juice and croissant with butter and jam and you think i would forget i will never ever forgethis amazing coffee which i look forward to every single morning  well i wish have more mornings it it was boil in this antique kettle and its better than any coffee anywhere \r",
      " we love the staten island the room was cool and breezy at night theres map of the train and new york available in yr room and nicholas even added extra touch by putting a real  flower in our room on the table and password for wifi we couldnt ask for more wish we have more time with nicholas \r",
      " we like to be back nicholas , alice and stan would have to be the friendliest and most hospitable hosts a newcomer to nyc could wish for as well as providing superb accomodation in the tranquil environs of ditmus park just a few stops away from downtown manhattan being active in theatre and music they provide authentic insight into and if youre as lucky as i was firsthand experience of the big apples incomparable arts scene thanks so much guys for a truly memorable stay i look forward to seeing you your house and your family again, we very much enjoyed our stay in staten island with nicholas he is a wonderful and thoughtful host with great stories he was tremendously kind to share his honey stash with us over butter croissants and dark coffee the room is bright watch lovely tugboats and other vessels cross the water to the sounds of birds in hilltop trees while there we also discovered fabulous enoteca maria a nottobemissed throwback italian wine and dine spot with real grape vine leaves clinging to the main glass on nicholas recommendation  we consider ourselves very lucky to have stayed at the one and only newyorkroomwithaview sincere thanks to you nicholas from your airbnb fans jess  brendan, i highly recommend this beautiful spacious room with very comfortable bed but most of all the tremendous hospitality of alice and stan who have the kind of relaxed and friendly manner that immediately makes you feel at home i would say that my stay with alice and stan was one of the main highlights of my three week trip to new york and i developed a close relationship with them both that i look forward to extending with my future trips to new york should you be a private person or have work to do you have ample room and the seclusion you require but should you prefer a more direct experience of brooklyn life in a socially dynamic household this is also the place to be the neighborhood is how i had always thought of life in a cultured brooklyn household as portrayed in the movies and in fact the house is sometimes used for movie shoots so perhaps it’s not so surprising there are many good local restaurants cafes and organic food stores and prospect park is within easy walking distance too  i had the pleasure of meeting other members of alice and stan’s family and as i happened to get caught up in hurricane sandy i couldn’t have wished for a better place be to spend the extra time i spent in brooklyn before getting a return flight to the uk i really do recommend the experience of staying here – it transformed a routine visit to new york into a cherished experience for me\r",
      " \r",
      " laurence newey, ill first start with the positive caroline is a nice host the place is exactly as described and pretty comfortable and the location is quite good although a bit far from the main attractions of brooklyn and manhattan however caroline and her mum are not kidding with the house rules its almost military and made us feel very uncomfortable i was visiting with my mum and brother and we are all very used to travel and often stay at airbnb we expect to be respectful of the host house like it is ours but this was too much ill give one example that made us even regret to book this place we were having dinner and after giving us a couple of minutes we were asked to leave the common area while they are checking in other guests we thought this was very rude but it is indeed in their house rule so we had to go back to our room looking back this rule was probably the reason why we had to wait under the rain what felt like a long time so that other guests could clear the common area we discussed this with caroline and agreed to disagree on this rule im surprised nobody commented about all those rules now you are aware and can decide for yourself if you would be comfortable there there is no hard feelings but we would not stay there again and wont recommend to friends, alice is a lovely welcoming person and stan seemed great as well we were there for a week to visit our daughter who just had a baby and lives several blocks away we chose this place because of the positive reviews the sense of privacy in the writeup and the proximity to our daughter our experience was negative the room is lovely and the neighborhood charming but there was no private rear entrance available for us to use so each time we entered the house we had to walk through the entrance hall dining room and kitchen to the back staircase  it is where they live so theyd be having dinner fixing dinner hanging out we felt quite invasivethe big problem however was the bathroom it is a small bathroom at the bottom of a steep stairwell near their kitchen it was often occupied at    at night or    in the morning i had thought semiprivate meant it would be shared with a couple of other people it was shared with many people i often had to wait   minutes or so to use the bathroom even in the middle of the night  in addition one evening it was very loud until very late and one morning it was very loud beginning around    am we really couldnt continue staying there and left early i have communicated with alice and she assured me it was an unusual week but we would not have stayed there if wed known we didnt have a private rear entrance a bathroom that would be comfortably available and a quiet place for sleeping its a great family with lots of activity the room is attractive and clean but we would not recommend staying there unless you are fully aware of the situation, i stayed here for   weeks while i was working weekdays near grand central it is a clean modern apartment with new appliances and fixtures and amenities well suited to long stays notably an ensuite washerdryer which is a rarity in new york apartments  the place is situated on a fairly quiet street across from st mary’s park closed for renovation during my stay january   also the single bedroom faces onto the back garden so you get very little traffic sound in that room there is sometimes noise from the upstairs apartment but seldom past   so was never an issue for me getting a peaceful night’s sleep  st mary’s recreation center is a   minute walk from the apartment it has a gym and one of the city’s better indoor public pools if you are a fitness buff and are doing a long stay it might be worth your while to get a membership   gets you   months of access to this and all the other cityrun recreation centers  there is quite fast access to manhattan and brooklyn via the     subway several   line stations are within a ten minute walk  personally i like the realness of the neighborhood but be aware that south bronx is among the lowestincome jurisdictions in the usa so you will see poverty i walked to and from the subway every day for a month and never had any problems but i can imagine that some guests without experience of pregentrification american urban places might feel uneasy on the streets after dark guess you can always use uber or lyft if that becomes a issue  communication and checkin was straightforward i felt well taken care of, i understand that people oftentimes struggle on airbnb since there are too many choices i decided to stay at alice and stefans given the fact that they are superhosts which turned out they really are so i stayed at theirs for a week and it was incredibly and amazingly fantastic the first day i arrived stefan helped carry my luggages and alice showed me the room and everything it was very impressive that she was able to put all necessaries in one room like a coffee maker and a refrigerator thats got milk and juice alice had literally everything in the room that she even prepared multiple metro cards for guests speaking of this the house is very closed to subway station from which you can catch a train to manhattan also there are many awesome restaurants in this neighborhood it is a shame that i wasnt able to try all of them but they are really good besides i was given enough privacy which is very good the bed was very comfy you can adjust the ac however you want since the rooms got a table and some chairs that you can enjoy your takeout food and stuff i want to say this is definitely where i would choose to stay again when i visit new york next day  i miss everything there already trust me this is one of the best places you can get in nyc\n",
      "\n",
      "5: best location by far it was my first time traveling to the city and franks place made my trip complete it was in a very safe area close to everything that you will need transport shows time square frank was there to greet us quickly gave us the run down and was available for any questions that we had checkout was better than staying at a hotel we had planned on leaving at noon but wanted to make another tourist stop before we got our stuff and headed for the airport so we ended up email hidden by airbnb munication was great and we had a flawless stay  , miss dy was a breeze to communicate with right from the start she was prompt and  very friendly and patient in her replies to me my flights got delayed and i made it to her place fairly late in the night but her husband and herself stayed up to welcome me she had food ready for me and took time to help me get settled in despite how tired she was i slept so well that i missed my alarm and ultimately my flight but she made sure her husband was there to help me with my luggage and that i wouldnt slip and fall in the melting snow   the location too is nice and close to jfk so i would definitely recommend staying here if you have a flight to catch the next day   thank you so much for everything miss dy, my husband and i had the most wonderful time staying at daras beautiful apartment this was our first airbnb experience and all went so smoothly  dara was quick and informative when responding to emails prior to our stay and was easy to contact on arrival to arrange keys etc  our flight was delayed and arrived late in the evening so dara had her super valery meet us with keys and let us in  dara checked in throughout our stay via text message too which was lovely \r",
      " the apartment was exactly as shown in pictures  clean warm  inviting  the bed was amazingly comfortable and nice and big  we had two weeks in daras apartment so we did have a few nights where we stayed in with some take away food so it was nice to have a good sized lounge and kitchen\r",
      " we loved exploring the west village we had many days where we didnt even leave and after   weeks we still hadnt seen it all  we walked to time square financial district soho east side and across the brooklyn bridge  the subway is right around the corner too  it is also an easy walk to the hudson river  \r",
      " after experiencing daras apartment in the west village i would not stay anywhere else  highly recommended \r",
      " thank you so much dara  hopefully we get back to nyc one day \r",
      " gabby  ben \r",
      " , there were   of us staying each of us had our own bedroom which differed significantly from room to room overall i believe that this listing represents good value for money especially when you have many people staying subject to the observations below my pros and cons  pros   the location is great with lots of eateries and a few drinkeries nearby    the large open space downstairs makes for a perfect communal chillout space   starr the building manager was very cordial and courteous and was flexible in allowing us to leave our bags until   on the day of checkout since we had an evening flight  cons   we were all a little underwhelmed by some of the bedroom spaces given that the photos looked beautiful some of the bedrooms were very basic especially the two on the top floor with limited storagehanging space for clothes in most cases the curtains  were barely wide enough for the windows let lots of light in and in one case barely staying up due to a badly bent curtail rail   i drew the short straw and slept  in one of the two upstairs bedrooms the mattress was very poor and very uncomfortable and i could feel the springs pressing against my body as regards bedding there was no top sheet in either of the two upstairs rooms with no spare sheets or duvet provided so i slept under a blanket for   nights rather than under an duvet or sheetblanket combo totally unacceptable i mentioned this to starr early on who seemed surprised and suggested that maybe we had gotten qoute unlucky because i know a lot of bedding had been taken away for laundering just before you arrived nothing was done about providing sheets after my request   the heating was almost impossible to control so that the downstairs remained cool whilst the upstairs was so hot we had to leave windows open in order to be able to sleep  this is a nice space and with a little bit more care attention to detail and a few nice touches like soaps and shampoos for example this place could be excellent as it is its good, this was our first experience with airbnb and visit to new york friends recommended staying in brooklyn because its much quieter and affordable than manhattan we selected this place to stay after reading the reviews  monifa and saint were great hosts they accommodated all of our needs including storing our luggage until check in we arrived early monifa greeted us and made us feel very welcome we had   sets of keys for our use their place is half a block from the best made to order crepes at le paris dakar a must try a health food grocery store and places to eat  we used the subway mostly uber tofrom the airport at nostrandfulton station and its very close   we recommend using the c line over the a line it appeared newer cleaner and ran more often you can purchase a pass there  their brownstone was very clean and spacious with extra amenities we slept comfortably and our place was quiet anytime we had a question they responded very quickly by text or via the message center on airbnb and were gracious  we enjoyed our stay, from the time we booked to the time we checked out everything about our experience with larry and raul’s place exceeded our expectations communication with them was clear easy and they were quick to answer any questions or meet any needs we had such as our request for an iron and ironing board   we arrived early in the morning to nyc and raul was very accommodating as to let us check in early to drop our things off and get ready for our day from the unit pretty much everything we wanted to do was within walking distance rockefeller center central park times square broadway amazing restaurants and our favorite of all local pressed juice places anything else we did    memorial wall street the met were just short ubertaxi rides away raul gave us awesome local recommendations for food and attractions   at the end of our long days the unit was so comfortable and inviting to just kick off our shoes and unwind for the night there was plenty of room for the two of us in the bedroom and the bathroom was easy to share   when we were ready to check out we found out at the last minute that our departing flight from lga had been cancelled due to weather raul was very quick to offer us solutions of where to stay before ultimately allowing us to stay another night since his next guest’s arriving flight was also cancelled we paid for the additional night while searching for alternative flights we found one for   pm that night and raul was quick to refund us our money for that night and help us out the door to catch our flight we seriously could not have asked for a better experience and are so thankful for his amazing hospitality, amelias apartment a nice little absolutely brilliant apartment easy walking distance to everything in new york from madison square gardens macys empire state building time square all within a    walk the highline is just around the corner and also the no  subway to get you easily across town unfortunately upon on the day of our arrival our flight was cancelled making us around    hours late for our arranged check in time amelia was understanding and we check in with no problems unfortunately we didnt get to meet amelia but her friend was there to make sure we check in without any problems the bed room as a comfortable queen size bed amelia also had   double airbeds set up for use when we arrived fresh toiletries were left for us and clean towels full cable television and super fast wifi was available to use, entry  it was a breeze complete instructions were properly delegated we just had to get inside the building and once we did we were greeted by rajiv at the unit door  we were properly oriented and toured around the unit by rajiv and lara and they even left a copy of the house rules and some tips on getting around on the table in the room along with a new york city guide book for tourists  they also left us our own keysthen and there so that we can start coming and going as we please  we almost always had a bit of a problem with the door but rajov coached us through how to lock and unlock it haha and when we couldnt do it he was always to the rescue even without us asking   area great near to basic stores like groceries and convenience stores cafes and even fastfood chains  literally around   minutes walk to the nearest subway  you walk out the building door and walk one straight line to the right and   minutes later there it is   to get to midtown manhattan where times square is you only need to ride one line no transfers  for around    minutes very convenient  quite safe we had no problems with safety and security even if we always came home late we never really encountered anyone or anything suspicious walking home from the subway plus the subway was near to the building so thats a huge factor too the building entrance was also always locked and secured  we had our own keys for that too cleanliness handsdown superb thumbsup  shoes werent even allowed in the rooms to maintain the cleanliness  the bathroom which is shared with rajiv and his housemates was always clean which we appreciated  the hosts  very friendly approachable and hospitable they even had a couple of chats with my mom and allowed her to have some coffee when she asked once  always open for questions and since they lived with you in the unit they were always there if we needed help they were also very quiet as if you had your own private unit and would not get in your hair if you dont want to be bothered the room  as described basic but good queensized bed which were perfect for my mom and i probably good also for a couple or   best friends  lamp table chair and spacious closet for your clothes spacious we loved the space especially since we had   huge luggages and   carryon strollers with us it all fit with tons of room to spare  good ventilation there was also a small fan  it wasnt very warm while we were there though they might need to provide a bigger fan or some airconditioning when it gets warmer in the summer because theres only one window , i had a wonderful at raj and laras lovely apartment the room my home base for a few weeks while looking for a place of my own in the city the room was larger than i expected and storage space was abundant  great for my two big bags mattress was very comfortable and wifi worked very well throughout the house i was initially nervous to share the bathroom and kitchen during busy hours beforeafter the work day but it was never a problem  super close to the subway and an easy   minute commute door to door to midtown lara was super accommodating and friendly while i didnt meet raj he always responded to any questions quickly and thoughtfully would definitely reccommend to anyone looking for a place to land in nyc, we had a wonderful stay in charlottes apartment for   nights in september she is a delightful host and the apartment is well positioned very clean and tastefully decorated  we arrived very late due to some delays and baggage problems charlotte was particularly kind and flexible in waiting up for us as well as helping to coordinate the delivery of our bags the next day she also regularly checked in with us during our stay without being overbearing in any manner whatsoever we had a lovely discussion on our arrival despite the late hour and on our departure  the apartment is located in the south eastcentral part of east village east   and avenue b with plenty of surrounding cafés restaurants delis bars organic supermarkets and dry cleaners the closest subway station line f is nearby approximately a   metre walk essentially everything that one needs is an easy walk nearby the suburbs character is very interesting and worth exploring on foot   we had a fantastic experience in ny and that had a lot to do with charlottes apartment the apartment itself is typical of prewar immigrant buildings and has been very tastefully decorated by charlotte in a manner perfectly consistent with the heritage of the building it is a fraction smaller than it appears on the photos but is comfortable our stay was during a very hot period and the apartment was quite warm however there is an air conditioner it is well equipped and was a great base for us to explore manhattan and new york generally   our stay was extremely enjoyable and charlotte had much to do with that for which we are very grateful we wouldnt hesitate to recommend her as a host and her apartment\n",
      "\n",
      "6: we had a very enjoyable stay in missy and julian’s charming two bedroom apartment in crown heights brooklyn the apartment was very clean and comfortable and we felt very at home there  missy and julien were always prompt in their responses to any of our queries  and the checkin was very easy they supplied us with handy tips on the local area and transport the apartment has a lot of character and is at the top storey of an old brownstone house  the local area is interesting and multiculturally diverse and quite a contrast to manhattan one evening it was noisy in the street  below with some guys shouting but it was just one night a friday and during a heatwave there is no shortage of great places to eat with cuisine from any country in the world the subway is about ten minutes walk away  nostrand avenue if you have little children under   there is a great children’s museum nearby to keep them entertained prospect park is lovely and a short journey by train we would recommend this apartment as a comfortable base from which to explore brooklyn and manhattan, we had a wonderful time on anyones guest it was the perfect getaway from the city ingrid was great she was very flexible and gave us a lot of good advice about places to visit during our stay as others have said it is very much like camping but on a boat we loved waking up every morning tanning on the boats topdeck and then riding bikes to jacob riis beach we highly recommend renting the bikes from ingrid without those we really wouldnt have been able to explore the rockaways as thoroughly we would recommend this trip to anyone who is a little adventurous and wants a unique and memorable experience, experience of a lifetime ingrids houseboat was such a treat its a bit like glorified camping with no running water but the marinas bathroom facilities were clean and easy to use and we even managed to prepare   meals during our stay using just the little range and toaster oven we even got netflix working on our laptop which came in handy during the first nights downpour the grocery store just outside the marina was great for the basics and we even walked down to the stop n shop and picked up fresh lobster and crab legs for a seafood feast on the boat all in all a really laidback and comfortable getaway just a short walk from the beautiful beach  ill definitely be back, we had a great stay at the brownstone we found that the property is exactly as simon has described it the apartment was spotlessly clean well equipped and tastefully furnished we liked the walkin wardrobes as we were able to store away our suitcases there were some nice touches like a bottle of wine and basket of nibbles to welcome us\r",
      " \r",
      " it was great on arrival to be able to flop onto the comfy bed sunshine streaming through the window and fresh air outside the linen and towels was immaculate just like wed checked into a hotel\r",
      " \r",
      " we didnt get to meet simon but he provided easytofollow instructions for getting the keys and there were about   pages of useful information provided about transportation nearby restaurants and facilities such as launderettes and supermarkets\r",
      " \r",
      " we felt pretty safe in the neighborhood even late in the evening there were a few interesting characters around but nobody bothered us the red rooster book online before you arrive sylvias babbalucci and harlem shake were great nearby restaurants and we found a chinese takeaway that was great value\r",
      " \r",
      " the subway was only    minutes walk in two directions giving good access to downtown attractions via major lines\r",
      " \r",
      " we were mainly out sightseeing so spent a limited amount of time in the apartment but did find the netflix subscription useful being able to pick from many movies and tv box sets which we watched on the highdefinition tv with soundbar it was also possible to plug in a laptop or other devices if you prefer to bring your own entertainment the wifi signal was strong and reliable\r",
      " \r",
      " april was a mixed bag of weather  the central heating was welcome and we noted that there was a brand new air conditioning unit there ready to be installed for when the summer arrives\r",
      " \r",
      " simon was very quick to reply to our messages and was friendly and helpful for our visit he was able to be flexible over checkin and checkout times\r",
      " \r",
      " thank you simon  we had a great time loved your apartment and hope to visit again some time, aleksandra elijah and their gorgeous boy attila are a wonderful family they made us feel right at home as soon as we got there if you are traveling in ny with a baby look no further my partner and i stayed at aleksandras place with our   month old and aleksandra provided us with a travel cot toys and let us use all of her kitchen appliances to cook for our baby the babies played together and really enjoyed each other every morning aleksandra offered us coffee and tea and made us the most delicious snacks for breakfast she is a chef and it shows she and elijah are super fun and great to talk to we mainly caught them at night after exploring the city during the day they offered us great insights and instructions about where to go and were simply amazing hosts aleksandra even gave us an old suitcase when our stuff no longer fit in our bags and shared attilas shoes and clothes that no longer fit with our baby their very spacious apartment is really close to beautiful prospect park and to public transport truly amazing people thank you so much for everything we had a wonderful time and hope to meet somewhere again , my friends and i enjoyed ourselves so much on ingrids floating cabin houseboat  we all live in brooklyn but decided to spend the last warmish weekend of the season at the rockaways even though all of our favorite spots were closed  the boat is moments away from the beach market and subway surrounded by kind neighbors well equipped with plenty of space  enough kitchen stuff to make dinner  breakfast and complete with amazingly serene canoe trips  the marinas facilities were clean and easy to access  i cannot say enough how much we enjoyed our   hours and i can pretty much guarantee that we will return  it was the perfect miniature getaway to break up our work weeks  we all have lived on boats before so we werent surprised by anything — i think the other reviews are correct in that the accommodations are a little like camping except…way better\r",
      " \r",
      " on top of all of that ingrid was incredibly communicative and easy to get in touch with  thank you for everything, weve been to new york many times but this was by far our most memorable experience in the city victoria  bjorn were there to welcome us when we arrived and from the moment we walked through the door we felt like we were visiting old friends  their home is stately fun eclectic and very comfortable lots of nice touches like a coffee maker stocked mini fridge luxurious bedding and towels amazing artwork and a glorious backyard made the time spent at our homebase comfortable  relaxing but when youre ready to explore theyre close to the subway and easy for uber or cab drivers to find and the west village is such a great neighborhood youll find fabulous restaurants great shopping and a cool relaxed vibe thats hard to find anywhere else in the city  if youre looking for a place to stay in new york that will leave you feeling pampered while giving you a sense of being a local look no further , we were first attracted to victoria and bjorns place by its location  yes the west village is indisputably the very best neighborhood in nyc but we were surprised and delighted by how spacious the apartment is  and just how livable the host couple takes great pride in creating a five star guest experience eg luxury bath towels soaps and shampoo  dreamy bed with   pillows and down comforter  nespresso machine  capsules cable tv with premium channels a fridge stocked with beverages the apartment is very pretty as well a second floor unit overlooking a backyard garden and one of greenwich villages most famous thoroughfares out front the builtin shelves of the living room are stocked with art books and great literature in case you chose to hybernate one day and the furnishings are carefully curated from the sculpture and photography to the furniture including upright piano theres a secret nook for storing luggage which came in very handy as wed been on the road for   weeks and werent traveling lightly victoria is a thoughtful host checking in with us during our stay want a room  tidyup and making out arrivaldeparture super easy  we recommend this apartment very highly and will make this airbnb our top choice for nyc trips in the future, i stayed on ingrids houseboat anyones guest for two nights in august with my boyfriend and we loved it it is a charming place where   could easily stay once up the ship beds  one in the captains area and one in the kitchen area the houseboat has all you need to cook with  and swim with too ingrid has a canoe and a great collection of floats to use it is like camping in that you are sleeping in a houseboat in a marina within a small houseboat community everyone in the marina community pretty much keeps to themselves and we found it to be a peaceful setting you also need to use the bathroom toilet and shower in the marina but it is only a short walk down the dock it is very clean and there is no need for a flashlight as everything is well lit there is nothing like waking up on the water in the morning and having coffee on the back deck or sunbathing on the roof deck its also fun to canoe at sunset  we brought our bikes and explored the rockaways we rode from end to end and found a set from boardwalk empire really cool there are many great places to eat nearby robertas pizza rippers rockaway taco thai rock and the bungalow and the    grocery store right next to the marina has everything there is also an awesome stop n shop nearby what more can i say if you are looking for a unique beach getaway in the rockaways anyones guest is a perfect spot well be coming back  ps ingrid was very responsive to all our phone calls and texts , lovely apartment just one block from the beach and near beach concessions walkable to many amenities clean bright charming decor  love the surfer artwork  kids loved the wifi and the ac was definitely a blessing in the heat  riva and her team are delightful and were very responsive to questionsneeds during our stay this was a multi generation family vacation in our former hometown with young teens and elderly grandparents with limited mobility  i choose this location because of its proximity to the beach few stairs and the parking options across the street in the muni lot   the recent closing of the nearby beaches  not under control of the host  made beach access more challenging than anticipated  but we just adapted went to thai rock restaurant kids got to play on the tarzan boat also went to riis park where parking is abundant\n",
      "\n"
     ]
    }
   ],
   "source": [
    "top_docs = topic_model.get_top_docs()\n",
    "for topic_n, topic_docs in enumerate(top_docs):\n",
    "    docs,probs = zip(*topic_docs)\n",
    "    topic_str = str(topic_n+1)+': '+', '.join(docs)\n",
    "    print(topic_str)\n",
    "    print()"
   ]
  },
  {
   "cell_type": "code",
   "execution_count": 43,
   "id": "reflected-customs",
   "metadata": {
    "scrolled": true
   },
   "outputs": [
    {
     "data": {
      "text/plain": [
       "5.112629575071236"
      ]
     },
     "execution_count": 43,
     "metadata": {},
     "output_type": "execute_result"
    }
   ],
   "source": [
    "#overall total correlation\n",
    "topic_model.tc"
   ]
  },
  {
   "cell_type": "markdown",
   "id": "proper-insulin",
   "metadata": {},
   "source": [
    "# 10 topics without anchors"
   ]
  },
  {
   "cell_type": "code",
   "execution_count": 44,
   "id": "union-crystal",
   "metadata": {},
   "outputs": [
    {
     "data": {
      "text/plain": [
       "<corextopic.corextopic.Corex at 0x1f58988f550>"
      ]
     },
     "execution_count": 44,
     "metadata": {},
     "output_type": "execute_result"
    }
   ],
   "source": [
    "# 10 topics\n",
    "topic_model2 = ct.Corex(n_hidden=10, words=words, seed=1)\n",
    "topic_model2.fit(doc_word, words=words)"
   ]
  },
  {
   "cell_type": "code",
   "execution_count": 45,
   "id": "naughty-jason",
   "metadata": {
    "scrolled": true
   },
   "outputs": [
    {
     "name": "stdout",
     "output_type": "stream",
     "text": [
      "0: noise,floor,door,stairs,building,hear,issue,sleep,loud,thing\n",
      "1: subway,walk,station,walking,close,distance,away,park,train,blocks\n",
      "2: kitchen,bathroom,bed,room,towels,tv,shower,bedroom,water,living\n",
      "3: arrived,late,left,morning,flight,early,breakfast,make,provided,took\n",
      "4: restaurants,bars,shops,neighborhood,places,many,area,lots,food,local\n",
      "5: find,better,pictures,hotel,without,going,actually,still,although,told\n",
      "6: new,around,experience,friendly,visit,come,helpful,corner,help,ny\n",
      "7: old,guests,put,windows,kids,especially,might,year,whole,music\n",
      "8: air,space,light,little,touches,extra,top,work,bnb,huge\n",
      "9: questions,checkin,comfortable,clean,exactly,responded,answered,messages,extremely,answer\n"
     ]
    }
   ],
   "source": [
    "topics2 = topic_model2.get_topics()\n",
    "for n,topic in enumerate(topics2):\n",
    "    topic_words,_,_ = zip(*topic)\n",
    "    print('{}: '.format(n) + ','.join(topic_words))"
   ]
  },
  {
   "cell_type": "markdown",
   "id": "unnecessary-workstation",
   "metadata": {},
   "source": [
    "These topics yield less  separability "
   ]
  },
  {
   "cell_type": "code",
   "execution_count": 46,
   "id": "fatty-brazil",
   "metadata": {
    "scrolled": true
   },
   "outputs": [
    {
     "data": {
      "image/png": "[encoded data removed]",
      "text/plain": [
       "<Figure size 720x360 with 1 Axes>"
      ]
     },
     "metadata": {
      "needs_background": "light"
     },
     "output_type": "display_data"
    }
   ],
   "source": [
    "plt.figure(figsize=(10,5))\n",
    "plt.bar(range(topic_model2.tcs.shape[0]), topic_model2.tcs, color='#4e79a7', width=0.5)\n",
    "plt.xlabel('Topic', fontsize=16)\n",
    "plt.ylabel('Total Correlation (nats)', fontsize=16);"
   ]
  },
  {
   "cell_type": "markdown",
   "id": "disturbed-hospital",
   "metadata": {},
   "source": [
    "# 10 topics with anchors"
   ]
  },
  {
   "cell_type": "code",
   "execution_count": 20,
   "id": "proper-clone",
   "metadata": {},
   "outputs": [
    {
     "name": "stdout",
     "output_type": "stream",
     "text": [
      "0: subway,restaurants,walk,close,manhattan,station,walking,away,distance,park\n",
      "1: kitchen,bathroom,towels,water,shower,tv,bedroom,use,fridge,hot\n",
      "2: brooklyn,city,perfect,need,want,decorated,full,lovely,equipped,family\n",
      "3: day,arrived,late,first,could,make,early,sure,check,flight\n",
      "4: back,time,home,feel,come,new,gave,felt,next,go\n",
      "5: room,one,bed,people,little,big,dont,find,good,problem\n",
      "6: questions,quick,quickly,exactly,respond,pictures,responded,answered,messages,fast\n",
      "7: two,building,enough,take,old,couple,nights,large,three,youre\n",
      "8: night,noise,floor,stairs,small,overall,hear,issue,sleep,loud\n",
      "9: recommend,airbnb,highly,experience,best,comfortable,space,anyone,absolutely,beautiful\n"
     ]
    }
   ],
   "source": [
    "# anchors with 10 topics\n",
    "topic_model2_anchors = ct.Corex(n_hidden=10, words=words,\n",
    "                       max_iter=200, verbose=False, seed=1)\n",
    "\n",
    "topic_model2_anchors.fit(doc_word, words=words, docs=df.comments, \n",
    "                anchors=['location', \n",
    "                         'interior'], anchor_strength=2)\n",
    "\n",
    "# Print all topics from the CorEx topic model\n",
    "topics2_anchors = topic_model2_anchors.get_topics()\n",
    "for n,topic in enumerate(topics2_anchors):\n",
    "    topic_words,_,_ = zip(*topic)\n",
    "    print('{}: '.format(n) + ','.join(topic_words))"
   ]
  },
  {
   "cell_type": "markdown",
   "id": "molecular-closure",
   "metadata": {},
   "source": [
    "A few noticeable topics but not better than the 6 topic model"
   ]
  },
  {
   "cell_type": "markdown",
   "id": "brave-bumper",
   "metadata": {},
   "source": [
    "# 4 topics without anchors"
   ]
  },
  {
   "cell_type": "code",
   "execution_count": 51,
   "id": "third-hydrogen",
   "metadata": {},
   "outputs": [
    {
     "data": {
      "text/plain": [
       "<corextopic.corextopic.Corex at 0x1f586bd36a0>"
      ]
     },
     "execution_count": 51,
     "metadata": {},
     "output_type": "execute_result"
    }
   ],
   "source": [
    "# trying 4 topics\n",
    "# n_hidden is the number of topics\n",
    "# words is your list of words used in your corpus\n",
    "topic_model_4=ct.Corex(n_hidden=4,words=words, seed=1)\n",
    "topic_model_4.fit(doc_word, words=words)"
   ]
  },
  {
   "cell_type": "code",
   "execution_count": 52,
   "id": "invalid-belle",
   "metadata": {},
   "outputs": [
    {
     "name": "stdout",
     "output_type": "stream",
     "text": [
      "0: bathroom,bed,room,bedroom,noise,floor,shower,small,door,living\n",
      "1: arrived,late,left,experience,morning,provided,early,flight,leave,came\n",
      "2: subway,walk,walking,away,distance,station,park,kitchen,within,street\n",
      "3: restaurants,shops,bars,around,neighborhood,area,many,close,new,places\n"
     ]
    }
   ],
   "source": [
    "# Print all topics from the CorEx topic model\n",
    "topics = topic_model_4.get_topics()\n",
    "for n,topic in enumerate(topics):\n",
    "    topic_words,_,_ = zip(*topic)\n",
    "    print('{}: '.format(n) + ','.join(topic_words))"
   ]
  },
  {
   "cell_type": "markdown",
   "id": "trying-stroke",
   "metadata": {},
   "source": [
    "Lost some of the topics from 6-topic model so the 6-topic model yielded the best topic distinction"
   ]
  },
  {
   "cell_type": "code",
   "execution_count": null,
   "id": "analyzed-documentary",
   "metadata": {},
   "outputs": [],
   "source": []
  }
 ],
 "metadata": {
  "kernelspec": {
   "display_name": "Python [conda env:metis] *",
   "language": "python",
   "name": "conda-env-metis-py"
  },
  "language_info": {
   "codemirror_mode": {
    "name": "ipython",
    "version": 3
   },
   "file_extension": ".py",
   "mimetype": "text/x-python",
   "name": "python",
   "nbconvert_exporter": "python",
   "pygments_lexer": "ipython3",
   "version": "3.8.8"
  }
 },
 "nbformat": 4,
 "nbformat_minor": 5
}
