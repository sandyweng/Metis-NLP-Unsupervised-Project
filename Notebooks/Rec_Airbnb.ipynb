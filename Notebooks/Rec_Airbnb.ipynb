{
 "cells": [
  {
   "cell_type": "code",
   "execution_count": 3,
   "id": "cooperative-butter",
   "metadata": {},
   "outputs": [],
   "source": [
    "import pandas as pd\n",
    "import numpy as np\n",
    "import nltk\n",
    "from langdetect import detect\n",
    "import matplotlib.pyplot as plt\n",
    "%matplotlib inline\n",
    "import seaborn as sns\n",
    "from sklearn.feature_extraction.text import TfidfVectorizer\n",
    "from nltk.tokenize import sent_tokenize, word_tokenize\n",
    "from sklearn.decomposition import NMF, TruncatedSVD, LatentDirichletAllocation\n",
    "from wordcloud import WordCloud\n",
    "from PIL import Image\n",
    "from sklearn.metrics.pairwise import cosine_similarity, linear_kernel"
   ]
  },
  {
   "cell_type": "code",
   "execution_count": 2,
   "id": "initial-aquarium",
   "metadata": {},
   "outputs": [],
   "source": [
    "reviews=pd.read_csv('reviews.csv')"
   ]
  },
  {
   "cell_type": "code",
   "execution_count": 3,
   "id": "remarkable-bicycle",
   "metadata": {},
   "outputs": [
    {
     "name": "stdout",
     "output_type": "stream",
     "text": [
      "<class 'pandas.core.frame.DataFrame'>\n",
      "RangeIndex: 836586 entries, 0 to 836585\n",
      "Data columns (total 6 columns):\n",
      " #   Column         Non-Null Count   Dtype \n",
      "---  ------         --------------   ----- \n",
      " 0   listing_id     836586 non-null  int64 \n",
      " 1   id             836586 non-null  int64 \n",
      " 2   date           836586 non-null  object\n",
      " 3   reviewer_id    836586 non-null  int64 \n",
      " 4   reviewer_name  836578 non-null  object\n",
      " 5   comments       835850 non-null  object\n",
      "dtypes: int64(3), object(3)\n",
      "memory usage: 38.3+ MB\n"
     ]
    }
   ],
   "source": [
    "reviews.info()"
   ]
  },
  {
   "cell_type": "code",
   "execution_count": 4,
   "id": "standard-estimate",
   "metadata": {},
   "outputs": [
    {
     "data": {
      "text/html": [
       "<div>\n",
       "<style scoped>\n",
       "    .dataframe tbody tr th:only-of-type {\n",
       "        vertical-align: middle;\n",
       "    }\n",
       "\n",
       "    .dataframe tbody tr th {\n",
       "        vertical-align: top;\n",
       "    }\n",
       "\n",
       "    .dataframe thead th {\n",
       "        text-align: right;\n",
       "    }\n",
       "</style>\n",
       "<table border=\"1\" class=\"dataframe\">\n",
       "  <thead>\n",
       "    <tr style=\"text-align: right;\">\n",
       "      <th></th>\n",
       "      <th>listing_id</th>\n",
       "      <th>id</th>\n",
       "      <th>date</th>\n",
       "      <th>reviewer_id</th>\n",
       "      <th>reviewer_name</th>\n",
       "      <th>comments</th>\n",
       "    </tr>\n",
       "  </thead>\n",
       "  <tbody>\n",
       "    <tr>\n",
       "      <th>0</th>\n",
       "      <td>2595</td>\n",
       "      <td>17857</td>\n",
       "      <td>2009-11-21</td>\n",
       "      <td>50679</td>\n",
       "      <td>Jean</td>\n",
       "      <td>Notre séjour de trois nuits.\\r\\nNous avons app...</td>\n",
       "    </tr>\n",
       "    <tr>\n",
       "      <th>1</th>\n",
       "      <td>2595</td>\n",
       "      <td>19176</td>\n",
       "      <td>2009-12-05</td>\n",
       "      <td>53267</td>\n",
       "      <td>Cate</td>\n",
       "      <td>Great experience.</td>\n",
       "    </tr>\n",
       "    <tr>\n",
       "      <th>2</th>\n",
       "      <td>2595</td>\n",
       "      <td>19760</td>\n",
       "      <td>2009-12-10</td>\n",
       "      <td>38960</td>\n",
       "      <td>Anita</td>\n",
       "      <td>I've stayed with my friend at the Midtown Cast...</td>\n",
       "    </tr>\n",
       "    <tr>\n",
       "      <th>3</th>\n",
       "      <td>2595</td>\n",
       "      <td>34320</td>\n",
       "      <td>2010-04-09</td>\n",
       "      <td>71130</td>\n",
       "      <td>Kai-Uwe</td>\n",
       "      <td>We've been staying here for about 9 nights, en...</td>\n",
       "    </tr>\n",
       "    <tr>\n",
       "      <th>4</th>\n",
       "      <td>2595</td>\n",
       "      <td>46312</td>\n",
       "      <td>2010-05-25</td>\n",
       "      <td>117113</td>\n",
       "      <td>Alicia</td>\n",
       "      <td>We had a wonderful stay at Jennifer's charming...</td>\n",
       "    </tr>\n",
       "  </tbody>\n",
       "</table>\n",
       "</div>"
      ],
      "text/plain": [
       "   listing_id     id        date  reviewer_id reviewer_name  \\\n",
       "0        2595  17857  2009-11-21        50679          Jean   \n",
       "1        2595  19176  2009-12-05        53267          Cate   \n",
       "2        2595  19760  2009-12-10        38960         Anita   \n",
       "3        2595  34320  2010-04-09        71130       Kai-Uwe   \n",
       "4        2595  46312  2010-05-25       117113        Alicia   \n",
       "\n",
       "                                            comments  \n",
       "0  Notre séjour de trois nuits.\\r\\nNous avons app...  \n",
       "1                                  Great experience.  \n",
       "2  I've stayed with my friend at the Midtown Cast...  \n",
       "3  We've been staying here for about 9 nights, en...  \n",
       "4  We had a wonderful stay at Jennifer's charming...  "
      ]
     },
     "execution_count": 4,
     "metadata": {},
     "output_type": "execute_result"
    }
   ],
   "source": [
    "reviews.head()"
   ]
  },
  {
   "cell_type": "code",
   "execution_count": 3,
   "id": "necessary-binding",
   "metadata": {},
   "outputs": [],
   "source": [
    "reviews.dropna(inplace=True)"
   ]
  },
  {
   "cell_type": "code",
   "execution_count": 6,
   "id": "apparent-jungle",
   "metadata": {},
   "outputs": [
    {
     "name": "stdout",
     "output_type": "stream",
     "text": [
      "<class 'pandas.core.frame.DataFrame'>\n",
      "Int64Index: 835842 entries, 0 to 836585\n",
      "Data columns (total 6 columns):\n",
      " #   Column         Non-Null Count   Dtype \n",
      "---  ------         --------------   ----- \n",
      " 0   listing_id     835842 non-null  int64 \n",
      " 1   id             835842 non-null  int64 \n",
      " 2   date           835842 non-null  object\n",
      " 3   reviewer_id    835842 non-null  int64 \n",
      " 4   reviewer_name  835842 non-null  object\n",
      " 5   comments       835842 non-null  object\n",
      "dtypes: int64(3), object(3)\n",
      "memory usage: 44.6+ MB\n"
     ]
    }
   ],
   "source": [
    "reviews.info()"
   ]
  },
  {
   "cell_type": "code",
   "execution_count": 7,
   "id": "indonesian-option",
   "metadata": {},
   "outputs": [],
   "source": [
    "reviews['date'] = pd.to_datetime(reviews['date'])"
   ]
  },
  {
   "cell_type": "code",
   "execution_count": 8,
   "id": "limited-offense",
   "metadata": {
    "scrolled": true
   },
   "outputs": [
    {
     "name": "stdout",
     "output_type": "stream",
     "text": [
      "<class 'pandas.core.frame.DataFrame'>\n",
      "Int64Index: 835842 entries, 0 to 836585\n",
      "Data columns (total 6 columns):\n",
      " #   Column         Non-Null Count   Dtype         \n",
      "---  ------         --------------   -----         \n",
      " 0   listing_id     835842 non-null  int64         \n",
      " 1   id             835842 non-null  int64         \n",
      " 2   date           835842 non-null  datetime64[ns]\n",
      " 3   reviewer_id    835842 non-null  int64         \n",
      " 4   reviewer_name  835842 non-null  object        \n",
      " 5   comments       835842 non-null  object        \n",
      "dtypes: datetime64[ns](1), int64(3), object(2)\n",
      "memory usage: 44.6+ MB\n"
     ]
    }
   ],
   "source": [
    "reviews.info()"
   ]
  },
  {
   "cell_type": "code",
   "execution_count": 9,
   "id": "flush-thunder",
   "metadata": {},
   "outputs": [],
   "source": [
    "reviews['year'] = reviews.date.dt.year"
   ]
  },
  {
   "cell_type": "code",
   "execution_count": 10,
   "id": "continent-network",
   "metadata": {},
   "outputs": [
    {
     "data": {
      "text/html": [
       "<div>\n",
       "<style scoped>\n",
       "    .dataframe tbody tr th:only-of-type {\n",
       "        vertical-align: middle;\n",
       "    }\n",
       "\n",
       "    .dataframe tbody tr th {\n",
       "        vertical-align: top;\n",
       "    }\n",
       "\n",
       "    .dataframe thead th {\n",
       "        text-align: right;\n",
       "    }\n",
       "</style>\n",
       "<table border=\"1\" class=\"dataframe\">\n",
       "  <thead>\n",
       "    <tr style=\"text-align: right;\">\n",
       "      <th></th>\n",
       "      <th>listing_id</th>\n",
       "      <th>id</th>\n",
       "      <th>date</th>\n",
       "      <th>reviewer_id</th>\n",
       "      <th>reviewer_name</th>\n",
       "      <th>comments</th>\n",
       "      <th>year</th>\n",
       "    </tr>\n",
       "  </thead>\n",
       "  <tbody>\n",
       "    <tr>\n",
       "      <th>0</th>\n",
       "      <td>2595</td>\n",
       "      <td>17857</td>\n",
       "      <td>2009-11-21</td>\n",
       "      <td>50679</td>\n",
       "      <td>Jean</td>\n",
       "      <td>Notre séjour de trois nuits.\\r\\nNous avons app...</td>\n",
       "      <td>2009</td>\n",
       "    </tr>\n",
       "    <tr>\n",
       "      <th>1</th>\n",
       "      <td>2595</td>\n",
       "      <td>19176</td>\n",
       "      <td>2009-12-05</td>\n",
       "      <td>53267</td>\n",
       "      <td>Cate</td>\n",
       "      <td>Great experience.</td>\n",
       "      <td>2009</td>\n",
       "    </tr>\n",
       "    <tr>\n",
       "      <th>2</th>\n",
       "      <td>2595</td>\n",
       "      <td>19760</td>\n",
       "      <td>2009-12-10</td>\n",
       "      <td>38960</td>\n",
       "      <td>Anita</td>\n",
       "      <td>I've stayed with my friend at the Midtown Cast...</td>\n",
       "      <td>2009</td>\n",
       "    </tr>\n",
       "    <tr>\n",
       "      <th>3</th>\n",
       "      <td>2595</td>\n",
       "      <td>34320</td>\n",
       "      <td>2010-04-09</td>\n",
       "      <td>71130</td>\n",
       "      <td>Kai-Uwe</td>\n",
       "      <td>We've been staying here for about 9 nights, en...</td>\n",
       "      <td>2010</td>\n",
       "    </tr>\n",
       "    <tr>\n",
       "      <th>4</th>\n",
       "      <td>2595</td>\n",
       "      <td>46312</td>\n",
       "      <td>2010-05-25</td>\n",
       "      <td>117113</td>\n",
       "      <td>Alicia</td>\n",
       "      <td>We had a wonderful stay at Jennifer's charming...</td>\n",
       "      <td>2010</td>\n",
       "    </tr>\n",
       "  </tbody>\n",
       "</table>\n",
       "</div>"
      ],
      "text/plain": [
       "   listing_id     id       date  reviewer_id reviewer_name  \\\n",
       "0        2595  17857 2009-11-21        50679          Jean   \n",
       "1        2595  19176 2009-12-05        53267          Cate   \n",
       "2        2595  19760 2009-12-10        38960         Anita   \n",
       "3        2595  34320 2010-04-09        71130       Kai-Uwe   \n",
       "4        2595  46312 2010-05-25       117113        Alicia   \n",
       "\n",
       "                                            comments  year  \n",
       "0  Notre séjour de trois nuits.\\r\\nNous avons app...  2009  \n",
       "1                                  Great experience.  2009  \n",
       "2  I've stayed with my friend at the Midtown Cast...  2009  \n",
       "3  We've been staying here for about 9 nights, en...  2010  \n",
       "4  We had a wonderful stay at Jennifer's charming...  2010  "
      ]
     },
     "execution_count": 10,
     "metadata": {},
     "output_type": "execute_result"
    }
   ],
   "source": [
    "reviews.head()"
   ]
  },
  {
   "cell_type": "code",
   "execution_count": 11,
   "id": "novel-mentor",
   "metadata": {
    "scrolled": true
   },
   "outputs": [
    {
     "data": {
      "text/plain": [
       "2019    239019\n",
       "2018    170187\n",
       "2017    115789\n",
       "2020    106662\n",
       "2016     80245\n",
       "2015     46326\n",
       "2021     32461\n",
       "2014     23391\n",
       "2013     11845\n",
       "2012      6176\n",
       "2011      2952\n",
       "2010       696\n",
       "2009        93\n",
       "Name: year, dtype: int64"
      ]
     },
     "execution_count": 11,
     "metadata": {},
     "output_type": "execute_result"
    }
   ],
   "source": [
    "reviews.year.value_counts()"
   ]
  },
  {
   "cell_type": "markdown",
   "id": "opened-chick",
   "metadata": {},
   "source": [
    "# Dataset is too large to run recommendation system on Streamlit. Need to use a subset "
   ]
  },
  {
   "cell_type": "code",
   "execution_count": 12,
   "id": "broadband-chocolate",
   "metadata": {},
   "outputs": [
    {
     "data": {
      "text/plain": [
       "dtype('int64')"
      ]
     },
     "execution_count": 12,
     "metadata": {},
     "output_type": "execute_result"
    }
   ],
   "source": [
    "reviews.year.dtype"
   ]
  },
  {
   "cell_type": "code",
   "execution_count": 13,
   "id": "moral-reward",
   "metadata": {},
   "outputs": [
    {
     "name": "stdout",
     "output_type": "stream",
     "text": [
      "<class 'pandas.core.frame.DataFrame'>\n",
      "Int64Index: 378142 entries, 42 to 836585\n",
      "Data columns (total 7 columns):\n",
      " #   Column         Non-Null Count   Dtype         \n",
      "---  ------         --------------   -----         \n",
      " 0   listing_id     378142 non-null  int64         \n",
      " 1   id             378142 non-null  int64         \n",
      " 2   date           378142 non-null  datetime64[ns]\n",
      " 3   reviewer_id    378142 non-null  int64         \n",
      " 4   reviewer_name  378142 non-null  object        \n",
      " 5   comments       378142 non-null  object        \n",
      " 6   year           378142 non-null  int64         \n",
      "dtypes: datetime64[ns](1), int64(4), object(2)\n",
      "memory usage: 23.1+ MB\n"
     ]
    }
   ],
   "source": [
    "#use only 2019-2021 data\n",
    "df = reviews[(reviews['year'] == 2019) | (reviews['year'] == 2020)| (reviews['year'] == 2021)]\n",
    "df.info()"
   ]
  },
  {
   "cell_type": "code",
   "execution_count": 14,
   "id": "better-carol",
   "metadata": {
    "tags": []
   },
   "outputs": [
    {
     "data": {
      "text/html": [
       "<div>\n",
       "<style scoped>\n",
       "    .dataframe tbody tr th:only-of-type {\n",
       "        vertical-align: middle;\n",
       "    }\n",
       "\n",
       "    .dataframe tbody tr th {\n",
       "        vertical-align: top;\n",
       "    }\n",
       "\n",
       "    .dataframe thead th {\n",
       "        text-align: right;\n",
       "    }\n",
       "</style>\n",
       "<table border=\"1\" class=\"dataframe\">\n",
       "  <thead>\n",
       "    <tr style=\"text-align: right;\">\n",
       "      <th></th>\n",
       "      <th>listing_id</th>\n",
       "      <th>id</th>\n",
       "      <th>date</th>\n",
       "      <th>reviewer_id</th>\n",
       "      <th>reviewer_name</th>\n",
       "      <th>comments</th>\n",
       "      <th>year</th>\n",
       "    </tr>\n",
       "  </thead>\n",
       "  <tbody>\n",
       "    <tr>\n",
       "      <th>42</th>\n",
       "      <td>2595</td>\n",
       "      <td>366477703</td>\n",
       "      <td>2019-01-02</td>\n",
       "      <td>165354250</td>\n",
       "      <td>Jacob</td>\n",
       "      <td>The apartment met expectations to how it was i...</td>\n",
       "      <td>2019</td>\n",
       "    </tr>\n",
       "    <tr>\n",
       "      <th>43</th>\n",
       "      <td>2595</td>\n",
       "      <td>449815873</td>\n",
       "      <td>2019-05-07</td>\n",
       "      <td>168460710</td>\n",
       "      <td>Christopher</td>\n",
       "      <td>10 / 10 would stay again</td>\n",
       "      <td>2019</td>\n",
       "    </tr>\n",
       "    <tr>\n",
       "      <th>44</th>\n",
       "      <td>2595</td>\n",
       "      <td>456489109</td>\n",
       "      <td>2019-05-21</td>\n",
       "      <td>119626931</td>\n",
       "      <td>Alex</td>\n",
       "      <td>Place was so cute and comfy! Host was great an...</td>\n",
       "      <td>2019</td>\n",
       "    </tr>\n",
       "    <tr>\n",
       "      <th>45</th>\n",
       "      <td>2595</td>\n",
       "      <td>487972917</td>\n",
       "      <td>2019-07-14</td>\n",
       "      <td>60181725</td>\n",
       "      <td>Andrew</td>\n",
       "      <td>I'm glad I stayed here. I liked everything.\\nT...</td>\n",
       "      <td>2019</td>\n",
       "    </tr>\n",
       "    <tr>\n",
       "      <th>46</th>\n",
       "      <td>2595</td>\n",
       "      <td>514642186</td>\n",
       "      <td>2019-08-21</td>\n",
       "      <td>33952280</td>\n",
       "      <td>Laura</td>\n",
       "      <td>First of all I have to say, that Jennifer is n...</td>\n",
       "      <td>2019</td>\n",
       "    </tr>\n",
       "  </tbody>\n",
       "</table>\n",
       "</div>"
      ],
      "text/plain": [
       "    listing_id         id       date  reviewer_id reviewer_name  \\\n",
       "42        2595  366477703 2019-01-02    165354250         Jacob   \n",
       "43        2595  449815873 2019-05-07    168460710   Christopher   \n",
       "44        2595  456489109 2019-05-21    119626931          Alex   \n",
       "45        2595  487972917 2019-07-14     60181725        Andrew   \n",
       "46        2595  514642186 2019-08-21     33952280         Laura   \n",
       "\n",
       "                                             comments  year  \n",
       "42  The apartment met expectations to how it was i...  2019  \n",
       "43                           10 / 10 would stay again  2019  \n",
       "44  Place was so cute and comfy! Host was great an...  2019  \n",
       "45  I'm glad I stayed here. I liked everything.\\nT...  2019  \n",
       "46  First of all I have to say, that Jennifer is n...  2019  "
      ]
     },
     "execution_count": 14,
     "metadata": {},
     "output_type": "execute_result"
    }
   ],
   "source": [
    "df.head()"
   ]
  },
  {
   "cell_type": "code",
   "execution_count": 15,
   "id": "attempted-salvation",
   "metadata": {},
   "outputs": [
    {
     "name": "stderr",
     "output_type": "stream",
     "text": [
      "<ipython-input-15-cded8424db09>:10: SettingWithCopyWarning: \n",
      "A value is trying to be set on a copy of a slice from a DataFrame.\n",
      "Try using .loc[row_indexer,col_indexer] = value instead\n",
      "\n",
      "See the caveats in the documentation: https://pandas.pydata.org/pandas-docs/stable/user_guide/indexing.html#returning-a-view-versus-a-copy\n",
      "  df['is_english']=df.comments.apply(non_eng)\n"
     ]
    }
   ],
   "source": [
    "# keep only reviews in English\n",
    "# replace non-english comments with 'Not English'\n",
    "def non_eng(x):\n",
    "    try:\n",
    "        if detect(x) != 'en':\n",
    "            return 'Not English'\n",
    "    except:\n",
    "        pass\n",
    "# create a new column for whether the comments are in English\n",
    "df['is_english']=df.comments.apply(non_eng)"
   ]
  },
  {
   "cell_type": "code",
   "execution_count": 17,
   "id": "lined-pioneer",
   "metadata": {},
   "outputs": [
    {
     "name": "stdout",
     "output_type": "stream",
     "text": [
      "<class 'pandas.core.frame.DataFrame'>\n",
      "Int64Index: 338459 entries, 42 to 836585\n",
      "Data columns (total 8 columns):\n",
      " #   Column         Non-Null Count   Dtype         \n",
      "---  ------         --------------   -----         \n",
      " 0   listing_id     338459 non-null  int64         \n",
      " 1   id             338459 non-null  int64         \n",
      " 2   date           338459 non-null  datetime64[ns]\n",
      " 3   reviewer_id    338459 non-null  int64         \n",
      " 4   reviewer_name  338459 non-null  object        \n",
      " 5   comments       338459 non-null  object        \n",
      " 6   year           338459 non-null  int64         \n",
      " 7   is_english     0 non-null       object        \n",
      "dtypes: datetime64[ns](1), int64(4), object(3)\n",
      "memory usage: 23.2+ MB\n"
     ]
    }
   ],
   "source": [
    "english_reviews = df[df['is_english'] != 'Not English']\n",
    "english_reviews.info()"
   ]
  },
  {
   "cell_type": "code",
   "execution_count": 18,
   "id": "binding-reminder",
   "metadata": {},
   "outputs": [
    {
     "name": "stderr",
     "output_type": "stream",
     "text": [
      "C:\\Users\\sandy\\anaconda3_2nd_download\\envs\\metis\\lib\\site-packages\\pandas\\core\\frame.py:4308: SettingWithCopyWarning: \n",
      "A value is trying to be set on a copy of a slice from a DataFrame\n",
      "\n",
      "See the caveats in the documentation: https://pandas.pydata.org/pandas-docs/stable/user_guide/indexing.html#returning-a-view-versus-a-copy\n",
      "  return super().drop(\n"
     ]
    }
   ],
   "source": [
    "#drop is_english column\n",
    "english_reviews.drop(columns='is_english', inplace=True)"
   ]
  },
  {
   "cell_type": "code",
   "execution_count": 16,
   "id": "excellent-concern",
   "metadata": {},
   "outputs": [
    {
     "name": "stderr",
     "output_type": "stream",
     "text": [
      "<ipython-input-16-2473a685454b>:8: SettingWithCopyWarning: \n",
      "A value is trying to be set on a copy of a slice from a DataFrame.\n",
      "Try using .loc[row_indexer,col_indexer] = value instead\n",
      "\n",
      "See the caveats in the documentation: https://pandas.pydata.org/pandas-docs/stable/user_guide/indexing.html#returning-a-view-versus-a-copy\n",
      "  df['comments'] = reviews.comments.map(alphanumeric).map(punc_lower)\n"
     ]
    },
    {
     "data": {
      "text/html": [
       "<div>\n",
       "<style scoped>\n",
       "    .dataframe tbody tr th:only-of-type {\n",
       "        vertical-align: middle;\n",
       "    }\n",
       "\n",
       "    .dataframe tbody tr th {\n",
       "        vertical-align: top;\n",
       "    }\n",
       "\n",
       "    .dataframe thead th {\n",
       "        text-align: right;\n",
       "    }\n",
       "</style>\n",
       "<table border=\"1\" class=\"dataframe\">\n",
       "  <thead>\n",
       "    <tr style=\"text-align: right;\">\n",
       "      <th></th>\n",
       "      <th>listing_id</th>\n",
       "      <th>id</th>\n",
       "      <th>date</th>\n",
       "      <th>reviewer_id</th>\n",
       "      <th>reviewer_name</th>\n",
       "      <th>comments</th>\n",
       "      <th>year</th>\n",
       "      <th>is_english</th>\n",
       "    </tr>\n",
       "  </thead>\n",
       "  <tbody>\n",
       "    <tr>\n",
       "      <th>42</th>\n",
       "      <td>2595</td>\n",
       "      <td>366477703</td>\n",
       "      <td>2019-01-02</td>\n",
       "      <td>165354250</td>\n",
       "      <td>Jacob</td>\n",
       "      <td>the apartment met expectations to how it was i...</td>\n",
       "      <td>2019</td>\n",
       "      <td>None</td>\n",
       "    </tr>\n",
       "    <tr>\n",
       "      <th>43</th>\n",
       "      <td>2595</td>\n",
       "      <td>449815873</td>\n",
       "      <td>2019-05-07</td>\n",
       "      <td>168460710</td>\n",
       "      <td>Christopher</td>\n",
       "      <td>would stay again</td>\n",
       "      <td>2019</td>\n",
       "      <td>None</td>\n",
       "    </tr>\n",
       "    <tr>\n",
       "      <th>44</th>\n",
       "      <td>2595</td>\n",
       "      <td>456489109</td>\n",
       "      <td>2019-05-21</td>\n",
       "      <td>119626931</td>\n",
       "      <td>Alex</td>\n",
       "      <td>place was so cute and comfy host was great and...</td>\n",
       "      <td>2019</td>\n",
       "      <td>None</td>\n",
       "    </tr>\n",
       "    <tr>\n",
       "      <th>45</th>\n",
       "      <td>2595</td>\n",
       "      <td>487972917</td>\n",
       "      <td>2019-07-14</td>\n",
       "      <td>60181725</td>\n",
       "      <td>Andrew</td>\n",
       "      <td>im glad i stayed here i liked everything\\nthe ...</td>\n",
       "      <td>2019</td>\n",
       "      <td>None</td>\n",
       "    </tr>\n",
       "    <tr>\n",
       "      <th>46</th>\n",
       "      <td>2595</td>\n",
       "      <td>514642186</td>\n",
       "      <td>2019-08-21</td>\n",
       "      <td>33952280</td>\n",
       "      <td>Laura</td>\n",
       "      <td>first of all i have to say that jennifer is no...</td>\n",
       "      <td>2019</td>\n",
       "      <td>None</td>\n",
       "    </tr>\n",
       "  </tbody>\n",
       "</table>\n",
       "</div>"
      ],
      "text/plain": [
       "    listing_id         id       date  reviewer_id reviewer_name  \\\n",
       "42        2595  366477703 2019-01-02    165354250         Jacob   \n",
       "43        2595  449815873 2019-05-07    168460710   Christopher   \n",
       "44        2595  456489109 2019-05-21    119626931          Alex   \n",
       "45        2595  487972917 2019-07-14     60181725        Andrew   \n",
       "46        2595  514642186 2019-08-21     33952280         Laura   \n",
       "\n",
       "                                             comments  year is_english  \n",
       "42  the apartment met expectations to how it was i...  2019       None  \n",
       "43                                   would stay again  2019       None  \n",
       "44  place was so cute and comfy host was great and...  2019       None  \n",
       "45  im glad i stayed here i liked everything\\nthe ...  2019       None  \n",
       "46  first of all i have to say that jennifer is no...  2019       None  "
      ]
     },
     "execution_count": 16,
     "metadata": {},
     "output_type": "execute_result"
    }
   ],
   "source": [
    "# Text preprocessing steps - remove numbers, captial letters and punctuation\n",
    "import re\n",
    "import string\n",
    "\n",
    "alphanumeric = lambda x: re.sub('\\w*\\d\\w*', ' ', x)\n",
    "punc_lower = lambda x: re.sub('[%s]' % re.escape(string.punctuation), '', x.lower())\n",
    "\n",
    "english_reviews['comments'] = reviews.comments.map(alphanumeric).map(punc_lower)\n",
    "english_reviews.head()"
   ]
  },
  {
   "cell_type": "code",
   "execution_count": 19,
   "id": "differential-portrait",
   "metadata": {},
   "outputs": [
    {
     "name": "stderr",
     "output_type": "stream",
     "text": [
      "<ipython-input-19-077956673d20>:2: SettingWithCopyWarning: \n",
      "A value is trying to be set on a copy of a slice from a DataFrame.\n",
      "Try using .loc[row_indexer,col_indexer] = value instead\n",
      "\n",
      "See the caveats in the documentation: https://pandas.pydata.org/pandas-docs/stable/user_guide/indexing.html#returning-a-view-versus-a-copy\n",
      "  english_reviews['comments'] = english_reviews['comments'].str.replace('\\n', ' ')\n"
     ]
    }
   ],
   "source": [
    "# remove \\n \n",
    "english_reviews['comments'] = english_reviews['comments'].str.replace('\\n', ' ')"
   ]
  },
  {
   "cell_type": "code",
   "execution_count": 20,
   "id": "speaking-louis",
   "metadata": {},
   "outputs": [
    {
     "data": {
      "text/html": [
       "<div>\n",
       "<style scoped>\n",
       "    .dataframe tbody tr th:only-of-type {\n",
       "        vertical-align: middle;\n",
       "    }\n",
       "\n",
       "    .dataframe tbody tr th {\n",
       "        vertical-align: top;\n",
       "    }\n",
       "\n",
       "    .dataframe thead th {\n",
       "        text-align: right;\n",
       "    }\n",
       "</style>\n",
       "<table border=\"1\" class=\"dataframe\">\n",
       "  <thead>\n",
       "    <tr style=\"text-align: right;\">\n",
       "      <th></th>\n",
       "      <th>listing_id</th>\n",
       "      <th>id</th>\n",
       "      <th>date</th>\n",
       "      <th>reviewer_id</th>\n",
       "      <th>reviewer_name</th>\n",
       "      <th>comments</th>\n",
       "      <th>year</th>\n",
       "    </tr>\n",
       "  </thead>\n",
       "  <tbody>\n",
       "    <tr>\n",
       "      <th>42</th>\n",
       "      <td>2595</td>\n",
       "      <td>366477703</td>\n",
       "      <td>2019-01-02</td>\n",
       "      <td>165354250</td>\n",
       "      <td>Jacob</td>\n",
       "      <td>the apartment met expectations to how it was i...</td>\n",
       "      <td>2019</td>\n",
       "    </tr>\n",
       "    <tr>\n",
       "      <th>43</th>\n",
       "      <td>2595</td>\n",
       "      <td>449815873</td>\n",
       "      <td>2019-05-07</td>\n",
       "      <td>168460710</td>\n",
       "      <td>Christopher</td>\n",
       "      <td>would stay again</td>\n",
       "      <td>2019</td>\n",
       "    </tr>\n",
       "    <tr>\n",
       "      <th>44</th>\n",
       "      <td>2595</td>\n",
       "      <td>456489109</td>\n",
       "      <td>2019-05-21</td>\n",
       "      <td>119626931</td>\n",
       "      <td>Alex</td>\n",
       "      <td>place was so cute and comfy host was great and...</td>\n",
       "      <td>2019</td>\n",
       "    </tr>\n",
       "    <tr>\n",
       "      <th>45</th>\n",
       "      <td>2595</td>\n",
       "      <td>487972917</td>\n",
       "      <td>2019-07-14</td>\n",
       "      <td>60181725</td>\n",
       "      <td>Andrew</td>\n",
       "      <td>im glad i stayed here i liked everything the a...</td>\n",
       "      <td>2019</td>\n",
       "    </tr>\n",
       "    <tr>\n",
       "      <th>46</th>\n",
       "      <td>2595</td>\n",
       "      <td>514642186</td>\n",
       "      <td>2019-08-21</td>\n",
       "      <td>33952280</td>\n",
       "      <td>Laura</td>\n",
       "      <td>first of all i have to say that jennifer is no...</td>\n",
       "      <td>2019</td>\n",
       "    </tr>\n",
       "  </tbody>\n",
       "</table>\n",
       "</div>"
      ],
      "text/plain": [
       "    listing_id         id       date  reviewer_id reviewer_name  \\\n",
       "42        2595  366477703 2019-01-02    165354250         Jacob   \n",
       "43        2595  449815873 2019-05-07    168460710   Christopher   \n",
       "44        2595  456489109 2019-05-21    119626931          Alex   \n",
       "45        2595  487972917 2019-07-14     60181725        Andrew   \n",
       "46        2595  514642186 2019-08-21     33952280         Laura   \n",
       "\n",
       "                                             comments  year  \n",
       "42  the apartment met expectations to how it was i...  2019  \n",
       "43                                   would stay again  2019  \n",
       "44  place was so cute and comfy host was great and...  2019  \n",
       "45  im glad i stayed here i liked everything the a...  2019  \n",
       "46  first of all i have to say that jennifer is no...  2019  "
      ]
     },
     "execution_count": 20,
     "metadata": {},
     "output_type": "execute_result"
    }
   ],
   "source": [
    "english_reviews.head()"
   ]
  },
  {
   "cell_type": "code",
   "execution_count": 21,
   "id": "unlikely-stewart",
   "metadata": {},
   "outputs": [],
   "source": [
    "english_reviews.to_csv('english_subset.csv', index=False)"
   ]
  },
  {
   "cell_type": "code",
   "execution_count": 24,
   "id": "ancient-nepal",
   "metadata": {
    "scrolled": true
   },
   "outputs": [
    {
     "data": {
      "text/plain": [
       "(array([3.14987e+05, 1.94790e+04, 2.85000e+03, 6.91000e+02, 2.27000e+02,\n",
       "        1.11000e+02, 5.60000e+01, 2.40000e+01, 1.50000e+01, 1.90000e+01]),\n",
       " array([1.000e+00, 1.070e+02, 2.130e+02, 3.190e+02, 4.250e+02, 5.310e+02,\n",
       "        6.370e+02, 7.430e+02, 8.490e+02, 9.550e+02, 1.061e+03]),\n",
       " <BarContainer object of 10 artists>)"
      ]
     },
     "execution_count": 24,
     "metadata": {},
     "output_type": "execute_result"
    },
    {
     "data": {
      "image/png": "[encoded data removed]",
      "text/plain": [
       "<Figure size 432x288 with 1 Axes>"
      ]
     },
     "metadata": {
      "needs_background": "light"
     },
     "output_type": "display_data"
    }
   ],
   "source": [
    "# distribution of number of words in reviews\n",
    "plt.hist(english_reviews.comments.str.count(' ') + 1)"
   ]
  },
  {
   "cell_type": "code",
   "execution_count": null,
   "id": "suitable-julian",
   "metadata": {},
   "outputs": [],
   "source": [
    "subset = pd.read_csv('english_subset.csv')"
   ]
  },
  {
   "cell_type": "code",
   "execution_count": 87,
   "id": "prescribed-therapist",
   "metadata": {
    "scrolled": true
   },
   "outputs": [],
   "source": [
    "subset = subset.rename(columns={\"id\": \"review_id\", \"comments\": \"reviews\"})"
   ]
  },
  {
   "cell_type": "code",
   "execution_count": 101,
   "id": "extended-referral",
   "metadata": {},
   "outputs": [],
   "source": [
    "subset.to_csv('subset2.csv', index=False)"
   ]
  },
  {
   "cell_type": "code",
   "execution_count": 4,
   "id": "dried-footwear",
   "metadata": {},
   "outputs": [],
   "source": [
    "subset = pd.read_csv('subset2.csv')"
   ]
  },
  {
   "cell_type": "code",
   "execution_count": 5,
   "id": "every-electron",
   "metadata": {
    "scrolled": true
   },
   "outputs": [
    {
     "data": {
      "text/plain": [
       "0"
      ]
     },
     "execution_count": 5,
     "metadata": {},
     "output_type": "execute_result"
    }
   ],
   "source": [
    "subset.duplicated().sum()"
   ]
  },
  {
   "cell_type": "code",
   "execution_count": 6,
   "id": "failing-support",
   "metadata": {},
   "outputs": [
    {
     "data": {
      "text/html": [
       "<div>\n",
       "<style scoped>\n",
       "    .dataframe tbody tr th:only-of-type {\n",
       "        vertical-align: middle;\n",
       "    }\n",
       "\n",
       "    .dataframe tbody tr th {\n",
       "        vertical-align: top;\n",
       "    }\n",
       "\n",
       "    .dataframe thead th {\n",
       "        text-align: right;\n",
       "    }\n",
       "</style>\n",
       "<table border=\"1\" class=\"dataframe\">\n",
       "  <thead>\n",
       "    <tr style=\"text-align: right;\">\n",
       "      <th></th>\n",
       "      <th>listing_id</th>\n",
       "      <th>review_id</th>\n",
       "      <th>date</th>\n",
       "      <th>reviewer_id</th>\n",
       "      <th>reviewer_name</th>\n",
       "      <th>reviews</th>\n",
       "      <th>year</th>\n",
       "    </tr>\n",
       "  </thead>\n",
       "  <tbody>\n",
       "    <tr>\n",
       "      <th>0</th>\n",
       "      <td>3831</td>\n",
       "      <td>721596793</td>\n",
       "      <td>2021-01-03</td>\n",
       "      <td>367990285</td>\n",
       "      <td>Mayra</td>\n",
       "      <td>i really like it she was nice and the places w...</td>\n",
       "      <td>2021</td>\n",
       "    </tr>\n",
       "    <tr>\n",
       "      <th>1</th>\n",
       "      <td>3831</td>\n",
       "      <td>722183142</td>\n",
       "      <td>2021-01-05</td>\n",
       "      <td>380514843</td>\n",
       "      <td>Jaami</td>\n",
       "      <td>you can expect a clean  large space the host i...</td>\n",
       "      <td>2021</td>\n",
       "    </tr>\n",
       "    <tr>\n",
       "      <th>2</th>\n",
       "      <td>3831</td>\n",
       "      <td>723999945</td>\n",
       "      <td>2021-01-13</td>\n",
       "      <td>381460279</td>\n",
       "      <td>Matthew</td>\n",
       "      <td>great location great communication and great h...</td>\n",
       "      <td>2021</td>\n",
       "    </tr>\n",
       "    <tr>\n",
       "      <th>3</th>\n",
       "      <td>3831</td>\n",
       "      <td>724924853</td>\n",
       "      <td>2021-01-17</td>\n",
       "      <td>141222105</td>\n",
       "      <td>Tim And Lisa</td>\n",
       "      <td>great location the rooms were clean and comfor...</td>\n",
       "      <td>2021</td>\n",
       "    </tr>\n",
       "    <tr>\n",
       "      <th>4</th>\n",
       "      <td>3831</td>\n",
       "      <td>726611179</td>\n",
       "      <td>2021-01-24</td>\n",
       "      <td>24411345</td>\n",
       "      <td>Noah</td>\n",
       "      <td>great place</td>\n",
       "      <td>2021</td>\n",
       "    </tr>\n",
       "  </tbody>\n",
       "</table>\n",
       "</div>"
      ],
      "text/plain": [
       "   listing_id  review_id        date  reviewer_id reviewer_name  \\\n",
       "0        3831  721596793  2021-01-03    367990285         Mayra   \n",
       "1        3831  722183142  2021-01-05    380514843         Jaami   \n",
       "2        3831  723999945  2021-01-13    381460279       Matthew   \n",
       "3        3831  724924853  2021-01-17    141222105  Tim And Lisa   \n",
       "4        3831  726611179  2021-01-24     24411345          Noah   \n",
       "\n",
       "                                             reviews  year  \n",
       "0  i really like it she was nice and the places w...  2021  \n",
       "1  you can expect a clean  large space the host i...  2021  \n",
       "2  great location great communication and great h...  2021  \n",
       "3  great location the rooms were clean and comfor...  2021  \n",
       "4                                        great place  2021  "
      ]
     },
     "execution_count": 6,
     "metadata": {},
     "output_type": "execute_result"
    }
   ],
   "source": [
    "subset.head()"
   ]
  },
  {
   "cell_type": "code",
   "execution_count": 7,
   "id": "nervous-median",
   "metadata": {
    "scrolled": false
   },
   "outputs": [
    {
     "data": {
      "text/plain": [
       "listing_id        int64\n",
       "review_id         int64\n",
       "date             object\n",
       "reviewer_id       int64\n",
       "reviewer_name    object\n",
       "reviews          object\n",
       "year              int64\n",
       "dtype: object"
      ]
     },
     "execution_count": 7,
     "metadata": {},
     "output_type": "execute_result"
    }
   ],
   "source": [
    "subset.dtypes"
   ]
  },
  {
   "cell_type": "code",
   "execution_count": 5,
   "id": "fabulous-november",
   "metadata": {
    "scrolled": false
   },
   "outputs": [],
   "source": [
    "subset.review_id = subset.review_id.astype('str')"
   ]
  },
  {
   "cell_type": "code",
   "execution_count": 15,
   "id": "backed-partition",
   "metadata": {},
   "outputs": [
    {
     "data": {
      "text/html": [
       "<div>\n",
       "<style scoped>\n",
       "    .dataframe tbody tr th:only-of-type {\n",
       "        vertical-align: middle;\n",
       "    }\n",
       "\n",
       "    .dataframe tbody tr th {\n",
       "        vertical-align: top;\n",
       "    }\n",
       "\n",
       "    .dataframe thead th {\n",
       "        text-align: right;\n",
       "    }\n",
       "</style>\n",
       "<table border=\"1\" class=\"dataframe\">\n",
       "  <thead>\n",
       "    <tr style=\"text-align: right;\">\n",
       "      <th></th>\n",
       "      <th>listing_id</th>\n",
       "      <th>review_id</th>\n",
       "      <th>date</th>\n",
       "      <th>reviewer_id</th>\n",
       "      <th>reviewer_name</th>\n",
       "      <th>reviews</th>\n",
       "      <th>year</th>\n",
       "    </tr>\n",
       "  </thead>\n",
       "  <tbody>\n",
       "    <tr>\n",
       "      <th>0</th>\n",
       "      <td>3831</td>\n",
       "      <td>721596793</td>\n",
       "      <td>2021-01-03</td>\n",
       "      <td>367990285</td>\n",
       "      <td>Mayra</td>\n",
       "      <td>i really like it she was nice and the places w...</td>\n",
       "      <td>2021</td>\n",
       "    </tr>\n",
       "  </tbody>\n",
       "</table>\n",
       "</div>"
      ],
      "text/plain": [
       "   listing_id  review_id        date  reviewer_id reviewer_name  \\\n",
       "0        3831  721596793  2021-01-03    367990285         Mayra   \n",
       "\n",
       "                                             reviews  year  \n",
       "0  i really like it she was nice and the places w...  2021  "
      ]
     },
     "execution_count": 15,
     "metadata": {},
     "output_type": "execute_result"
    }
   ],
   "source": [
    "subset[subset['review_id'] == '721596793']"
   ]
  },
  {
   "cell_type": "code",
   "execution_count": 16,
   "id": "portuguese-theater",
   "metadata": {},
   "outputs": [
    {
     "data": {
      "text/plain": [
       "'i really like it she was nice and the places was organize and clean'"
      ]
     },
     "execution_count": 16,
     "metadata": {},
     "output_type": "execute_result"
    }
   ],
   "source": [
    "subset.iloc[0, 5]"
   ]
  },
  {
   "cell_type": "code",
   "execution_count": 5,
   "id": "competitive-papua",
   "metadata": {},
   "outputs": [],
   "source": [
    "# stopwords to remove from corpus\n",
    "stopwords = nltk.corpus.stopwords.words('english')\n",
    "newStopWords = ['nyc','york', 'stayed', 'really', 'person', 'definitely', 'thank', 'thanks', 'staying', 'looking', 'just', 'stay',\n",
    "               'also', 'get', 'would', 'aa', 'aaa', 'aaaa', 'aaaaa', 'us', 'great', 'mirco', 'snes', 'myrdith', 'chandra', 'place', \n",
    "               'dolores', 'chen', 'even', 'monifa', 'dalton', 'well', 'mk', 'made', 'sahr', 'jt', 'thiago', 'hanna', 'shelly', 'faye',\n",
    "               'jamilya', 'bertha', 'aya', 'loyda', 'mete', 'tiziana', 'curtis', 'haythem', 'tio', 'however', 'bit', 'regina', 'erica',\n",
    "               'jenn','edgar', 'jeffrey', 'antonio', 'beatrix', 'tina', 'jesse', 'sammy', 'monika', 'freda', 'kelvin', 'sadie', 'mo',\n",
    "               'aleksandra', 'elvin', 'farhan', 'jhon', 'jade', 'barry', 'ingrid', 'kem', 'heide', 'je', 'nice', 'like', 'nathan', 'chad',\n",
    "               'yochi', 'raquel', 'kent', 'zach', 'christa', 'pamela', 'maralla', 'richelle', 'jeannie', 'bernardo', 'kyisvu', 'lauren',\n",
    "               'gina', 'lucien', 'gus', 'herman', 'darnell', 'wasnt', 'joseph', 'iso', 'emily', 'tracy', 'lynn', 'charlene', 'ronnie', \n",
    "               'rosa', 'jackie', 'reka', 'dante', 'dominik', 'rhita', 'pela', 'mia', 'martin', 'sean', 'sara', 'kimberley', 'alexandre', \n",
    "               'though', 'soon', 'victor', 'caroline', 'viviana', 'ron', 'matt', 'nick', 'tim', 'robin', 'monica', 'xavier', 'patricia',\n",
    "               'marjorie', 'teddy', 'maxime', 'loli', 'blanca', 'andressa', 'paulo', 'stacey', 'gillian', 'ross', 'dani', 'susi', 'agnes',\n",
    "               'javier', 'charisse', 'didnt', 'susi', 'lisas', 'christa', 'elle', 'ever', 'lakshan', 'yuval', 'laurenta', 'everything', \n",
    "               'jalen', 'albert', 'joe', 'lucilu', 'greg', 'conrad', 'jeff', 'frances', 'zachs', 'nadir', 'cara', 'olzhas', 'rena',\n",
    "               'petra', 'kat', 'laurens', 'gane', 'charles', 'martha', 'nora', 'jared', 'britt', 'abe', 'carrie', 'penny', 'harvin',\n",
    "               'lory', 'vikas', 'remi', 'tonia', 'svetlana', 'seans','holly', 'got', 'dont', 'know', 'let', 'could', 'absolutely',\n",
    "               'take', 'youre', 'quite', 'need', 'want', 'day', 'back', 'gave', 'enough', 'airbnb', 'anyone', 'ok', 'brooklyn', 'perfect',\n",
    "               'highly', 'amazing', 'location', 'manhattan', 'good', 'night', 'super', 'one', 'overall', 'two', 'say', 'another', 'said', \n",
    "               'people', 'awesome', 'highly', 'loved', 'enjoyed', 'spot', 'excellent', 'lovely', 'time', 'feel', 'sure', 'wonderful', 'recommend',\n",
    "               'recommended', 'upon', 'home', 'everyone', 'friends', 'apartment', 'beautiful', 'located', 'fantastic', 'needed', 'quick', 'quickly',\n",
    "               'may', 'high', 'due', 'long', 'things', 'city', 'trip', 'family', 'next', 'every', 'much', 'minutes', 'much', 'felt', 'check', 'use', 'easy',\n",
    "               'first', 'luggage', 'since', 'hours', 'able', 'never', 'go', 'best', 'see', 'house', 'lot', 'found', 'always', 'went', 'way',\n",
    "               'nights', 'without', 'took', 'think', 'still', 'week', 'spent', 'told', 'find', 'guests', 'especially', 'make', 'visit',\n",
    "               'better', 'met','experience', 'arrived','late','left','experience','morning','provided','early','flight','leave','came', 'away', 'come',\n",
    "               'meet', 'warm', 'going', 'ny', 'give', 'work', 'touches', 'cant', 'top', 'put', 'actually', 'extremely', 'anything', 'exactly',\n",
    "               'although', 'looks', 'hour']\n",
    "stopwords.extend(newStopWords)"
   ]
  },
  {
   "cell_type": "code",
   "execution_count": 24,
   "id": "supreme-protest",
   "metadata": {},
   "outputs": [],
   "source": [
    "# using tfidf vectorizer \n",
    "tf = TfidfVectorizer(stop_words=stopwords, min_df = 2, max_df=0.7)\n",
    "\n",
    "word_matrix = tf.fit_transform(subset['reviews'].values.astype('U'))\n",
    "\n",
    "vocab = tf.get_feature_names()"
   ]
  },
  {
   "cell_type": "code",
   "execution_count": 25,
   "id": "dedicated-whale",
   "metadata": {},
   "outputs": [
    {
     "data": {
      "text/plain": [
       "(30028, 9089)"
      ]
     },
     "execution_count": 25,
     "metadata": {},
     "output_type": "execute_result"
    }
   ],
   "source": [
    "word_matrix.shape"
   ]
  },
  {
   "cell_type": "code",
   "execution_count": 28,
   "id": "twelve-accreditation",
   "metadata": {
    "scrolled": true
   },
   "outputs": [
    {
     "data": {
      "text/plain": [
       "array([[1.        , 0.0372638 , 0.        , ..., 0.        , 0.        ,\n",
       "        0.04477809],\n",
       "       [0.0372638 , 1.        , 0.        , ..., 0.        , 0.02372792,\n",
       "        0.04770747],\n",
       "       [0.        , 0.        , 1.        , ..., 0.        , 0.02762954,\n",
       "        0.12482323],\n",
       "       ...,\n",
       "       [0.        , 0.        , 0.        , ..., 1.        , 0.        ,\n",
       "        0.        ],\n",
       "       [0.        , 0.02372792, 0.02762954, ..., 0.        , 1.        ,\n",
       "        0.03438784],\n",
       "       [0.04477809, 0.04770747, 0.12482323, ..., 0.        , 0.03438784,\n",
       "        1.        ]])"
      ]
     },
     "execution_count": 28,
     "metadata": {},
     "output_type": "execute_result"
    }
   ],
   "source": [
    "similarity_matrix = linear_kernel(word_matrix, word_matrix)\n",
    "similarity_matrix"
   ]
  },
  {
   "cell_type": "code",
   "execution_count": 103,
   "id": "instant-replica",
   "metadata": {},
   "outputs": [],
   "source": [
    "# saving matrix to local disk for use in streamlit\n",
    "np.save('similarity_matrix', similarity_matrix)"
   ]
  },
  {
   "cell_type": "code",
   "execution_count": 6,
   "id": "third-comparison",
   "metadata": {},
   "outputs": [],
   "source": [
    "similarity_matrix = np.load('similarity_matrix.npy')"
   ]
  },
  {
   "cell_type": "code",
   "execution_count": 7,
   "id": "accomplished-bidder",
   "metadata": {
    "scrolled": true
   },
   "outputs": [
    {
     "data": {
      "text/plain": [
       "review_id\n",
       "721596793        0\n",
       "722183142        1\n",
       "723999945        2\n",
       "724924853        3\n",
       "726611179        4\n",
       "             ...  \n",
       "745403987    30023\n",
       "747095440    30024\n",
       "746646430    30025\n",
       "745441070    30026\n",
       "746792106    30027\n",
       "Length: 30028, dtype: int64"
      ]
     },
     "execution_count": 7,
     "metadata": {},
     "output_type": "execute_result"
    }
   ],
   "source": [
    "mapping = pd.Series(subset.index,index = subset['review_id'])\n",
    "mapping"
   ]
  },
  {
   "cell_type": "code",
   "execution_count": 8,
   "id": "appropriate-martin",
   "metadata": {},
   "outputs": [
    {
     "data": {
      "text/plain": [
       "0"
      ]
     },
     "execution_count": 8,
     "metadata": {},
     "output_type": "execute_result"
    }
   ],
   "source": [
    "test = mapping['721596793']\n",
    "test"
   ]
  },
  {
   "cell_type": "code",
   "execution_count": 14,
   "id": "independent-testimony",
   "metadata": {},
   "outputs": [],
   "source": [
    "def recommend_listings_based_on_reviews(review):\n",
    "    review = str(review)\n",
    "    review_index = mapping[review]\n",
    "    \n",
    "#get similarity values with other movies\n",
    "#similarity_score is the list of index and similarity matrix\n",
    "\n",
    "    similarity_score = list(enumerate(similarity_matrix[review_index]))\n",
    "    \n",
    "#sort in descending order the similarity score of review inputted with all the other reviews\n",
    "    similarity_score = sorted(similarity_score, key=lambda x: x[1], reverse=True)\n",
    "    \n",
    "# Get the scores of the 5 most similar reviews. Ignore the first review.\n",
    "    similarity_score = similarity_score[1:6]\n",
    "    \n",
    "#return listing_id using the mapping series\n",
    "    review_indices = [i[0] for i in similarity_score]\n",
    "    return (subset[['listing_id', 'date', 'reviewer_id', 'review_id', 'reviews']].iloc[review_indices].set_index('date'))"
   ]
  },
  {
   "cell_type": "code",
   "execution_count": 15,
   "id": "municipal-infrastructure",
   "metadata": {},
   "outputs": [],
   "source": [
    "test2 = recommend_listings_based_on_reviews(721596793)"
   ]
  },
  {
   "cell_type": "code",
   "execution_count": 16,
   "id": "parliamentary-lawrence",
   "metadata": {},
   "outputs": [
    {
     "data": {
      "text/plain": [
       "pandas.core.frame.DataFrame"
      ]
     },
     "execution_count": 16,
     "metadata": {},
     "output_type": "execute_result"
    }
   ],
   "source": [
    "type(test2)"
   ]
  },
  {
   "cell_type": "code",
   "execution_count": 17,
   "id": "absolute-advice",
   "metadata": {
    "scrolled": true
   },
   "outputs": [
    {
     "data": {
      "text/html": [
       "<div>\n",
       "<style scoped>\n",
       "    .dataframe tbody tr th:only-of-type {\n",
       "        vertical-align: middle;\n",
       "    }\n",
       "\n",
       "    .dataframe tbody tr th {\n",
       "        vertical-align: top;\n",
       "    }\n",
       "\n",
       "    .dataframe thead th {\n",
       "        text-align: right;\n",
       "    }\n",
       "</style>\n",
       "<table border=\"1\" class=\"dataframe\">\n",
       "  <thead>\n",
       "    <tr style=\"text-align: right;\">\n",
       "      <th></th>\n",
       "      <th>listing_id</th>\n",
       "      <th>reviewer_id</th>\n",
       "      <th>review_id</th>\n",
       "      <th>reviews</th>\n",
       "    </tr>\n",
       "    <tr>\n",
       "      <th>date</th>\n",
       "      <th></th>\n",
       "      <th></th>\n",
       "      <th></th>\n",
       "      <th></th>\n",
       "    </tr>\n",
       "  </thead>\n",
       "  <tbody>\n",
       "    <tr>\n",
       "      <th>2021-01-25</th>\n",
       "      <td>47493324</td>\n",
       "      <td>168244038</td>\n",
       "      <td>726813614</td>\n",
       "      <td>clean and organize place and building</td>\n",
       "    </tr>\n",
       "    <tr>\n",
       "      <th>2021-01-31</th>\n",
       "      <td>10174662</td>\n",
       "      <td>123309142</td>\n",
       "      <td>728088248</td>\n",
       "      <td>it was a nice stay for us the place was very c...</td>\n",
       "    </tr>\n",
       "    <tr>\n",
       "      <th>2021-01-02</th>\n",
       "      <td>18890521</td>\n",
       "      <td>380148801</td>\n",
       "      <td>721065826</td>\n",
       "      <td>places was nice</td>\n",
       "    </tr>\n",
       "    <tr>\n",
       "      <th>2021-02-26</th>\n",
       "      <td>47020805</td>\n",
       "      <td>232393740</td>\n",
       "      <td>734530510</td>\n",
       "      <td>nice place very clean i like it</td>\n",
       "    </tr>\n",
       "    <tr>\n",
       "      <th>2021-04-02</th>\n",
       "      <td>44465355</td>\n",
       "      <td>362671069</td>\n",
       "      <td>744624220</td>\n",
       "      <td>this airbnb was very nice the home was clean a...</td>\n",
       "    </tr>\n",
       "  </tbody>\n",
       "</table>\n",
       "</div>"
      ],
      "text/plain": [
       "            listing_id  reviewer_id  review_id  \\\n",
       "date                                             \n",
       "2021-01-25    47493324    168244038  726813614   \n",
       "2021-01-31    10174662    123309142  728088248   \n",
       "2021-01-02    18890521    380148801  721065826   \n",
       "2021-02-26    47020805    232393740  734530510   \n",
       "2021-04-02    44465355    362671069  744624220   \n",
       "\n",
       "                                                      reviews  \n",
       "date                                                           \n",
       "2021-01-25              clean and organize place and building  \n",
       "2021-01-31  it was a nice stay for us the place was very c...  \n",
       "2021-01-02                                    places was nice  \n",
       "2021-02-26                    nice place very clean i like it  \n",
       "2021-04-02  this airbnb was very nice the home was clean a...  "
      ]
     },
     "execution_count": 17,
     "metadata": {},
     "output_type": "execute_result"
    }
   ],
   "source": [
    "test2"
   ]
  },
  {
   "cell_type": "markdown",
   "id": "organic-diesel",
   "metadata": {},
   "source": [
    "# Streamlit Code"
   ]
  },
  {
   "cell_type": "code",
   "execution_count": null,
   "id": "demanding-newport",
   "metadata": {},
   "outputs": [],
   "source": [
    "import streamlit as st\n",
    "import pandas as pd\n",
    "import numpy as np\n",
    "\n",
    "header = st.beta_container()\n",
    "\n",
    "with header:\n",
    "\tst.title('Airbnb Similar Reviews')\n",
    "\n",
    "similarity_matrix = np.load('similarity_matrix.npy')\n",
    "eng_reviews = pd.read_csv('subset2.csv')\n",
    "eng_reviews.review_id = eng_reviews.review_id.astype('str')\n",
    "mapping = pd.Series(eng_reviews.index,index = eng_reviews['review_id'])\n",
    "\n",
    "review = st.text_input('Search', '')\n",
    "def recommend_listings_based_on_reviews(review):\n",
    "    review = str(review)\n",
    "    review_index = mapping[review]\n",
    "    \n",
    "    similarity_score = list(enumerate(similarity_matrix[review_index]))\n",
    "\n",
    "    similarity_score = sorted(similarity_score, key=lambda x: x[1], reverse=True)\n",
    "    \n",
    "    similarity_score = similarity_score[1:6]\n",
    "\n",
    "    review_indices = [i[0] for i in similarity_score]\n",
    "    return (eng_reviews[['listing_id', 'date', 'reviewer_id', 'reviews']].iloc[review_indices].set_index('date'))\n",
    "\n",
    "button = st.button('Submit')\n",
    "if button:\n",
    "    output= recommend_listings_based_on_reviews(review)\n",
    "    st.table(output)\n"
   ]
  }
 ],
 "metadata": {
  "kernelspec": {
   "display_name": "Python [conda env:metis] *",
   "language": "python",
   "name": "conda-env-metis-py"
  },
  "language_info": {
   "codemirror_mode": {
    "name": "ipython",
    "version": 3
   },
   "file_extension": ".py",
   "mimetype": "text/x-python",
   "name": "python",
   "nbconvert_exporter": "python",
   "pygments_lexer": "ipython3",
   "version": "3.8.8"
  }
 },
 "nbformat": 4,
 "nbformat_minor": 5
}
